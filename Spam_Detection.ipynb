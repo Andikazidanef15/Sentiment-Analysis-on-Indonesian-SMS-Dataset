{
  "nbformat": 4,
  "nbformat_minor": 0,
  "metadata": {
    "colab": {
      "name": "Spam Detection.ipynb",
      "provenance": [],
      "collapsed_sections": [
        "5_H90fZ3pOOL",
        "FzQgcq3IPPVD",
        "XX-SCu6jcGBx"
      ],
      "toc_visible": true
    },
    "kernelspec": {
      "name": "python3",
      "display_name": "Python 3"
    },
    "language_info": {
      "name": "python"
    }
  },
  "cells": [
    {
      "cell_type": "code",
      "metadata": {
        "id": "Sx-CM0Bb_d8H"
      },
      "source": [
        "import pandas as pd\n",
        "import matplotlib.pyplot as plt\n",
        "import seaborn as sns\n",
        "plt.style.use('ggplot')"
      ],
      "execution_count": 1,
      "outputs": []
    },
    {
      "cell_type": "code",
      "metadata": {
        "id": "681_03z0zP9Q"
      },
      "source": [
        "import re"
      ],
      "execution_count": 2,
      "outputs": []
    },
    {
      "cell_type": "code",
      "metadata": {
        "colab": {
          "base_uri": "https://localhost:8080/"
        },
        "id": "qK6G4r1BZRxH",
        "outputId": "65ed775c-a705-4de0-94c5-6284ce37a240"
      },
      "source": [
        "from textblob import TextBlob\n",
        " \n",
        "a = \"aannndd\"           # incorrect spelling\n",
        "print(\"original text: \"+str(a))\n",
        " \n",
        "b = TextBlob(a)\n",
        " \n",
        "# prints the corrected spelling\n",
        "print(\"corrected text: \"+str(b.correct()))"
      ],
      "execution_count": 3,
      "outputs": [
        {
          "output_type": "stream",
          "text": [
            "original text: aannndd\n",
            "corrected text: aannndd\n"
          ],
          "name": "stdout"
        }
      ]
    },
    {
      "cell_type": "markdown",
      "metadata": {
        "id": "m36NJzQaZ9z1"
      },
      "source": [
        "# Exploratory Data Analysis"
      ]
    },
    {
      "cell_type": "code",
      "metadata": {
        "id": "dTRmVnPJ_M_N"
      },
      "source": [
        "# Import data\n",
        "data = pd.read_csv('dataset_sms_spam_v1.csv')"
      ],
      "execution_count": 4,
      "outputs": []
    },
    {
      "cell_type": "code",
      "metadata": {
        "colab": {
          "base_uri": "https://localhost:8080/",
          "height": 204
        },
        "id": "Dq5mVTu60hxQ",
        "outputId": "7643329f-a754-48b9-a76b-fa9a2973948a"
      },
      "source": [
        "data.head()"
      ],
      "execution_count": 5,
      "outputs": [
        {
          "output_type": "execute_result",
          "data": {
            "text/html": [
              "<div>\n",
              "<style scoped>\n",
              "    .dataframe tbody tr th:only-of-type {\n",
              "        vertical-align: middle;\n",
              "    }\n",
              "\n",
              "    .dataframe tbody tr th {\n",
              "        vertical-align: top;\n",
              "    }\n",
              "\n",
              "    .dataframe thead th {\n",
              "        text-align: right;\n",
              "    }\n",
              "</style>\n",
              "<table border=\"1\" class=\"dataframe\">\n",
              "  <thead>\n",
              "    <tr style=\"text-align: right;\">\n",
              "      <th></th>\n",
              "      <th>Teks</th>\n",
              "      <th>label</th>\n",
              "    </tr>\n",
              "  </thead>\n",
              "  <tbody>\n",
              "    <tr>\n",
              "      <th>0</th>\n",
              "      <td>[PROMO] Beli paket Flash mulai 1GB di MY TELKO...</td>\n",
              "      <td>2</td>\n",
              "    </tr>\n",
              "    <tr>\n",
              "      <th>1</th>\n",
              "      <td>2.5 GB/30 hari hanya Rp 35 Ribu Spesial buat A...</td>\n",
              "      <td>2</td>\n",
              "    </tr>\n",
              "    <tr>\n",
              "      <th>2</th>\n",
              "      <td>2016-07-08 11:47:11.Plg Yth, sisa kuota Flash ...</td>\n",
              "      <td>2</td>\n",
              "    </tr>\n",
              "    <tr>\n",
              "      <th>3</th>\n",
              "      <td>2016-08-07 11:29:47.Plg Yth, sisa kuota Flash ...</td>\n",
              "      <td>2</td>\n",
              "    </tr>\n",
              "    <tr>\n",
              "      <th>4</th>\n",
              "      <td>4.5GB/30 hari hanya Rp 55 Ribu Spesial buat an...</td>\n",
              "      <td>2</td>\n",
              "    </tr>\n",
              "  </tbody>\n",
              "</table>\n",
              "</div>"
            ],
            "text/plain": [
              "                                                Teks  label\n",
              "0  [PROMO] Beli paket Flash mulai 1GB di MY TELKO...      2\n",
              "1  2.5 GB/30 hari hanya Rp 35 Ribu Spesial buat A...      2\n",
              "2  2016-07-08 11:47:11.Plg Yth, sisa kuota Flash ...      2\n",
              "3  2016-08-07 11:29:47.Plg Yth, sisa kuota Flash ...      2\n",
              "4  4.5GB/30 hari hanya Rp 55 Ribu Spesial buat an...      2"
            ]
          },
          "metadata": {
            "tags": []
          },
          "execution_count": 5
        }
      ]
    },
    {
      "cell_type": "code",
      "metadata": {
        "id": "8qko7ZP7aZcQ"
      },
      "source": [
        "# Definisikan kamus untuk label\n",
        "kamus = {0: 'sms normal'\n",
        ",1: 'fraud atau penipuan',\n",
        "2: 'promo'}\n",
        "\n",
        "data['Sentiment'] = data.label.apply(lambda x: kamus.get(x))"
      ],
      "execution_count": 6,
      "outputs": []
    },
    {
      "cell_type": "code",
      "metadata": {
        "colab": {
          "base_uri": "https://localhost:8080/",
          "height": 204
        },
        "id": "bpU2eD24bDh7",
        "outputId": "f188269c-6e96-42a1-d378-290e155fae20"
      },
      "source": [
        "data.head()"
      ],
      "execution_count": 7,
      "outputs": [
        {
          "output_type": "execute_result",
          "data": {
            "text/html": [
              "<div>\n",
              "<style scoped>\n",
              "    .dataframe tbody tr th:only-of-type {\n",
              "        vertical-align: middle;\n",
              "    }\n",
              "\n",
              "    .dataframe tbody tr th {\n",
              "        vertical-align: top;\n",
              "    }\n",
              "\n",
              "    .dataframe thead th {\n",
              "        text-align: right;\n",
              "    }\n",
              "</style>\n",
              "<table border=\"1\" class=\"dataframe\">\n",
              "  <thead>\n",
              "    <tr style=\"text-align: right;\">\n",
              "      <th></th>\n",
              "      <th>Teks</th>\n",
              "      <th>label</th>\n",
              "      <th>Sentiment</th>\n",
              "    </tr>\n",
              "  </thead>\n",
              "  <tbody>\n",
              "    <tr>\n",
              "      <th>0</th>\n",
              "      <td>[PROMO] Beli paket Flash mulai 1GB di MY TELKO...</td>\n",
              "      <td>2</td>\n",
              "      <td>promo</td>\n",
              "    </tr>\n",
              "    <tr>\n",
              "      <th>1</th>\n",
              "      <td>2.5 GB/30 hari hanya Rp 35 Ribu Spesial buat A...</td>\n",
              "      <td>2</td>\n",
              "      <td>promo</td>\n",
              "    </tr>\n",
              "    <tr>\n",
              "      <th>2</th>\n",
              "      <td>2016-07-08 11:47:11.Plg Yth, sisa kuota Flash ...</td>\n",
              "      <td>2</td>\n",
              "      <td>promo</td>\n",
              "    </tr>\n",
              "    <tr>\n",
              "      <th>3</th>\n",
              "      <td>2016-08-07 11:29:47.Plg Yth, sisa kuota Flash ...</td>\n",
              "      <td>2</td>\n",
              "      <td>promo</td>\n",
              "    </tr>\n",
              "    <tr>\n",
              "      <th>4</th>\n",
              "      <td>4.5GB/30 hari hanya Rp 55 Ribu Spesial buat an...</td>\n",
              "      <td>2</td>\n",
              "      <td>promo</td>\n",
              "    </tr>\n",
              "  </tbody>\n",
              "</table>\n",
              "</div>"
            ],
            "text/plain": [
              "                                                Teks  label Sentiment\n",
              "0  [PROMO] Beli paket Flash mulai 1GB di MY TELKO...      2     promo\n",
              "1  2.5 GB/30 hari hanya Rp 35 Ribu Spesial buat A...      2     promo\n",
              "2  2016-07-08 11:47:11.Plg Yth, sisa kuota Flash ...      2     promo\n",
              "3  2016-08-07 11:29:47.Plg Yth, sisa kuota Flash ...      2     promo\n",
              "4  4.5GB/30 hari hanya Rp 55 Ribu Spesial buat an...      2     promo"
            ]
          },
          "metadata": {
            "tags": []
          },
          "execution_count": 7
        }
      ]
    },
    {
      "cell_type": "code",
      "metadata": {
        "colab": {
          "base_uri": "https://localhost:8080/"
        },
        "id": "Ht6bMSYIZrNV",
        "outputId": "b911b90e-6828-4ec3-d10a-963e8f27a568"
      },
      "source": [
        "data.shape"
      ],
      "execution_count": 8,
      "outputs": [
        {
          "output_type": "execute_result",
          "data": {
            "text/plain": [
              "(1143, 3)"
            ]
          },
          "metadata": {
            "tags": []
          },
          "execution_count": 8
        }
      ]
    },
    {
      "cell_type": "code",
      "metadata": {
        "colab": {
          "base_uri": "https://localhost:8080/"
        },
        "id": "eBJPwWczZ6QG",
        "outputId": "6a95accf-29f5-4df0-faf0-07215b37cf4c"
      },
      "source": [
        "data.info()"
      ],
      "execution_count": 9,
      "outputs": [
        {
          "output_type": "stream",
          "text": [
            "<class 'pandas.core.frame.DataFrame'>\n",
            "RangeIndex: 1143 entries, 0 to 1142\n",
            "Data columns (total 3 columns):\n",
            " #   Column     Non-Null Count  Dtype \n",
            "---  ------     --------------  ----- \n",
            " 0   Teks       1143 non-null   object\n",
            " 1   label      1143 non-null   int64 \n",
            " 2   Sentiment  1143 non-null   object\n",
            "dtypes: int64(1), object(2)\n",
            "memory usage: 26.9+ KB\n"
          ],
          "name": "stdout"
        }
      ]
    },
    {
      "cell_type": "markdown",
      "metadata": {
        "id": "lf6-MdATZ76k"
      },
      "source": [
        "Tidak ada null values"
      ]
    },
    {
      "cell_type": "code",
      "metadata": {
        "colab": {
          "base_uri": "https://localhost:8080/",
          "height": 297
        },
        "id": "K_mFcM0uaFxm",
        "outputId": "8a66508d-8880-4b6b-9fc0-1a2f5fddfac9"
      },
      "source": [
        "data.describe()"
      ],
      "execution_count": 10,
      "outputs": [
        {
          "output_type": "execute_result",
          "data": {
            "text/html": [
              "<div>\n",
              "<style scoped>\n",
              "    .dataframe tbody tr th:only-of-type {\n",
              "        vertical-align: middle;\n",
              "    }\n",
              "\n",
              "    .dataframe tbody tr th {\n",
              "        vertical-align: top;\n",
              "    }\n",
              "\n",
              "    .dataframe thead th {\n",
              "        text-align: right;\n",
              "    }\n",
              "</style>\n",
              "<table border=\"1\" class=\"dataframe\">\n",
              "  <thead>\n",
              "    <tr style=\"text-align: right;\">\n",
              "      <th></th>\n",
              "      <th>label</th>\n",
              "    </tr>\n",
              "  </thead>\n",
              "  <tbody>\n",
              "    <tr>\n",
              "      <th>count</th>\n",
              "      <td>1143.000000</td>\n",
              "    </tr>\n",
              "    <tr>\n",
              "      <th>mean</th>\n",
              "      <td>0.711286</td>\n",
              "    </tr>\n",
              "    <tr>\n",
              "      <th>std</th>\n",
              "      <td>0.790001</td>\n",
              "    </tr>\n",
              "    <tr>\n",
              "      <th>min</th>\n",
              "      <td>0.000000</td>\n",
              "    </tr>\n",
              "    <tr>\n",
              "      <th>25%</th>\n",
              "      <td>0.000000</td>\n",
              "    </tr>\n",
              "    <tr>\n",
              "      <th>50%</th>\n",
              "      <td>1.000000</td>\n",
              "    </tr>\n",
              "    <tr>\n",
              "      <th>75%</th>\n",
              "      <td>1.000000</td>\n",
              "    </tr>\n",
              "    <tr>\n",
              "      <th>max</th>\n",
              "      <td>2.000000</td>\n",
              "    </tr>\n",
              "  </tbody>\n",
              "</table>\n",
              "</div>"
            ],
            "text/plain": [
              "             label\n",
              "count  1143.000000\n",
              "mean      0.711286\n",
              "std       0.790001\n",
              "min       0.000000\n",
              "25%       0.000000\n",
              "50%       1.000000\n",
              "75%       1.000000\n",
              "max       2.000000"
            ]
          },
          "metadata": {
            "tags": []
          },
          "execution_count": 10
        }
      ]
    },
    {
      "cell_type": "markdown",
      "metadata": {
        "id": "tKeYBT90ddk3"
      },
      "source": [
        "## Jumlah Sentiment"
      ]
    },
    {
      "cell_type": "code",
      "metadata": {
        "colab": {
          "base_uri": "https://localhost:8080/",
          "height": 103
        },
        "id": "EkX21g3gaKVs",
        "outputId": "5f38a5d4-43a4-4e63-9b07-861479e7e959"
      },
      "source": [
        "# Menghitung jumlah sentiment untuk tiap kategori\n",
        "cm = sns.light_palette(\"green\", as_cmap=True)\n",
        "sent_count = data.groupby('Sentiment')['Teks'].count().reset_index().sort_values(by = 'Teks', ascending = False)\n",
        "sent_count.style.background_gradient(cmap = 'Purples')"
      ],
      "execution_count": 11,
      "outputs": [
        {
          "output_type": "execute_result",
          "data": {
            "text/html": [
              "<style  type=\"text/css\" >\n",
              "#T_bbff67ca_fd09_11eb_820f_0242ac1c0002row0_col1{\n",
              "            background-color:  #3f007d;\n",
              "            color:  #f1f1f1;\n",
              "        }#T_bbff67ca_fd09_11eb_820f_0242ac1c0002row1_col1{\n",
              "            background-color:  #d0d1e6;\n",
              "            color:  #000000;\n",
              "        }#T_bbff67ca_fd09_11eb_820f_0242ac1c0002row2_col1{\n",
              "            background-color:  #fcfbfd;\n",
              "            color:  #000000;\n",
              "        }</style><table id=\"T_bbff67ca_fd09_11eb_820f_0242ac1c0002\" ><thead>    <tr>        <th class=\"blank level0\" ></th>        <th class=\"col_heading level0 col0\" >Sentiment</th>        <th class=\"col_heading level0 col1\" >Teks</th>    </tr></thead><tbody>\n",
              "                <tr>\n",
              "                        <th id=\"T_bbff67ca_fd09_11eb_820f_0242ac1c0002level0_row0\" class=\"row_heading level0 row0\" >2</th>\n",
              "                        <td id=\"T_bbff67ca_fd09_11eb_820f_0242ac1c0002row0_col0\" class=\"data row0 col0\" >sms normal</td>\n",
              "                        <td id=\"T_bbff67ca_fd09_11eb_820f_0242ac1c0002row0_col1\" class=\"data row0 col1\" >569</td>\n",
              "            </tr>\n",
              "            <tr>\n",
              "                        <th id=\"T_bbff67ca_fd09_11eb_820f_0242ac1c0002level0_row1\" class=\"row_heading level0 row1\" >0</th>\n",
              "                        <td id=\"T_bbff67ca_fd09_11eb_820f_0242ac1c0002row1_col0\" class=\"data row1 col0\" >fraud atau penipuan</td>\n",
              "                        <td id=\"T_bbff67ca_fd09_11eb_820f_0242ac1c0002row1_col1\" class=\"data row1 col1\" >335</td>\n",
              "            </tr>\n",
              "            <tr>\n",
              "                        <th id=\"T_bbff67ca_fd09_11eb_820f_0242ac1c0002level0_row2\" class=\"row_heading level0 row2\" >1</th>\n",
              "                        <td id=\"T_bbff67ca_fd09_11eb_820f_0242ac1c0002row2_col0\" class=\"data row2 col0\" >promo</td>\n",
              "                        <td id=\"T_bbff67ca_fd09_11eb_820f_0242ac1c0002row2_col1\" class=\"data row2 col1\" >239</td>\n",
              "            </tr>\n",
              "    </tbody></table>"
            ],
            "text/plain": [
              "<pandas.io.formats.style.Styler at 0x7f87c06a4d50>"
            ]
          },
          "metadata": {
            "tags": []
          },
          "execution_count": 11
        }
      ]
    },
    {
      "cell_type": "code",
      "metadata": {
        "colab": {
          "base_uri": "https://localhost:8080/",
          "height": 391
        },
        "id": "dpF44PGUbkiH",
        "outputId": "96976b01-f4ec-4b77-856a-4dee8188a72b"
      },
      "source": [
        "plt.figure(figsize = (12, 6))\n",
        "sns.countplot(x = 'Sentiment', data = data)\n",
        "plt.show()"
      ],
      "execution_count": 12,
      "outputs": [
        {
          "output_type": "display_data",
          "data": {
            "image/png": "[encoded data removed]",
            "text/plain": [
              "<Figure size 864x432 with 1 Axes>"
            ]
          },
          "metadata": {
            "tags": [],
            "needs_background": "light"
          }
        }
      ]
    },
    {
      "cell_type": "markdown",
      "metadata": {
        "id": "_AcHxiAtdfp9"
      },
      "source": [
        "## Jumlah Huruf"
      ]
    },
    {
      "cell_type": "code",
      "metadata": {
        "id": "FdZYVb1JdukI"
      },
      "source": [
        "def char_count(sentence):\n",
        "  sentence = sentence.replace(\" \",\"\")\n",
        "  return len(sentence)\n",
        "\n",
        "data['char_count'] = data['Teks'].apply(char_count)"
      ],
      "execution_count": 13,
      "outputs": []
    },
    {
      "cell_type": "code",
      "metadata": {
        "colab": {
          "base_uri": "https://localhost:8080/",
          "height": 391
        },
        "id": "Fzx74Fqhd3HF",
        "outputId": "383eb20e-bbd6-4cff-de2a-e69a9cd5ef41"
      },
      "source": [
        "plt.figure(figsize = (12,6))\n",
        "sns.kdeplot(x = 'char_count', hue = 'Sentiment', shade = True, data = data)\n",
        "plt.show()"
      ],
      "execution_count": 14,
      "outputs": [
        {
          "output_type": "display_data",
          "data": {
            "image/png": "[encoded data removed]",
            "text/plain": [
              "<Figure size 864x432 with 1 Axes>"
            ]
          },
          "metadata": {
            "tags": [],
            "needs_background": "light"
          }
        }
      ]
    },
    {
      "cell_type": "markdown",
      "metadata": {
        "id": "YKfqNGGX-K0o"
      },
      "source": [
        "Rata-rata sentiment yang berbau penipuan memiliki 100-200 huruf"
      ]
    },
    {
      "cell_type": "code",
      "metadata": {
        "colab": {
          "base_uri": "https://localhost:8080/",
          "height": 297
        },
        "id": "4sczvMg1-ku3",
        "outputId": "6cb121ba-f700-429b-8bdc-38ccf501502a"
      },
      "source": [
        "data['char_count'].describe().to_frame()"
      ],
      "execution_count": 15,
      "outputs": [
        {
          "output_type": "execute_result",
          "data": {
            "text/html": [
              "<div>\n",
              "<style scoped>\n",
              "    .dataframe tbody tr th:only-of-type {\n",
              "        vertical-align: middle;\n",
              "    }\n",
              "\n",
              "    .dataframe tbody tr th {\n",
              "        vertical-align: top;\n",
              "    }\n",
              "\n",
              "    .dataframe thead th {\n",
              "        text-align: right;\n",
              "    }\n",
              "</style>\n",
              "<table border=\"1\" class=\"dataframe\">\n",
              "  <thead>\n",
              "    <tr style=\"text-align: right;\">\n",
              "      <th></th>\n",
              "      <th>char_count</th>\n",
              "    </tr>\n",
              "  </thead>\n",
              "  <tbody>\n",
              "    <tr>\n",
              "      <th>count</th>\n",
              "      <td>1143.000000</td>\n",
              "    </tr>\n",
              "    <tr>\n",
              "      <th>mean</th>\n",
              "      <td>92.974628</td>\n",
              "    </tr>\n",
              "    <tr>\n",
              "      <th>std</th>\n",
              "      <td>51.178256</td>\n",
              "    </tr>\n",
              "    <tr>\n",
              "      <th>min</th>\n",
              "      <td>10.000000</td>\n",
              "    </tr>\n",
              "    <tr>\n",
              "      <th>25%</th>\n",
              "      <td>49.000000</td>\n",
              "    </tr>\n",
              "    <tr>\n",
              "      <th>50%</th>\n",
              "      <td>95.000000</td>\n",
              "    </tr>\n",
              "    <tr>\n",
              "      <th>75%</th>\n",
              "      <td>130.000000</td>\n",
              "    </tr>\n",
              "    <tr>\n",
              "      <th>max</th>\n",
              "      <td>373.000000</td>\n",
              "    </tr>\n",
              "  </tbody>\n",
              "</table>\n",
              "</div>"
            ],
            "text/plain": [
              "        char_count\n",
              "count  1143.000000\n",
              "mean     92.974628\n",
              "std      51.178256\n",
              "min      10.000000\n",
              "25%      49.000000\n",
              "50%      95.000000\n",
              "75%     130.000000\n",
              "max     373.000000"
            ]
          },
          "metadata": {
            "tags": []
          },
          "execution_count": 15
        }
      ]
    },
    {
      "cell_type": "markdown",
      "metadata": {
        "id": "Ldzochei-sNw"
      },
      "source": [
        "Paling sedikit terdapat 13 huruf sementara paling banyak terdapat 434 huruf. Rata-rata huruf yang digunakan ada 109 huruf"
      ]
    },
    {
      "cell_type": "markdown",
      "metadata": {
        "id": "D0T5IzK3-Wm3"
      },
      "source": [
        "## Jumlah Kata"
      ]
    },
    {
      "cell_type": "code",
      "metadata": {
        "id": "T5Vj97Sp-Xb_"
      },
      "source": [
        "def word_count(sentence):\n",
        "  sentence = sentence.split()\n",
        "  return len(sentence)\n",
        "\n",
        "data['word_count'] = data['Teks'].apply(word_count)"
      ],
      "execution_count": 16,
      "outputs": []
    },
    {
      "cell_type": "code",
      "metadata": {
        "colab": {
          "base_uri": "https://localhost:8080/",
          "height": 204
        },
        "id": "Y2f5WwkA-VZa",
        "outputId": "414cae5e-e39f-432c-eb04-a8b3cec1c229"
      },
      "source": [
        "data.head()"
      ],
      "execution_count": 17,
      "outputs": [
        {
          "output_type": "execute_result",
          "data": {
            "text/html": [
              "<div>\n",
              "<style scoped>\n",
              "    .dataframe tbody tr th:only-of-type {\n",
              "        vertical-align: middle;\n",
              "    }\n",
              "\n",
              "    .dataframe tbody tr th {\n",
              "        vertical-align: top;\n",
              "    }\n",
              "\n",
              "    .dataframe thead th {\n",
              "        text-align: right;\n",
              "    }\n",
              "</style>\n",
              "<table border=\"1\" class=\"dataframe\">\n",
              "  <thead>\n",
              "    <tr style=\"text-align: right;\">\n",
              "      <th></th>\n",
              "      <th>Teks</th>\n",
              "      <th>label</th>\n",
              "      <th>Sentiment</th>\n",
              "      <th>char_count</th>\n",
              "      <th>word_count</th>\n",
              "    </tr>\n",
              "  </thead>\n",
              "  <tbody>\n",
              "    <tr>\n",
              "      <th>0</th>\n",
              "      <td>[PROMO] Beli paket Flash mulai 1GB di MY TELKO...</td>\n",
              "      <td>2</td>\n",
              "      <td>promo</td>\n",
              "      <td>127</td>\n",
              "      <td>26</td>\n",
              "    </tr>\n",
              "    <tr>\n",
              "      <th>1</th>\n",
              "      <td>2.5 GB/30 hari hanya Rp 35 Ribu Spesial buat A...</td>\n",
              "      <td>2</td>\n",
              "      <td>promo</td>\n",
              "      <td>128</td>\n",
              "      <td>25</td>\n",
              "    </tr>\n",
              "    <tr>\n",
              "      <th>2</th>\n",
              "      <td>2016-07-08 11:47:11.Plg Yth, sisa kuota Flash ...</td>\n",
              "      <td>2</td>\n",
              "      <td>promo</td>\n",
              "      <td>132</td>\n",
              "      <td>21</td>\n",
              "    </tr>\n",
              "    <tr>\n",
              "      <th>3</th>\n",
              "      <td>2016-08-07 11:29:47.Plg Yth, sisa kuota Flash ...</td>\n",
              "      <td>2</td>\n",
              "      <td>promo</td>\n",
              "      <td>133</td>\n",
              "      <td>21</td>\n",
              "    </tr>\n",
              "    <tr>\n",
              "      <th>4</th>\n",
              "      <td>4.5GB/30 hari hanya Rp 55 Ribu Spesial buat an...</td>\n",
              "      <td>2</td>\n",
              "      <td>promo</td>\n",
              "      <td>96</td>\n",
              "      <td>18</td>\n",
              "    </tr>\n",
              "  </tbody>\n",
              "</table>\n",
              "</div>"
            ],
            "text/plain": [
              "                                                Teks  ...  word_count\n",
              "0  [PROMO] Beli paket Flash mulai 1GB di MY TELKO...  ...          26\n",
              "1  2.5 GB/30 hari hanya Rp 35 Ribu Spesial buat A...  ...          25\n",
              "2  2016-07-08 11:47:11.Plg Yth, sisa kuota Flash ...  ...          21\n",
              "3  2016-08-07 11:29:47.Plg Yth, sisa kuota Flash ...  ...          21\n",
              "4  4.5GB/30 hari hanya Rp 55 Ribu Spesial buat an...  ...          18\n",
              "\n",
              "[5 rows x 5 columns]"
            ]
          },
          "metadata": {
            "tags": []
          },
          "execution_count": 17
        }
      ]
    },
    {
      "cell_type": "code",
      "metadata": {
        "colab": {
          "base_uri": "https://localhost:8080/",
          "height": 391
        },
        "id": "WCS8M9E1-7ew",
        "outputId": "5df4d1d8-e76b-46ea-9e02-d77340286851"
      },
      "source": [
        "plt.figure(figsize = (12,6))\n",
        "sns.kdeplot(x = 'word_count', hue = 'Sentiment', shade = True, data = data)\n",
        "plt.show()"
      ],
      "execution_count": 18,
      "outputs": [
        {
          "output_type": "display_data",
          "data": {
            "image/png": "[encoded data removed]",
            "text/plain": [
              "<Figure size 864x432 with 1 Axes>"
            ]
          },
          "metadata": {
            "tags": [],
            "needs_background": "light"
          }
        }
      ]
    },
    {
      "cell_type": "markdown",
      "metadata": {
        "id": "IoDU0XpL_Mud"
      },
      "source": [
        "Bisa dilihat terdapat perbedaan yang mencolok antara sentiment berbau fraud, promo dan sms normal"
      ]
    },
    {
      "cell_type": "code",
      "metadata": {
        "colab": {
          "base_uri": "https://localhost:8080/",
          "height": 297
        },
        "id": "WhYMYeKG_aci",
        "outputId": "ab1abe02-1551-4be9-d287-24c550ded418"
      },
      "source": [
        "data['word_count'].describe().to_frame()"
      ],
      "execution_count": 19,
      "outputs": [
        {
          "output_type": "execute_result",
          "data": {
            "text/html": [
              "<div>\n",
              "<style scoped>\n",
              "    .dataframe tbody tr th:only-of-type {\n",
              "        vertical-align: middle;\n",
              "    }\n",
              "\n",
              "    .dataframe tbody tr th {\n",
              "        vertical-align: top;\n",
              "    }\n",
              "\n",
              "    .dataframe thead th {\n",
              "        text-align: right;\n",
              "    }\n",
              "</style>\n",
              "<table border=\"1\" class=\"dataframe\">\n",
              "  <thead>\n",
              "    <tr style=\"text-align: right;\">\n",
              "      <th></th>\n",
              "      <th>word_count</th>\n",
              "    </tr>\n",
              "  </thead>\n",
              "  <tbody>\n",
              "    <tr>\n",
              "      <th>count</th>\n",
              "      <td>1143.000000</td>\n",
              "    </tr>\n",
              "    <tr>\n",
              "      <th>mean</th>\n",
              "      <td>16.687664</td>\n",
              "    </tr>\n",
              "    <tr>\n",
              "      <th>std</th>\n",
              "      <td>8.439519</td>\n",
              "    </tr>\n",
              "    <tr>\n",
              "      <th>min</th>\n",
              "      <td>2.000000</td>\n",
              "    </tr>\n",
              "    <tr>\n",
              "      <th>25%</th>\n",
              "      <td>10.000000</td>\n",
              "    </tr>\n",
              "    <tr>\n",
              "      <th>50%</th>\n",
              "      <td>17.000000</td>\n",
              "    </tr>\n",
              "    <tr>\n",
              "      <th>75%</th>\n",
              "      <td>22.000000</td>\n",
              "    </tr>\n",
              "    <tr>\n",
              "      <th>max</th>\n",
              "      <td>63.000000</td>\n",
              "    </tr>\n",
              "  </tbody>\n",
              "</table>\n",
              "</div>"
            ],
            "text/plain": [
              "        word_count\n",
              "count  1143.000000\n",
              "mean     16.687664\n",
              "std       8.439519\n",
              "min       2.000000\n",
              "25%      10.000000\n",
              "50%      17.000000\n",
              "75%      22.000000\n",
              "max      63.000000"
            ]
          },
          "metadata": {
            "tags": []
          },
          "execution_count": 19
        }
      ]
    },
    {
      "cell_type": "markdown",
      "metadata": {
        "id": "OvNchnFi_v-P"
      },
      "source": [
        "Minimal kata yang digunakan ada 2 kata, maksimal terdapat 63 kata, rata-rata terdapat 17 kata"
      ]
    },
    {
      "cell_type": "markdown",
      "metadata": {
        "id": "s7WYEfODB2vs"
      },
      "source": [
        "# Text Cleaning"
      ]
    },
    {
      "cell_type": "code",
      "metadata": {
        "colab": {
          "base_uri": "https://localhost:8080/"
        },
        "id": "EX2VVPJU_4bX",
        "outputId": "154827db-a8bf-45af-ce3e-1d5b4ef561b7"
      },
      "source": [
        "!pip install PySastrawi"
      ],
      "execution_count": 49,
      "outputs": [
        {
          "output_type": "stream",
          "text": [
            "Collecting PySastrawi\n",
            "  Downloading PySastrawi-1.2.0-py2.py3-none-any.whl (210 kB)\n",
            "\u001b[?25l\r\u001b[K     |█▋                              | 10 kB 19.9 MB/s eta 0:00:01\r\u001b[K     |███▏                            | 20 kB 23.3 MB/s eta 0:00:01\r\u001b[K     |████▊                           | 30 kB 15.6 MB/s eta 0:00:01\r\u001b[K     |██████▎                         | 40 kB 10.5 MB/s eta 0:00:01\r\u001b[K     |███████▉                        | 51 kB 5.6 MB/s eta 0:00:01\r\u001b[K     |█████████▍                      | 61 kB 5.6 MB/s eta 0:00:01\r\u001b[K     |███████████                     | 71 kB 5.2 MB/s eta 0:00:01\r\u001b[K     |████████████▌                   | 81 kB 5.8 MB/s eta 0:00:01\r\u001b[K     |██████████████                  | 92 kB 5.7 MB/s eta 0:00:01\r\u001b[K     |███████████████▋                | 102 kB 5.2 MB/s eta 0:00:01\r\u001b[K     |█████████████████▏              | 112 kB 5.2 MB/s eta 0:00:01\r\u001b[K     |██████████████████▊             | 122 kB 5.2 MB/s eta 0:00:01\r\u001b[K     |████████████████████▎           | 133 kB 5.2 MB/s eta 0:00:01\r\u001b[K     |█████████████████████▉          | 143 kB 5.2 MB/s eta 0:00:01\r\u001b[K     |███████████████████████▍        | 153 kB 5.2 MB/s eta 0:00:01\r\u001b[K     |█████████████████████████       | 163 kB 5.2 MB/s eta 0:00:01\r\u001b[K     |██████████████████████████▌     | 174 kB 5.2 MB/s eta 0:00:01\r\u001b[K     |████████████████████████████    | 184 kB 5.2 MB/s eta 0:00:01\r\u001b[K     |█████████████████████████████▋  | 194 kB 5.2 MB/s eta 0:00:01\r\u001b[K     |███████████████████████████████▏| 204 kB 5.2 MB/s eta 0:00:01\r\u001b[K     |████████████████████████████████| 210 kB 5.2 MB/s \n",
            "\u001b[?25hInstalling collected packages: PySastrawi\n",
            "Successfully installed PySastrawi-1.2.0\n"
          ],
          "name": "stdout"
        }
      ]
    },
    {
      "cell_type": "code",
      "metadata": {
        "id": "DSG10r3Cdgsu"
      },
      "source": [
        "import re"
      ],
      "execution_count": 20,
      "outputs": []
    },
    {
      "cell_type": "code",
      "metadata": {
        "id": "0Cv_z2y3j1ur"
      },
      "source": [
        "from wordcloud import WordCloud, STOPWORDS, ImageColorGenerator\n",
        "from spacy.lang.id.stop_words import STOP_WORDS\n",
        "from collections import Counter"
      ],
      "execution_count": 21,
      "outputs": []
    },
    {
      "cell_type": "code",
      "metadata": {
        "id": "ZNAcuw5JlB25"
      },
      "source": [
        ""
      ],
      "execution_count": null,
      "outputs": []
    },
    {
      "cell_type": "code",
      "metadata": {
        "colab": {
          "base_uri": "https://localhost:8080/",
          "height": 419
        },
        "id": "UVCfTccec7-o",
        "outputId": "9ad8a232-7c9c-44e2-fa5e-8daa34a7ca57"
      },
      "source": [
        "data[data[\"Sentiment\"] == \"fraud atau penipuan\"]"
      ],
      "execution_count": 22,
      "outputs": [
        {
          "output_type": "execute_result",
          "data": {
            "text/html": [
              "<div>\n",
              "<style scoped>\n",
              "    .dataframe tbody tr th:only-of-type {\n",
              "        vertical-align: middle;\n",
              "    }\n",
              "\n",
              "    .dataframe tbody tr th {\n",
              "        vertical-align: top;\n",
              "    }\n",
              "\n",
              "    .dataframe thead th {\n",
              "        text-align: right;\n",
              "    }\n",
              "</style>\n",
              "<table border=\"1\" class=\"dataframe\">\n",
              "  <thead>\n",
              "    <tr style=\"text-align: right;\">\n",
              "      <th></th>\n",
              "      <th>Teks</th>\n",
              "      <th>label</th>\n",
              "      <th>Sentiment</th>\n",
              "      <th>char_count</th>\n",
              "      <th>word_count</th>\n",
              "    </tr>\n",
              "  </thead>\n",
              "  <tbody>\n",
              "    <tr>\n",
              "      <th>239</th>\n",
              "      <td>Jika anda bermasalah dgn CC/KT@, stres dgn bun...</td>\n",
              "      <td>1</td>\n",
              "      <td>fraud atau penipuan</td>\n",
              "      <td>104</td>\n",
              "      <td>16</td>\n",
              "    </tr>\n",
              "    <tr>\n",
              "      <th>240</th>\n",
              "      <td>Lelah byr min payment? Kami Solusinya, bantu s...</td>\n",
              "      <td>1</td>\n",
              "      <td>fraud atau penipuan</td>\n",
              "      <td>121</td>\n",
              "      <td>17</td>\n",
              "    </tr>\n",
              "    <tr>\n",
              "      <th>241</th>\n",
              "      <td>Dana Tunai (KTA) bunga 0,99% hingga 300 jt. Sy...</td>\n",
              "      <td>1</td>\n",
              "      <td>fraud atau penipuan</td>\n",
              "      <td>123</td>\n",
              "      <td>28</td>\n",
              "    </tr>\n",
              "    <tr>\n",
              "      <th>242</th>\n",
              "      <td>“ROXI CELL” Hanya dengan Rp.100rb Anda bisa ja...</td>\n",
              "      <td>1</td>\n",
              "      <td>fraud atau penipuan</td>\n",
              "      <td>139</td>\n",
              "      <td>21</td>\n",
              "    </tr>\n",
              "    <tr>\n",
              "      <th>243</th>\n",
              "      <td>3 RAMADHAN Selamat Anda Pemenang Rp.100jt. PIN...</td>\n",
              "      <td>1</td>\n",
              "      <td>fraud atau penipuan</td>\n",
              "      <td>90</td>\n",
              "      <td>11</td>\n",
              "    </tr>\n",
              "    <tr>\n",
              "      <th>...</th>\n",
              "      <td>...</td>\n",
              "      <td>...</td>\n",
              "      <td>...</td>\n",
              "      <td>...</td>\n",
              "      <td>...</td>\n",
              "    </tr>\n",
              "    <tr>\n",
              "      <th>569</th>\n",
              "      <td>Yth Bpk/Ibu. BNI menyatakan Rekening anda terp...</td>\n",
              "      <td>1</td>\n",
              "      <td>fraud atau penipuan</td>\n",
              "      <td>128</td>\n",
              "      <td>19</td>\n",
              "    </tr>\n",
              "    <tr>\n",
              "      <th>570</th>\n",
              "      <td>Yth Isti Sofiyah. Diminta Segera Hubungi Bpk D...</td>\n",
              "      <td>1</td>\n",
              "      <td>fraud atau penipuan</td>\n",
              "      <td>129</td>\n",
              "      <td>23</td>\n",
              "    </tr>\n",
              "    <tr>\n",
              "      <th>571</th>\n",
              "      <td>YTH kpd bpk/ibu sy Eka Novitasari kariyawan 3c...</td>\n",
              "      <td>1</td>\n",
              "      <td>fraud atau penipuan</td>\n",
              "      <td>285</td>\n",
              "      <td>49</td>\n",
              "    </tr>\n",
              "    <tr>\n",
              "      <th>572</th>\n",
              "      <td>YTH,MIitra Silahkan cek poin anda dan tukarkan...</td>\n",
              "      <td>1</td>\n",
              "      <td>fraud atau penipuan</td>\n",
              "      <td>89</td>\n",
              "      <td>16</td>\n",
              "    </tr>\n",
              "    <tr>\n",
              "      <th>573</th>\n",
              "      <td>Yuk Ikuti akun dakwah, caranya: ketik IKUT [sp...</td>\n",
              "      <td>1</td>\n",
              "      <td>fraud atau penipuan</td>\n",
              "      <td>76</td>\n",
              "      <td>12</td>\n",
              "    </tr>\n",
              "  </tbody>\n",
              "</table>\n",
              "<p>335 rows × 5 columns</p>\n",
              "</div>"
            ],
            "text/plain": [
              "                                                  Teks  ...  word_count\n",
              "239  Jika anda bermasalah dgn CC/KT@, stres dgn bun...  ...          16\n",
              "240  Lelah byr min payment? Kami Solusinya, bantu s...  ...          17\n",
              "241  Dana Tunai (KTA) bunga 0,99% hingga 300 jt. Sy...  ...          28\n",
              "242  “ROXI CELL” Hanya dengan Rp.100rb Anda bisa ja...  ...          21\n",
              "243  3 RAMADHAN Selamat Anda Pemenang Rp.100jt. PIN...  ...          11\n",
              "..                                                 ...  ...         ...\n",
              "569  Yth Bpk/Ibu. BNI menyatakan Rekening anda terp...  ...          19\n",
              "570  Yth Isti Sofiyah. Diminta Segera Hubungi Bpk D...  ...          23\n",
              "571  YTH kpd bpk/ibu sy Eka Novitasari kariyawan 3c...  ...          49\n",
              "572  YTH,MIitra Silahkan cek poin anda dan tukarkan...  ...          16\n",
              "573  Yuk Ikuti akun dakwah, caranya: ketik IKUT [sp...  ...          12\n",
              "\n",
              "[335 rows x 5 columns]"
            ]
          },
          "metadata": {
            "tags": []
          },
          "execution_count": 22
        }
      ]
    },
    {
      "cell_type": "code",
      "metadata": {
        "colab": {
          "base_uri": "https://localhost:8080/",
          "height": 35
        },
        "id": "29i1tiqMabNP",
        "outputId": "752b3c01-283e-4375-d3bd-bd33a38b0029"
      },
      "source": [
        "data['Teks'][243]"
      ],
      "execution_count": 23,
      "outputs": [
        {
          "output_type": "execute_result",
          "data": {
            "application/vnd.google.colaboratory.intrinsic+json": {
              "type": "string"
            },
            "text/plain": [
              "'3 RAMADHAN Selamat Anda Pemenang Rp.100jt. PIN CODE 7Y7R8K9Z Info: www.hadiah-3ramadhan.blogspot.com   '"
            ]
          },
          "metadata": {
            "tags": []
          },
          "execution_count": 23
        }
      ]
    },
    {
      "cell_type": "code",
      "metadata": {
        "colab": {
          "base_uri": "https://localhost:8080/",
          "height": 35
        },
        "id": "Ojy_emmBZPYJ",
        "outputId": "910dbad4-a201-4464-d252-046d959eca63"
      },
      "source": [
        "data['Teks'][2]"
      ],
      "execution_count": 24,
      "outputs": [
        {
          "output_type": "execute_result",
          "data": {
            "application/vnd.google.colaboratory.intrinsic+json": {
              "type": "string"
            },
            "text/plain": [
              "'2016-07-08 11:47:11.Plg Yth, sisa kuota Flash Anda 478KB. Download MyTelkomsel apps di http://tsel.me/tsel utk cek kuota&beli paket Flash atau hub *363#'"
            ]
          },
          "metadata": {
            "tags": []
          },
          "execution_count": 24
        }
      ]
    },
    {
      "cell_type": "code",
      "metadata": {
        "colab": {
          "base_uri": "https://localhost:8080/",
          "height": 35
        },
        "id": "bfK5eehQc-p9",
        "outputId": "0ab97278-68a4-4ce0-bba5-56085b9c9df2"
      },
      "source": [
        "data.Teks[1136]"
      ],
      "execution_count": 25,
      "outputs": [
        {
          "output_type": "execute_result",
          "data": {
            "application/vnd.google.colaboratory.intrinsic+json": {
              "type": "string"
            },
            "text/plain": [
              "'Yg ragu sm bulet/datar atau yg pgn ikutan debat kusir :v'"
            ]
          },
          "metadata": {
            "tags": []
          },
          "execution_count": 25
        }
      ]
    },
    {
      "cell_type": "code",
      "metadata": {
        "colab": {
          "base_uri": "https://localhost:8080/",
          "height": 204
        },
        "id": "c4vG-nk2OvXz",
        "outputId": "7053e24d-bf7e-48eb-c6f2-9af2e618a677"
      },
      "source": [
        "data.head()"
      ],
      "execution_count": 26,
      "outputs": [
        {
          "output_type": "execute_result",
          "data": {
            "text/html": [
              "<div>\n",
              "<style scoped>\n",
              "    .dataframe tbody tr th:only-of-type {\n",
              "        vertical-align: middle;\n",
              "    }\n",
              "\n",
              "    .dataframe tbody tr th {\n",
              "        vertical-align: top;\n",
              "    }\n",
              "\n",
              "    .dataframe thead th {\n",
              "        text-align: right;\n",
              "    }\n",
              "</style>\n",
              "<table border=\"1\" class=\"dataframe\">\n",
              "  <thead>\n",
              "    <tr style=\"text-align: right;\">\n",
              "      <th></th>\n",
              "      <th>Teks</th>\n",
              "      <th>label</th>\n",
              "      <th>Sentiment</th>\n",
              "      <th>char_count</th>\n",
              "      <th>word_count</th>\n",
              "    </tr>\n",
              "  </thead>\n",
              "  <tbody>\n",
              "    <tr>\n",
              "      <th>0</th>\n",
              "      <td>[PROMO] Beli paket Flash mulai 1GB di MY TELKO...</td>\n",
              "      <td>2</td>\n",
              "      <td>promo</td>\n",
              "      <td>127</td>\n",
              "      <td>26</td>\n",
              "    </tr>\n",
              "    <tr>\n",
              "      <th>1</th>\n",
              "      <td>2.5 GB/30 hari hanya Rp 35 Ribu Spesial buat A...</td>\n",
              "      <td>2</td>\n",
              "      <td>promo</td>\n",
              "      <td>128</td>\n",
              "      <td>25</td>\n",
              "    </tr>\n",
              "    <tr>\n",
              "      <th>2</th>\n",
              "      <td>2016-07-08 11:47:11.Plg Yth, sisa kuota Flash ...</td>\n",
              "      <td>2</td>\n",
              "      <td>promo</td>\n",
              "      <td>132</td>\n",
              "      <td>21</td>\n",
              "    </tr>\n",
              "    <tr>\n",
              "      <th>3</th>\n",
              "      <td>2016-08-07 11:29:47.Plg Yth, sisa kuota Flash ...</td>\n",
              "      <td>2</td>\n",
              "      <td>promo</td>\n",
              "      <td>133</td>\n",
              "      <td>21</td>\n",
              "    </tr>\n",
              "    <tr>\n",
              "      <th>4</th>\n",
              "      <td>4.5GB/30 hari hanya Rp 55 Ribu Spesial buat an...</td>\n",
              "      <td>2</td>\n",
              "      <td>promo</td>\n",
              "      <td>96</td>\n",
              "      <td>18</td>\n",
              "    </tr>\n",
              "  </tbody>\n",
              "</table>\n",
              "</div>"
            ],
            "text/plain": [
              "                                                Teks  ...  word_count\n",
              "0  [PROMO] Beli paket Flash mulai 1GB di MY TELKO...  ...          26\n",
              "1  2.5 GB/30 hari hanya Rp 35 Ribu Spesial buat A...  ...          25\n",
              "2  2016-07-08 11:47:11.Plg Yth, sisa kuota Flash ...  ...          21\n",
              "3  2016-08-07 11:29:47.Plg Yth, sisa kuota Flash ...  ...          21\n",
              "4  4.5GB/30 hari hanya Rp 55 Ribu Spesial buat an...  ...          18\n",
              "\n",
              "[5 rows x 5 columns]"
            ]
          },
          "metadata": {
            "tags": []
          },
          "execution_count": 26
        }
      ]
    },
    {
      "cell_type": "code",
      "metadata": {
        "colab": {
          "base_uri": "https://localhost:8080/",
          "height": 35
        },
        "id": "0Sb7Y9eZO3nK",
        "outputId": "fe558dae-2d99-46ea-c3f3-9f904ea73e27"
      },
      "source": [
        "data.Teks[0]"
      ],
      "execution_count": 27,
      "outputs": [
        {
          "output_type": "execute_result",
          "data": {
            "application/vnd.google.colaboratory.intrinsic+json": {
              "type": "string"
            },
            "text/plain": [
              "'[PROMO] Beli paket Flash mulai 1GB di MY TELKOMSEL APP dpt EXTRA kuota 2GB 4G LTE dan EXTRA nelpon hingga 100mnt/1hr. Buruan, cek  di tsel.me/mytsel1 S&K'"
            ]
          },
          "metadata": {
            "tags": []
          },
          "execution_count": 27
        }
      ]
    },
    {
      "cell_type": "code",
      "metadata": {
        "id": "t3-T7zmBfKR2"
      },
      "source": [
        "kalimat = data.Teks.iloc[1].lower()"
      ],
      "execution_count": 28,
      "outputs": []
    },
    {
      "cell_type": "code",
      "metadata": {
        "colab": {
          "base_uri": "https://localhost:8080/",
          "height": 35
        },
        "id": "J8r_N9bFQbSr",
        "outputId": "6bd95b95-6cba-405b-ef2a-811109f4d7b9"
      },
      "source": [
        "kalimat"
      ],
      "execution_count": 29,
      "outputs": [
        {
          "output_type": "execute_result",
          "data": {
            "application/vnd.google.colaboratory.intrinsic+json": {
              "type": "string"
            },
            "text/plain": [
              "'2.5 gb/30 hari hanya rp 35 ribu spesial buat anda yang terpilih. aktifkan sekarang juga di *550*905#. promo sd 30 nov 2015.buruan aktifkan sekarang. s&k'"
            ]
          },
          "metadata": {
            "tags": []
          },
          "execution_count": 29
        }
      ]
    },
    {
      "cell_type": "code",
      "metadata": {
        "colab": {
          "base_uri": "https://localhost:8080/",
          "height": 35
        },
        "id": "nkxqkmi8fNfK",
        "outputId": "32c848a9-b7f5-49f3-8472-d62caabcb5ca"
      },
      "source": [
        "kal_baru = re.sub(r'\\w*\\.*\\w{1,}\\.*\\/\\w{1,}','',kalimat)\n",
        "kal_baru"
      ],
      "execution_count": 30,
      "outputs": [
        {
          "output_type": "execute_result",
          "data": {
            "application/vnd.google.colaboratory.intrinsic+json": {
              "type": "string"
            },
            "text/plain": [
              "'2.5  hari hanya rp 35 ribu spesial buat anda yang terpilih. aktifkan sekarang juga di *550*905#. promo sd 30 nov 2015.buruan aktifkan sekarang. s&k'"
            ]
          },
          "metadata": {
            "tags": []
          },
          "execution_count": 30
        }
      ]
    },
    {
      "cell_type": "code",
      "metadata": {
        "id": "3bSRchz-B9kK"
      },
      "source": [
        "def bersih_bersih(sentence):\n",
        "  '''Membuat kalimat menjadi huruf kecil semua, menghilangkan clickbait seperti [PROMO], tanggal di awal SMS, jumlah tarif, pulsa'''\n",
        "\n",
        "  sentence = sentence.lower()\n",
        "  sentence = re.sub(r'(\\[.*?\\]|\\(.*?\\))','',sentence) #menghilangkan kata-kata dalam kurung \n",
        "\n",
        "  sentence = re.sub(r'\\d{4}-\\d{2}-\\d{2}\\s\\d{2}:\\d{2}:\\d{2}\\.','',sentence) #menghilangkan format tanggal dan waktu\n",
        "  sentence = re.sub(r'\\d{2}\\s\\w{3,}\\s\\d{4}.','', sentence) #Menghilangkan format tanggal \"XX NAMA BULAN TAHUN\"\n",
        "\n",
        "  sentence = re.sub(r'(menit|mnt|thn|tahun|minggu|mg|hari|hr|jam|jm|detik|dtk|sekon)*','', sentence) #Menghilangkan satuan waktu\n",
        "  sentence = re.sub(r'(\\d{1,}\\s*gb|\\d{1,}\\s*kb|\\d{1,}\\s*mb|\\d{1,}\\s*tb|lte)',\"\", sentence) #Menghilangkan satuan byte dan kata lte\n",
        "  sentence = re.sub(r'(ribu|rb|jt|juta|milyar|miliar|triliun|trilyun)',\"\", sentence) # Menghilangkan satuan uang\n",
        "\n",
        "  sentence = re.sub(r'\\w*\\.*\\w{1,}\\.*\\/\\w{1,}','',sentence) #Menghilangkan pecahan\n",
        "  sentence = re.sub(r'rp\\s*\\d{1,}\\s','',sentence) # Menghilangkan jumlah tarif\n",
        "\n",
        "  sentence = re.sub(r\"\\*\\d{3,}\\*\\d{3,}\\#\",\"\", sentence) # Menghilangkan kode aktivasi-1\n",
        "  sentence = re.sub(r\"\\*\\d{3,}\\#\",\"\", sentence) #Menghilangkan kode aktivasi-2\n",
        "\n",
        "  sentence = re.sub(r\"https?://\\S*|www\\.\\S+\",\"\", sentence) #Menghilangkan web\n",
        "  sentence = re.sub(r'(\\d{1,}\\.*\\d{0,})','', sentence) #Menghilangkan angka \n",
        "  sentence = sentence.strip()\n",
        "\n",
        "  return sentence\n"
      ],
      "execution_count": 31,
      "outputs": []
    },
    {
      "cell_type": "code",
      "metadata": {
        "id": "cMKCvyeEkJOx"
      },
      "source": [
        "data['Teks Bersih'] = data['Teks'].apply(bersih_bersih)"
      ],
      "execution_count": 32,
      "outputs": []
    },
    {
      "cell_type": "code",
      "metadata": {
        "colab": {
          "base_uri": "https://localhost:8080/",
          "height": 419
        },
        "id": "fWPEnED7kZz8",
        "outputId": "ff016477-e8fd-409e-b43c-278c4b9679cd"
      },
      "source": [
        "data[['Teks','Teks Bersih']]"
      ],
      "execution_count": 33,
      "outputs": [
        {
          "output_type": "execute_result",
          "data": {
            "text/html": [
              "<div>\n",
              "<style scoped>\n",
              "    .dataframe tbody tr th:only-of-type {\n",
              "        vertical-align: middle;\n",
              "    }\n",
              "\n",
              "    .dataframe tbody tr th {\n",
              "        vertical-align: top;\n",
              "    }\n",
              "\n",
              "    .dataframe thead th {\n",
              "        text-align: right;\n",
              "    }\n",
              "</style>\n",
              "<table border=\"1\" class=\"dataframe\">\n",
              "  <thead>\n",
              "    <tr style=\"text-align: right;\">\n",
              "      <th></th>\n",
              "      <th>Teks</th>\n",
              "      <th>Teks Bersih</th>\n",
              "    </tr>\n",
              "  </thead>\n",
              "  <tbody>\n",
              "    <tr>\n",
              "      <th>0</th>\n",
              "      <td>[PROMO] Beli paket Flash mulai 1GB di MY TELKO...</td>\n",
              "      <td>beli paket flash mulai  di my telkomsel app dp...</td>\n",
              "    </tr>\n",
              "    <tr>\n",
              "      <th>1</th>\n",
              "      <td>2.5 GB/30 hari hanya Rp 35 Ribu Spesial buat A...</td>\n",
              "      <td>hanya  spesial buat anda yang terpilih. aktifk...</td>\n",
              "    </tr>\n",
              "    <tr>\n",
              "      <th>2</th>\n",
              "      <td>2016-07-08 11:47:11.Plg Yth, sisa kuota Flash ...</td>\n",
              "      <td>plg yth, sisa kuota flash anda . download myte...</td>\n",
              "    </tr>\n",
              "    <tr>\n",
              "      <th>3</th>\n",
              "      <td>2016-08-07 11:29:47.Plg Yth, sisa kuota Flash ...</td>\n",
              "      <td>plg yth, sisa kuota flash anda . download myte...</td>\n",
              "    </tr>\n",
              "    <tr>\n",
              "      <th>4</th>\n",
              "      <td>4.5GB/30 hari hanya Rp 55 Ribu Spesial buat an...</td>\n",
              "      <td>hanya  spesial buat anda yang terpilih. aktifk...</td>\n",
              "    </tr>\n",
              "    <tr>\n",
              "      <th>...</th>\n",
              "      <td>...</td>\n",
              "      <td>...</td>\n",
              "    </tr>\n",
              "    <tr>\n",
              "      <th>1138</th>\n",
              "      <td>Yooo sama2, oke nanti aku umumin di grup kelas</td>\n",
              "      <td>yooo sama, oke nanti aku umumin di grup kelas</td>\n",
              "    </tr>\n",
              "    <tr>\n",
              "      <th>1139</th>\n",
              "      <td>😁 sebelumnya ga ad nulis kerudung. Kirain warn...</td>\n",
              "      <td>😁 sebelumnya ga ad nulis kerudung. kirain warn...</td>\n",
              "    </tr>\n",
              "    <tr>\n",
              "      <th>1140</th>\n",
              "      <td>Mba mau kirim 300 ya</td>\n",
              "      <td>mba mau kirim  ya</td>\n",
              "    </tr>\n",
              "    <tr>\n",
              "      <th>1141</th>\n",
              "      <td>nama1  beaok bwrangkat pagi...mau cas atay tra...</td>\n",
              "      <td>nama  beaok bwrangkat pagi...mau cas atay tran...</td>\n",
              "    </tr>\n",
              "    <tr>\n",
              "      <th>1142</th>\n",
              "      <td>No bri atas nama kamu mana</td>\n",
              "      <td>no bri atas nama kamu mana</td>\n",
              "    </tr>\n",
              "  </tbody>\n",
              "</table>\n",
              "<p>1143 rows × 2 columns</p>\n",
              "</div>"
            ],
            "text/plain": [
              "                                                   Teks                                        Teks Bersih\n",
              "0     [PROMO] Beli paket Flash mulai 1GB di MY TELKO...  beli paket flash mulai  di my telkomsel app dp...\n",
              "1     2.5 GB/30 hari hanya Rp 35 Ribu Spesial buat A...  hanya  spesial buat anda yang terpilih. aktifk...\n",
              "2     2016-07-08 11:47:11.Plg Yth, sisa kuota Flash ...  plg yth, sisa kuota flash anda . download myte...\n",
              "3     2016-08-07 11:29:47.Plg Yth, sisa kuota Flash ...  plg yth, sisa kuota flash anda . download myte...\n",
              "4     4.5GB/30 hari hanya Rp 55 Ribu Spesial buat an...  hanya  spesial buat anda yang terpilih. aktifk...\n",
              "...                                                 ...                                                ...\n",
              "1138     Yooo sama2, oke nanti aku umumin di grup kelas      yooo sama, oke nanti aku umumin di grup kelas\n",
              "1139  😁 sebelumnya ga ad nulis kerudung. Kirain warn...  😁 sebelumnya ga ad nulis kerudung. kirain warn...\n",
              "1140                               Mba mau kirim 300 ya                                  mba mau kirim  ya\n",
              "1141  nama1  beaok bwrangkat pagi...mau cas atay tra...  nama  beaok bwrangkat pagi...mau cas atay tran...\n",
              "1142                         No bri atas nama kamu mana                         no bri atas nama kamu mana\n",
              "\n",
              "[1143 rows x 2 columns]"
            ]
          },
          "metadata": {
            "tags": []
          },
          "execution_count": 33
        }
      ]
    },
    {
      "cell_type": "code",
      "metadata": {
        "colab": {
          "base_uri": "https://localhost:8080/",
          "height": 35
        },
        "id": "mz-0VAqQb4YF",
        "outputId": "45d02451-f1c6-449f-d50d-661c6fddf198"
      },
      "source": [
        "data.Teks[0\n",
        "          ]"
      ],
      "execution_count": 34,
      "outputs": [
        {
          "output_type": "execute_result",
          "data": {
            "application/vnd.google.colaboratory.intrinsic+json": {
              "type": "string"
            },
            "text/plain": [
              "'[PROMO] Beli paket Flash mulai 1GB di MY TELKOMSEL APP dpt EXTRA kuota 2GB 4G LTE dan EXTRA nelpon hingga 100mnt/1hr. Buruan, cek  di tsel.me/mytsel1 S&K'"
            ]
          },
          "metadata": {
            "tags": []
          },
          "execution_count": 34
        }
      ]
    },
    {
      "cell_type": "code",
      "metadata": {
        "colab": {
          "base_uri": "https://localhost:8080/",
          "height": 359
        },
        "id": "k22AbiN_lfJz",
        "outputId": "217ae048-c401-4226-bcf2-8bdcf130508b"
      },
      "source": [
        "data.tail(10)"
      ],
      "execution_count": 35,
      "outputs": [
        {
          "output_type": "execute_result",
          "data": {
            "text/html": [
              "<div>\n",
              "<style scoped>\n",
              "    .dataframe tbody tr th:only-of-type {\n",
              "        vertical-align: middle;\n",
              "    }\n",
              "\n",
              "    .dataframe tbody tr th {\n",
              "        vertical-align: top;\n",
              "    }\n",
              "\n",
              "    .dataframe thead th {\n",
              "        text-align: right;\n",
              "    }\n",
              "</style>\n",
              "<table border=\"1\" class=\"dataframe\">\n",
              "  <thead>\n",
              "    <tr style=\"text-align: right;\">\n",
              "      <th></th>\n",
              "      <th>Teks</th>\n",
              "      <th>label</th>\n",
              "      <th>Sentiment</th>\n",
              "      <th>char_count</th>\n",
              "      <th>word_count</th>\n",
              "      <th>Teks Bersih</th>\n",
              "    </tr>\n",
              "  </thead>\n",
              "  <tbody>\n",
              "    <tr>\n",
              "      <th>1133</th>\n",
              "      <td>Yg butuh kosan perbulan bisa langsung ditempat...</td>\n",
              "      <td>0</td>\n",
              "      <td>sms normal</td>\n",
              "      <td>190</td>\n",
              "      <td>33</td>\n",
              "      <td>yg butuh kosan peulan bisa langsung ditempatin...</td>\n",
              "    </tr>\n",
              "    <tr>\n",
              "      <th>1134</th>\n",
              "      <td>Yg dian ge waktu itu yudisium akhirnya sore2, ...</td>\n",
              "      <td>0</td>\n",
              "      <td>sms normal</td>\n",
              "      <td>92</td>\n",
              "      <td>18</td>\n",
              "      <td>yg dian ge waktu itu yudisium akhirnya sore, g...</td>\n",
              "    </tr>\n",
              "    <tr>\n",
              "      <th>1135</th>\n",
              "      <td>Yg mau ngampus aku pengen titip bawain SKL aku...</td>\n",
              "      <td>0</td>\n",
              "      <td>sms normal</td>\n",
              "      <td>46</td>\n",
              "      <td>11</td>\n",
              "      <td>yg mau ngampus aku pengen titip bawain skl aku...</td>\n",
              "    </tr>\n",
              "    <tr>\n",
              "      <th>1136</th>\n",
              "      <td>Yg ragu sm bulet/datar atau yg pgn ikutan deba...</td>\n",
              "      <td>0</td>\n",
              "      <td>sms normal</td>\n",
              "      <td>46</td>\n",
              "      <td>11</td>\n",
              "      <td>yg ragu sm  atau yg pgn ikutan debat kusir :v</td>\n",
              "    </tr>\n",
              "    <tr>\n",
              "      <th>1137</th>\n",
              "      <td>Yg sebelah warteg bahri apa sebrangnya? Yg 15</td>\n",
              "      <td>0</td>\n",
              "      <td>sms normal</td>\n",
              "      <td>38</td>\n",
              "      <td>8</td>\n",
              "      <td>yg sebelah warteg bai apa sebrangnya? yg</td>\n",
              "    </tr>\n",
              "    <tr>\n",
              "      <th>1138</th>\n",
              "      <td>Yooo sama2, oke nanti aku umumin di grup kelas</td>\n",
              "      <td>0</td>\n",
              "      <td>sms normal</td>\n",
              "      <td>38</td>\n",
              "      <td>9</td>\n",
              "      <td>yooo sama, oke nanti aku umumin di grup kelas</td>\n",
              "    </tr>\n",
              "    <tr>\n",
              "      <th>1139</th>\n",
              "      <td>😁 sebelumnya ga ad nulis kerudung. Kirain warn...</td>\n",
              "      <td>0</td>\n",
              "      <td>sms normal</td>\n",
              "      <td>44</td>\n",
              "      <td>9</td>\n",
              "      <td>😁 sebelumnya ga ad nulis kerudung. kirain warn...</td>\n",
              "    </tr>\n",
              "    <tr>\n",
              "      <th>1140</th>\n",
              "      <td>Mba mau kirim 300 ya</td>\n",
              "      <td>0</td>\n",
              "      <td>sms normal</td>\n",
              "      <td>16</td>\n",
              "      <td>5</td>\n",
              "      <td>mba mau kirim  ya</td>\n",
              "    </tr>\n",
              "    <tr>\n",
              "      <th>1141</th>\n",
              "      <td>nama1  beaok bwrangkat pagi...mau cas atay tra...</td>\n",
              "      <td>0</td>\n",
              "      <td>sms normal</td>\n",
              "      <td>44</td>\n",
              "      <td>7</td>\n",
              "      <td>nama  beaok bwrangkat pagi...mau cas atay tran...</td>\n",
              "    </tr>\n",
              "    <tr>\n",
              "      <th>1142</th>\n",
              "      <td>No bri atas nama kamu mana</td>\n",
              "      <td>0</td>\n",
              "      <td>sms normal</td>\n",
              "      <td>21</td>\n",
              "      <td>6</td>\n",
              "      <td>no bri atas nama kamu mana</td>\n",
              "    </tr>\n",
              "  </tbody>\n",
              "</table>\n",
              "</div>"
            ],
            "text/plain": [
              "                                                   Teks  ...                                        Teks Bersih\n",
              "1133  Yg butuh kosan perbulan bisa langsung ditempat...  ...  yg butuh kosan peulan bisa langsung ditempatin...\n",
              "1134  Yg dian ge waktu itu yudisium akhirnya sore2, ...  ...  yg dian ge waktu itu yudisium akhirnya sore, g...\n",
              "1135  Yg mau ngampus aku pengen titip bawain SKL aku...  ...  yg mau ngampus aku pengen titip bawain skl aku...\n",
              "1136  Yg ragu sm bulet/datar atau yg pgn ikutan deba...  ...      yg ragu sm  atau yg pgn ikutan debat kusir :v\n",
              "1137      Yg sebelah warteg bahri apa sebrangnya? Yg 15  ...           yg sebelah warteg bai apa sebrangnya? yg\n",
              "1138     Yooo sama2, oke nanti aku umumin di grup kelas  ...      yooo sama, oke nanti aku umumin di grup kelas\n",
              "1139  😁 sebelumnya ga ad nulis kerudung. Kirain warn...  ...  😁 sebelumnya ga ad nulis kerudung. kirain warn...\n",
              "1140                               Mba mau kirim 300 ya  ...                                  mba mau kirim  ya\n",
              "1141  nama1  beaok bwrangkat pagi...mau cas atay tra...  ...  nama  beaok bwrangkat pagi...mau cas atay tran...\n",
              "1142                         No bri atas nama kamu mana  ...                         no bri atas nama kamu mana\n",
              "\n",
              "[10 rows x 6 columns]"
            ]
          },
          "metadata": {
            "tags": []
          },
          "execution_count": 35
        }
      ]
    },
    {
      "cell_type": "code",
      "metadata": {
        "colab": {
          "base_uri": "https://localhost:8080/",
          "height": 35
        },
        "id": "EjwNc6vWgpsd",
        "outputId": "461e1b01-8296-47ca-dd7a-cbd59e957a0a"
      },
      "source": [
        "data[\"Teks Bersih\"][240]"
      ],
      "execution_count": 36,
      "outputs": [
        {
          "output_type": "execute_result",
          "data": {
            "application/vnd.google.colaboratory.intrinsic+json": {
              "type": "string"
            },
            "text/plain": [
              "'lelah byr min payment? kami solusinya, bantu secara legal penutupan , dscn -%. hub.lolyta  . legal'"
            ]
          },
          "metadata": {
            "tags": []
          },
          "execution_count": 36
        }
      ]
    },
    {
      "cell_type": "markdown",
      "metadata": {
        "id": "BiBPZ9-wlVeh"
      },
      "source": [
        "## Remove Stopwords"
      ]
    },
    {
      "cell_type": "code",
      "metadata": {
        "id": "NsI_4iu916dM"
      },
      "source": [
        "import spacy\n",
        "nlp = spacy.blank('id')"
      ],
      "execution_count": 37,
      "outputs": []
    },
    {
      "cell_type": "code",
      "metadata": {
        "id": "wSOoxSUplqEA"
      },
      "source": [
        "from spacy.lang.id.stop_words import STOP_WORDS\n",
        "STOP_WORDS.update(['yg','jg','teh','mah','da','atuh','jd','km','ak','lg','ya','ga','ngga','nggak','gak','tp',\n",
        "                   'kalo','nya','pake','liat','udh','aja','wkwk','wkwkwk','wk','gt','gais','blm','sih','tau',\n",
        "                   'tahu','gt','udah','utk','rb','rp','dgn','ayo','isi','biar','yah','dr','bawa','gitu','eh',\n",
        "                   'pas','td','sm','pengen','pgn','dpt','sd','byr','min','dscn','sy'])"
      ],
      "execution_count": 41,
      "outputs": []
    },
    {
      "cell_type": "code",
      "metadata": {
        "id": "JbsT2ibHlWtz"
      },
      "source": [
        "def remove_stopwords(sentence):\n",
        "  words = sentence.split()\n",
        "  words = [word for word in words if word not in STOP_WORDS and word.isalpha()]\n",
        "  return \" \".join(words)"
      ],
      "execution_count": 42,
      "outputs": []
    },
    {
      "cell_type": "code",
      "metadata": {
        "id": "xx26LUBYl1T5"
      },
      "source": [
        "data['Teks Bersih'] = data['Teks Bersih'].apply(remove_stopwords)"
      ],
      "execution_count": 43,
      "outputs": []
    },
    {
      "cell_type": "code",
      "metadata": {
        "colab": {
          "base_uri": "https://localhost:8080/",
          "height": 419
        },
        "id": "FcZeDutwmxuY",
        "outputId": "eaea7ea4-386d-4770-b3e0-4386ef2dd380"
      },
      "source": [
        "data[['Teks','Teks Bersih']]"
      ],
      "execution_count": 44,
      "outputs": [
        {
          "output_type": "execute_result",
          "data": {
            "text/html": [
              "<div>\n",
              "<style scoped>\n",
              "    .dataframe tbody tr th:only-of-type {\n",
              "        vertical-align: middle;\n",
              "    }\n",
              "\n",
              "    .dataframe tbody tr th {\n",
              "        vertical-align: top;\n",
              "    }\n",
              "\n",
              "    .dataframe thead th {\n",
              "        text-align: right;\n",
              "    }\n",
              "</style>\n",
              "<table border=\"1\" class=\"dataframe\">\n",
              "  <thead>\n",
              "    <tr style=\"text-align: right;\">\n",
              "      <th></th>\n",
              "      <th>Teks</th>\n",
              "      <th>Teks Bersih</th>\n",
              "    </tr>\n",
              "  </thead>\n",
              "  <tbody>\n",
              "    <tr>\n",
              "      <th>0</th>\n",
              "      <td>[PROMO] Beli paket Flash mulai 1GB di MY TELKO...</td>\n",
              "      <td>beli paket flash my telkomsel app extra kuota ...</td>\n",
              "    </tr>\n",
              "    <tr>\n",
              "      <th>1</th>\n",
              "      <td>2.5 GB/30 hari hanya Rp 35 Ribu Spesial buat A...</td>\n",
              "      <td>spesial aktifkan promo buruan aktifkan</td>\n",
              "    </tr>\n",
              "    <tr>\n",
              "      <th>2</th>\n",
              "      <td>2016-07-08 11:47:11.Plg Yth, sisa kuota Flash ...</td>\n",
              "      <td>plg sisa kuota flash download mytelkomsel apps...</td>\n",
              "    </tr>\n",
              "    <tr>\n",
              "      <th>3</th>\n",
              "      <td>2016-08-07 11:29:47.Plg Yth, sisa kuota Flash ...</td>\n",
              "      <td>plg sisa kuota flash download mytelkomsel apps...</td>\n",
              "    </tr>\n",
              "    <tr>\n",
              "      <th>4</th>\n",
              "      <td>4.5GB/30 hari hanya Rp 55 Ribu Spesial buat an...</td>\n",
              "      <td>spesial aktifkan skb</td>\n",
              "    </tr>\n",
              "    <tr>\n",
              "      <th>...</th>\n",
              "      <td>...</td>\n",
              "      <td>...</td>\n",
              "    </tr>\n",
              "    <tr>\n",
              "      <th>1138</th>\n",
              "      <td>Yooo sama2, oke nanti aku umumin di grup kelas</td>\n",
              "      <td>yooo oke umumin grup kelas</td>\n",
              "    </tr>\n",
              "    <tr>\n",
              "      <th>1139</th>\n",
              "      <td>😁 sebelumnya ga ad nulis kerudung. Kirain warn...</td>\n",
              "      <td>ad nulis kirain warna jins</td>\n",
              "    </tr>\n",
              "    <tr>\n",
              "      <th>1140</th>\n",
              "      <td>Mba mau kirim 300 ya</td>\n",
              "      <td>mba kirim</td>\n",
              "    </tr>\n",
              "    <tr>\n",
              "      <th>1141</th>\n",
              "      <td>nama1  beaok bwrangkat pagi...mau cas atay tra...</td>\n",
              "      <td>nama beaok bwrangkat cas atay</td>\n",
              "    </tr>\n",
              "    <tr>\n",
              "      <th>1142</th>\n",
              "      <td>No bri atas nama kamu mana</td>\n",
              "      <td>no bri nama</td>\n",
              "    </tr>\n",
              "  </tbody>\n",
              "</table>\n",
              "<p>1143 rows × 2 columns</p>\n",
              "</div>"
            ],
            "text/plain": [
              "                                                   Teks                                        Teks Bersih\n",
              "0     [PROMO] Beli paket Flash mulai 1GB di MY TELKO...  beli paket flash my telkomsel app extra kuota ...\n",
              "1     2.5 GB/30 hari hanya Rp 35 Ribu Spesial buat A...             spesial aktifkan promo buruan aktifkan\n",
              "2     2016-07-08 11:47:11.Plg Yth, sisa kuota Flash ...  plg sisa kuota flash download mytelkomsel apps...\n",
              "3     2016-08-07 11:29:47.Plg Yth, sisa kuota Flash ...  plg sisa kuota flash download mytelkomsel apps...\n",
              "4     4.5GB/30 hari hanya Rp 55 Ribu Spesial buat an...                               spesial aktifkan skb\n",
              "...                                                 ...                                                ...\n",
              "1138     Yooo sama2, oke nanti aku umumin di grup kelas                         yooo oke umumin grup kelas\n",
              "1139  😁 sebelumnya ga ad nulis kerudung. Kirain warn...                         ad nulis kirain warna jins\n",
              "1140                               Mba mau kirim 300 ya                                          mba kirim\n",
              "1141  nama1  beaok bwrangkat pagi...mau cas atay tra...                      nama beaok bwrangkat cas atay\n",
              "1142                         No bri atas nama kamu mana                                        no bri nama\n",
              "\n",
              "[1143 rows x 2 columns]"
            ]
          },
          "metadata": {
            "tags": []
          },
          "execution_count": 44
        }
      ]
    },
    {
      "cell_type": "code",
      "metadata": {
        "colab": {
          "base_uri": "https://localhost:8080/",
          "height": 35
        },
        "id": "-L5eMXr927cb",
        "outputId": "a4b0ad42-7b69-4d2e-a933-241bece0bc26"
      },
      "source": [
        "data['Teks'][240]"
      ],
      "execution_count": 45,
      "outputs": [
        {
          "output_type": "execute_result",
          "data": {
            "application/vnd.google.colaboratory.intrinsic+json": {
              "type": "string"
            },
            "text/plain": [
              "'Lelah byr min payment? Kami Solusinya, bantu secara LEGAL penutupan CC/KTA, dscn 50-75%. Hub.LoLyta 081316523061/087822962308 (WA). LEGAL'"
            ]
          },
          "metadata": {
            "tags": []
          },
          "execution_count": 45
        }
      ]
    },
    {
      "cell_type": "code",
      "metadata": {
        "colab": {
          "base_uri": "https://localhost:8080/",
          "height": 35
        },
        "id": "3ZOcXwR5dLt0",
        "outputId": "dc53abfe-69e8-45be-b4ae-5586a659ef06"
      },
      "source": [
        "data['Teks Bersih'][243]"
      ],
      "execution_count": 46,
      "outputs": [
        {
          "output_type": "execute_result",
          "data": {
            "application/vnd.google.colaboratory.intrinsic+json": {
              "type": "string"
            },
            "text/plain": [
              "'ramadhan selamat pemenang pin code yrkz'"
            ]
          },
          "metadata": {
            "tags": []
          },
          "execution_count": 46
        }
      ]
    },
    {
      "cell_type": "markdown",
      "metadata": {
        "id": "qAwGFBaxFIDE"
      },
      "source": [
        "## Lemmatizer"
      ]
    },
    {
      "cell_type": "code",
      "metadata": {
        "id": "5MZGIcKtFIDF"
      },
      "source": [
        "# import StemmerFactory class\n",
        "from Sastrawi.Stemmer.StemmerFactory import StemmerFactory\n",
        "\n",
        "# create stemmer\n",
        "factory = StemmerFactory()\n",
        "stemmer = factory.create_stemmer()"
      ],
      "execution_count": 50,
      "outputs": []
    },
    {
      "cell_type": "code",
      "metadata": {
        "id": "rd38ZuNrFIDF"
      },
      "source": [
        "def lemmatizer(sentence):\n",
        "  output = stemmer.stem(sentence)\n",
        "  return output\n",
        "\n",
        "data['Teks Bersih'] = data['Teks Bersih'].apply(lemmatizer)"
      ],
      "execution_count": 51,
      "outputs": []
    },
    {
      "cell_type": "code",
      "metadata": {
        "colab": {
          "base_uri": "https://localhost:8080/",
          "height": 204
        },
        "id": "r0x8kxvtFIDF",
        "outputId": "2fbd63ac-cd6d-45b4-f053-346a3ee8ccaf"
      },
      "source": [
        "data.head()"
      ],
      "execution_count": 52,
      "outputs": [
        {
          "output_type": "execute_result",
          "data": {
            "text/html": [
              "<div>\n",
              "<style scoped>\n",
              "    .dataframe tbody tr th:only-of-type {\n",
              "        vertical-align: middle;\n",
              "    }\n",
              "\n",
              "    .dataframe tbody tr th {\n",
              "        vertical-align: top;\n",
              "    }\n",
              "\n",
              "    .dataframe thead th {\n",
              "        text-align: right;\n",
              "    }\n",
              "</style>\n",
              "<table border=\"1\" class=\"dataframe\">\n",
              "  <thead>\n",
              "    <tr style=\"text-align: right;\">\n",
              "      <th></th>\n",
              "      <th>Teks</th>\n",
              "      <th>label</th>\n",
              "      <th>Sentiment</th>\n",
              "      <th>char_count</th>\n",
              "      <th>word_count</th>\n",
              "      <th>Teks Bersih</th>\n",
              "    </tr>\n",
              "  </thead>\n",
              "  <tbody>\n",
              "    <tr>\n",
              "      <th>0</th>\n",
              "      <td>[PROMO] Beli paket Flash mulai 1GB di MY TELKO...</td>\n",
              "      <td>2</td>\n",
              "      <td>promo</td>\n",
              "      <td>127</td>\n",
              "      <td>26</td>\n",
              "      <td>beli paket flash my telkomsel app extra kuota ...</td>\n",
              "    </tr>\n",
              "    <tr>\n",
              "      <th>1</th>\n",
              "      <td>2.5 GB/30 hari hanya Rp 35 Ribu Spesial buat A...</td>\n",
              "      <td>2</td>\n",
              "      <td>promo</td>\n",
              "      <td>128</td>\n",
              "      <td>25</td>\n",
              "      <td>spesial aktif promo buru aktif</td>\n",
              "    </tr>\n",
              "    <tr>\n",
              "      <th>2</th>\n",
              "      <td>2016-07-08 11:47:11.Plg Yth, sisa kuota Flash ...</td>\n",
              "      <td>2</td>\n",
              "      <td>promo</td>\n",
              "      <td>132</td>\n",
              "      <td>21</td>\n",
              "      <td>plg sisa kuota flash download mytelkomsel apps...</td>\n",
              "    </tr>\n",
              "    <tr>\n",
              "      <th>3</th>\n",
              "      <td>2016-08-07 11:29:47.Plg Yth, sisa kuota Flash ...</td>\n",
              "      <td>2</td>\n",
              "      <td>promo</td>\n",
              "      <td>133</td>\n",
              "      <td>21</td>\n",
              "      <td>plg sisa kuota flash download mytelkomsel apps...</td>\n",
              "    </tr>\n",
              "    <tr>\n",
              "      <th>4</th>\n",
              "      <td>4.5GB/30 hari hanya Rp 55 Ribu Spesial buat an...</td>\n",
              "      <td>2</td>\n",
              "      <td>promo</td>\n",
              "      <td>96</td>\n",
              "      <td>18</td>\n",
              "      <td>spesial aktif skb</td>\n",
              "    </tr>\n",
              "  </tbody>\n",
              "</table>\n",
              "</div>"
            ],
            "text/plain": [
              "                                                Teks  ...                                        Teks Bersih\n",
              "0  [PROMO] Beli paket Flash mulai 1GB di MY TELKO...  ...  beli paket flash my telkomsel app extra kuota ...\n",
              "1  2.5 GB/30 hari hanya Rp 35 Ribu Spesial buat A...  ...                     spesial aktif promo buru aktif\n",
              "2  2016-07-08 11:47:11.Plg Yth, sisa kuota Flash ...  ...  plg sisa kuota flash download mytelkomsel apps...\n",
              "3  2016-08-07 11:29:47.Plg Yth, sisa kuota Flash ...  ...  plg sisa kuota flash download mytelkomsel apps...\n",
              "4  4.5GB/30 hari hanya Rp 55 Ribu Spesial buat an...  ...                                  spesial aktif skb\n",
              "\n",
              "[5 rows x 6 columns]"
            ]
          },
          "metadata": {
            "tags": []
          },
          "execution_count": 52
        }
      ]
    },
    {
      "cell_type": "code",
      "metadata": {
        "colab": {
          "base_uri": "https://localhost:8080/",
          "height": 359
        },
        "id": "wWZMIYu7Gda6",
        "outputId": "955c6061-8d45-4c16-cea4-36fb2530901d"
      },
      "source": [
        "data.tail(10)"
      ],
      "execution_count": 53,
      "outputs": [
        {
          "output_type": "execute_result",
          "data": {
            "text/html": [
              "<div>\n",
              "<style scoped>\n",
              "    .dataframe tbody tr th:only-of-type {\n",
              "        vertical-align: middle;\n",
              "    }\n",
              "\n",
              "    .dataframe tbody tr th {\n",
              "        vertical-align: top;\n",
              "    }\n",
              "\n",
              "    .dataframe thead th {\n",
              "        text-align: right;\n",
              "    }\n",
              "</style>\n",
              "<table border=\"1\" class=\"dataframe\">\n",
              "  <thead>\n",
              "    <tr style=\"text-align: right;\">\n",
              "      <th></th>\n",
              "      <th>Teks</th>\n",
              "      <th>label</th>\n",
              "      <th>Sentiment</th>\n",
              "      <th>char_count</th>\n",
              "      <th>word_count</th>\n",
              "      <th>Teks Bersih</th>\n",
              "    </tr>\n",
              "  </thead>\n",
              "  <tbody>\n",
              "    <tr>\n",
              "      <th>1133</th>\n",
              "      <td>Yg butuh kosan perbulan bisa langsung ditempat...</td>\n",
              "      <td>0</td>\n",
              "      <td>sms normal</td>\n",
              "      <td>190</td>\n",
              "      <td>33</td>\n",
              "      <td>butuh kosan peulan langsung lokasi gang sampin...</td>\n",
              "    </tr>\n",
              "    <tr>\n",
              "      <th>1134</th>\n",
              "      <td>Yg dian ge waktu itu yudisium akhirnya sore2, ...</td>\n",
              "      <td>0</td>\n",
              "      <td>sms normal</td>\n",
              "      <td>92</td>\n",
              "      <td>18</td>\n",
              "      <td>dian ge yudisium dibarengin nondik sampe yudisium</td>\n",
              "    </tr>\n",
              "    <tr>\n",
              "      <th>1135</th>\n",
              "      <td>Yg mau ngampus aku pengen titip bawain SKL aku...</td>\n",
              "      <td>0</td>\n",
              "      <td>sms normal</td>\n",
              "      <td>46</td>\n",
              "      <td>11</td>\n",
              "      <td>ngampus titip bawain skl</td>\n",
              "    </tr>\n",
              "    <tr>\n",
              "      <th>1136</th>\n",
              "      <td>Yg ragu sm bulet/datar atau yg pgn ikutan deba...</td>\n",
              "      <td>0</td>\n",
              "      <td>sms normal</td>\n",
              "      <td>46</td>\n",
              "      <td>11</td>\n",
              "      <td>ragu ikut debat kusir</td>\n",
              "    </tr>\n",
              "    <tr>\n",
              "      <th>1137</th>\n",
              "      <td>Yg sebelah warteg bahri apa sebrangnya? Yg 15</td>\n",
              "      <td>0</td>\n",
              "      <td>sms normal</td>\n",
              "      <td>38</td>\n",
              "      <td>8</td>\n",
              "      <td>belah warteg bai</td>\n",
              "    </tr>\n",
              "    <tr>\n",
              "      <th>1138</th>\n",
              "      <td>Yooo sama2, oke nanti aku umumin di grup kelas</td>\n",
              "      <td>0</td>\n",
              "      <td>sms normal</td>\n",
              "      <td>38</td>\n",
              "      <td>9</td>\n",
              "      <td>yooo oke umumin grup kelas</td>\n",
              "    </tr>\n",
              "    <tr>\n",
              "      <th>1139</th>\n",
              "      <td>😁 sebelumnya ga ad nulis kerudung. Kirain warn...</td>\n",
              "      <td>0</td>\n",
              "      <td>sms normal</td>\n",
              "      <td>44</td>\n",
              "      <td>9</td>\n",
              "      <td>ad nulis kirain warna jins</td>\n",
              "    </tr>\n",
              "    <tr>\n",
              "      <th>1140</th>\n",
              "      <td>Mba mau kirim 300 ya</td>\n",
              "      <td>0</td>\n",
              "      <td>sms normal</td>\n",
              "      <td>16</td>\n",
              "      <td>5</td>\n",
              "      <td>mba kirim</td>\n",
              "    </tr>\n",
              "    <tr>\n",
              "      <th>1141</th>\n",
              "      <td>nama1  beaok bwrangkat pagi...mau cas atay tra...</td>\n",
              "      <td>0</td>\n",
              "      <td>sms normal</td>\n",
              "      <td>44</td>\n",
              "      <td>7</td>\n",
              "      <td>nama beaok bwrangkat cas atay</td>\n",
              "    </tr>\n",
              "    <tr>\n",
              "      <th>1142</th>\n",
              "      <td>No bri atas nama kamu mana</td>\n",
              "      <td>0</td>\n",
              "      <td>sms normal</td>\n",
              "      <td>21</td>\n",
              "      <td>6</td>\n",
              "      <td>no bri nama</td>\n",
              "    </tr>\n",
              "  </tbody>\n",
              "</table>\n",
              "</div>"
            ],
            "text/plain": [
              "                                                   Teks  ...                                        Teks Bersih\n",
              "1133  Yg butuh kosan perbulan bisa langsung ditempat...  ...  butuh kosan peulan langsung lokasi gang sampin...\n",
              "1134  Yg dian ge waktu itu yudisium akhirnya sore2, ...  ...  dian ge yudisium dibarengin nondik sampe yudisium\n",
              "1135  Yg mau ngampus aku pengen titip bawain SKL aku...  ...                           ngampus titip bawain skl\n",
              "1136  Yg ragu sm bulet/datar atau yg pgn ikutan deba...  ...                              ragu ikut debat kusir\n",
              "1137      Yg sebelah warteg bahri apa sebrangnya? Yg 15  ...                                   belah warteg bai\n",
              "1138     Yooo sama2, oke nanti aku umumin di grup kelas  ...                         yooo oke umumin grup kelas\n",
              "1139  😁 sebelumnya ga ad nulis kerudung. Kirain warn...  ...                         ad nulis kirain warna jins\n",
              "1140                               Mba mau kirim 300 ya  ...                                          mba kirim\n",
              "1141  nama1  beaok bwrangkat pagi...mau cas atay tra...  ...                      nama beaok bwrangkat cas atay\n",
              "1142                         No bri atas nama kamu mana  ...                                        no bri nama\n",
              "\n",
              "[10 rows x 6 columns]"
            ]
          },
          "metadata": {
            "tags": []
          },
          "execution_count": 53
        }
      ]
    },
    {
      "cell_type": "code",
      "metadata": {
        "colab": {
          "base_uri": "https://localhost:8080/",
          "height": 35
        },
        "id": "Ra3CSqG7Gedz",
        "outputId": "bc177e48-1f67-4b9b-e8ce-4d2548b56c32"
      },
      "source": [
        "data['Teks Bersih'][243]"
      ],
      "execution_count": 54,
      "outputs": [
        {
          "output_type": "execute_result",
          "data": {
            "application/vnd.google.colaboratory.intrinsic+json": {
              "type": "string"
            },
            "text/plain": [
              "'ramadhan selamat menang pin code yrkz'"
            ]
          },
          "metadata": {
            "tags": []
          },
          "execution_count": 54
        }
      ]
    },
    {
      "cell_type": "markdown",
      "metadata": {
        "id": "5_H90fZ3pOOL"
      },
      "source": [
        "## Frekuensi Kata"
      ]
    },
    {
      "cell_type": "markdown",
      "metadata": {
        "id": "EmysC7xKnUeD"
      },
      "source": [
        "Setelah ini akan dilihat frekuensi kata dari data teks bersih untuk setiap kategori"
      ]
    },
    {
      "cell_type": "code",
      "metadata": {
        "colab": {
          "base_uri": "https://localhost:8080/"
        },
        "id": "Xgf15LfTn2x7",
        "outputId": "bc370d1d-34f4-4d44-da1d-4bd906c72073"
      },
      "source": [
        "import nltk\n",
        "nltk.download('punkt')\n",
        "\n",
        "from nltk.tokenize import word_tokenize\n",
        "from nltk import ngrams"
      ],
      "execution_count": 55,
      "outputs": [
        {
          "output_type": "stream",
          "text": [
            "[nltk_data] Downloading package punkt to /root/nltk_data...\n",
            "[nltk_data]   Unzipping tokenizers/punkt.zip.\n"
          ],
          "name": "stdout"
        }
      ]
    },
    {
      "cell_type": "code",
      "metadata": {
        "id": "nmejz8wcnRwj"
      },
      "source": [
        "def word_frequency(sentence):\n",
        "  sentence = \" \".join(sentence)\n",
        "  new_tokens = word_tokenize(sentence)\n",
        "  counted = Counter(new_tokens)\n",
        "  word_freq = pd.DataFrame(counted.items(), columns = ['Kata','Frekuensi']).sort_values(by = 'Frekuensi',ascending = False)\n",
        "  return word_freq"
      ],
      "execution_count": 56,
      "outputs": []
    },
    {
      "cell_type": "code",
      "metadata": {
        "id": "W7EELbvYJ7V6"
      },
      "source": [
        "from wordcloud import WordCloud\n",
        "import numpy as np\n",
        "\n",
        "def wordcloud(sentence, title):\n",
        "  sentence = \" \".join(sentence)\n",
        "  WC = WordCloud(background_color = 'white', max_words= 500, max_font_size = 100)\n",
        "  cloud = WC.generate(sentence)\n",
        "  plt.imshow(cloud, interpolation = \"bilinear\")\n",
        "  plt.title(title)\n",
        "  plt.axis(\"off\")\n",
        "  plt.show()"
      ],
      "execution_count": 57,
      "outputs": []
    },
    {
      "cell_type": "code",
      "metadata": {
        "colab": {
          "base_uri": "https://localhost:8080/",
          "height": 204
        },
        "id": "2Rp3U13emx0h",
        "outputId": "ae2c33be-8916-4eb4-864e-79f4c51e6e01"
      },
      "source": [
        "data.head()"
      ],
      "execution_count": 58,
      "outputs": [
        {
          "output_type": "execute_result",
          "data": {
            "text/html": [
              "<div>\n",
              "<style scoped>\n",
              "    .dataframe tbody tr th:only-of-type {\n",
              "        vertical-align: middle;\n",
              "    }\n",
              "\n",
              "    .dataframe tbody tr th {\n",
              "        vertical-align: top;\n",
              "    }\n",
              "\n",
              "    .dataframe thead th {\n",
              "        text-align: right;\n",
              "    }\n",
              "</style>\n",
              "<table border=\"1\" class=\"dataframe\">\n",
              "  <thead>\n",
              "    <tr style=\"text-align: right;\">\n",
              "      <th></th>\n",
              "      <th>Teks</th>\n",
              "      <th>label</th>\n",
              "      <th>Sentiment</th>\n",
              "      <th>char_count</th>\n",
              "      <th>word_count</th>\n",
              "      <th>Teks Bersih</th>\n",
              "    </tr>\n",
              "  </thead>\n",
              "  <tbody>\n",
              "    <tr>\n",
              "      <th>0</th>\n",
              "      <td>[PROMO] Beli paket Flash mulai 1GB di MY TELKO...</td>\n",
              "      <td>2</td>\n",
              "      <td>promo</td>\n",
              "      <td>127</td>\n",
              "      <td>26</td>\n",
              "      <td>beli paket flash my telkomsel app extra kuota ...</td>\n",
              "    </tr>\n",
              "    <tr>\n",
              "      <th>1</th>\n",
              "      <td>2.5 GB/30 hari hanya Rp 35 Ribu Spesial buat A...</td>\n",
              "      <td>2</td>\n",
              "      <td>promo</td>\n",
              "      <td>128</td>\n",
              "      <td>25</td>\n",
              "      <td>spesial aktif promo buru aktif</td>\n",
              "    </tr>\n",
              "    <tr>\n",
              "      <th>2</th>\n",
              "      <td>2016-07-08 11:47:11.Plg Yth, sisa kuota Flash ...</td>\n",
              "      <td>2</td>\n",
              "      <td>promo</td>\n",
              "      <td>132</td>\n",
              "      <td>21</td>\n",
              "      <td>plg sisa kuota flash download mytelkomsel apps...</td>\n",
              "    </tr>\n",
              "    <tr>\n",
              "      <th>3</th>\n",
              "      <td>2016-08-07 11:29:47.Plg Yth, sisa kuota Flash ...</td>\n",
              "      <td>2</td>\n",
              "      <td>promo</td>\n",
              "      <td>133</td>\n",
              "      <td>21</td>\n",
              "      <td>plg sisa kuota flash download mytelkomsel apps...</td>\n",
              "    </tr>\n",
              "    <tr>\n",
              "      <th>4</th>\n",
              "      <td>4.5GB/30 hari hanya Rp 55 Ribu Spesial buat an...</td>\n",
              "      <td>2</td>\n",
              "      <td>promo</td>\n",
              "      <td>96</td>\n",
              "      <td>18</td>\n",
              "      <td>spesial aktif skb</td>\n",
              "    </tr>\n",
              "  </tbody>\n",
              "</table>\n",
              "</div>"
            ],
            "text/plain": [
              "                                                Teks  ...                                        Teks Bersih\n",
              "0  [PROMO] Beli paket Flash mulai 1GB di MY TELKO...  ...  beli paket flash my telkomsel app extra kuota ...\n",
              "1  2.5 GB/30 hari hanya Rp 35 Ribu Spesial buat A...  ...                     spesial aktif promo buru aktif\n",
              "2  2016-07-08 11:47:11.Plg Yth, sisa kuota Flash ...  ...  plg sisa kuota flash download mytelkomsel apps...\n",
              "3  2016-08-07 11:29:47.Plg Yth, sisa kuota Flash ...  ...  plg sisa kuota flash download mytelkomsel apps...\n",
              "4  4.5GB/30 hari hanya Rp 55 Ribu Spesial buat an...  ...                                  spesial aktif skb\n",
              "\n",
              "[5 rows x 6 columns]"
            ]
          },
          "metadata": {
            "tags": []
          },
          "execution_count": 58
        }
      ]
    },
    {
      "cell_type": "code",
      "metadata": {
        "colab": {
          "base_uri": "https://localhost:8080/"
        },
        "id": "o7tyvEnroka6",
        "outputId": "dda18008-9918-4327-900a-ca324f8f301e"
      },
      "source": [
        "data['Sentiment'].unique()"
      ],
      "execution_count": 59,
      "outputs": [
        {
          "output_type": "execute_result",
          "data": {
            "text/plain": [
              "array(['promo', 'fraud atau penipuan', 'sms normal'], dtype=object)"
            ]
          },
          "metadata": {
            "tags": []
          },
          "execution_count": 59
        }
      ]
    },
    {
      "cell_type": "code",
      "metadata": {
        "id": "_680fzr9ofOp"
      },
      "source": [
        "promos = data[data['Sentiment'] == 'promo'].reset_index().drop('index',axis = 1)\n",
        "sms_normal = data[data['Sentiment'] == 'sms normal'].reset_index().drop('index',axis = 1)\n",
        "fraud = data[data['Sentiment'] == 'fraud atau penipuan'].reset_index().drop('index',axis = 1)\n"
      ],
      "execution_count": 60,
      "outputs": []
    },
    {
      "cell_type": "code",
      "metadata": {
        "colab": {
          "base_uri": "https://localhost:8080/",
          "height": 204
        },
        "id": "Gb3kpf5YoyVJ",
        "outputId": "0e4a9c1e-78a8-4e89-e8ed-42dfe68b2efa"
      },
      "source": [
        "promos.head()"
      ],
      "execution_count": 61,
      "outputs": [
        {
          "output_type": "execute_result",
          "data": {
            "text/html": [
              "<div>\n",
              "<style scoped>\n",
              "    .dataframe tbody tr th:only-of-type {\n",
              "        vertical-align: middle;\n",
              "    }\n",
              "\n",
              "    .dataframe tbody tr th {\n",
              "        vertical-align: top;\n",
              "    }\n",
              "\n",
              "    .dataframe thead th {\n",
              "        text-align: right;\n",
              "    }\n",
              "</style>\n",
              "<table border=\"1\" class=\"dataframe\">\n",
              "  <thead>\n",
              "    <tr style=\"text-align: right;\">\n",
              "      <th></th>\n",
              "      <th>Teks</th>\n",
              "      <th>label</th>\n",
              "      <th>Sentiment</th>\n",
              "      <th>char_count</th>\n",
              "      <th>word_count</th>\n",
              "      <th>Teks Bersih</th>\n",
              "    </tr>\n",
              "  </thead>\n",
              "  <tbody>\n",
              "    <tr>\n",
              "      <th>0</th>\n",
              "      <td>[PROMO] Beli paket Flash mulai 1GB di MY TELKO...</td>\n",
              "      <td>2</td>\n",
              "      <td>promo</td>\n",
              "      <td>127</td>\n",
              "      <td>26</td>\n",
              "      <td>beli paket flash my telkomsel app extra kuota ...</td>\n",
              "    </tr>\n",
              "    <tr>\n",
              "      <th>1</th>\n",
              "      <td>2.5 GB/30 hari hanya Rp 35 Ribu Spesial buat A...</td>\n",
              "      <td>2</td>\n",
              "      <td>promo</td>\n",
              "      <td>128</td>\n",
              "      <td>25</td>\n",
              "      <td>spesial aktif promo buru aktif</td>\n",
              "    </tr>\n",
              "    <tr>\n",
              "      <th>2</th>\n",
              "      <td>2016-07-08 11:47:11.Plg Yth, sisa kuota Flash ...</td>\n",
              "      <td>2</td>\n",
              "      <td>promo</td>\n",
              "      <td>132</td>\n",
              "      <td>21</td>\n",
              "      <td>plg sisa kuota flash download mytelkomsel apps...</td>\n",
              "    </tr>\n",
              "    <tr>\n",
              "      <th>3</th>\n",
              "      <td>2016-08-07 11:29:47.Plg Yth, sisa kuota Flash ...</td>\n",
              "      <td>2</td>\n",
              "      <td>promo</td>\n",
              "      <td>133</td>\n",
              "      <td>21</td>\n",
              "      <td>plg sisa kuota flash download mytelkomsel apps...</td>\n",
              "    </tr>\n",
              "    <tr>\n",
              "      <th>4</th>\n",
              "      <td>4.5GB/30 hari hanya Rp 55 Ribu Spesial buat an...</td>\n",
              "      <td>2</td>\n",
              "      <td>promo</td>\n",
              "      <td>96</td>\n",
              "      <td>18</td>\n",
              "      <td>spesial aktif skb</td>\n",
              "    </tr>\n",
              "  </tbody>\n",
              "</table>\n",
              "</div>"
            ],
            "text/plain": [
              "                                                Teks  ...                                        Teks Bersih\n",
              "0  [PROMO] Beli paket Flash mulai 1GB di MY TELKO...  ...  beli paket flash my telkomsel app extra kuota ...\n",
              "1  2.5 GB/30 hari hanya Rp 35 Ribu Spesial buat A...  ...                     spesial aktif promo buru aktif\n",
              "2  2016-07-08 11:47:11.Plg Yth, sisa kuota Flash ...  ...  plg sisa kuota flash download mytelkomsel apps...\n",
              "3  2016-08-07 11:29:47.Plg Yth, sisa kuota Flash ...  ...  plg sisa kuota flash download mytelkomsel apps...\n",
              "4  4.5GB/30 hari hanya Rp 55 Ribu Spesial buat an...  ...                                  spesial aktif skb\n",
              "\n",
              "[5 rows x 6 columns]"
            ]
          },
          "metadata": {
            "tags": []
          },
          "execution_count": 61
        }
      ]
    },
    {
      "cell_type": "code",
      "metadata": {
        "colab": {
          "base_uri": "https://localhost:8080/",
          "height": 215
        },
        "id": "laOx9bZhPwTp",
        "outputId": "8c40caa0-109f-46d8-c085-1e643d79f36d"
      },
      "source": [
        "wordcloud(fraud['Teks Bersih'], 'Word Cloud Pesan Penipuan')"
      ],
      "execution_count": 62,
      "outputs": [
        {
          "output_type": "display_data",
          "data": {
            "image/png": "[encoded data removed]",
            "text/plain": [
              "<Figure size 432x288 with 1 Axes>"
            ]
          },
          "metadata": {
            "tags": [],
            "needs_background": "light"
          }
        }
      ]
    },
    {
      "cell_type": "code",
      "metadata": {
        "colab": {
          "base_uri": "https://localhost:8080/",
          "height": 215
        },
        "id": "GtDVHaFgKnDR",
        "outputId": "77ff1e7e-6aa8-4f25-c6c6-9f9a9ea5544e"
      },
      "source": [
        "wordcloud(data['Teks Bersih'], \"Word Cloud Untuk Semua Jenis Pesan\")"
      ],
      "execution_count": 63,
      "outputs": [
        {
          "output_type": "display_data",
          "data": {
            "image/png": "[encoded data removed]",
            "text/plain": [
              "<Figure size 432x288 with 1 Axes>"
            ]
          },
          "metadata": {
            "tags": [],
            "needs_background": "light"
          }
        }
      ]
    },
    {
      "cell_type": "code",
      "metadata": {
        "id": "EwTLHsnnNyeF"
      },
      "source": [
        "semua_senti_20 = word_frequency(data['Teks Bersih'])[:20]"
      ],
      "execution_count": 64,
      "outputs": []
    },
    {
      "cell_type": "code",
      "metadata": {
        "colab": {
          "base_uri": "https://localhost:8080/",
          "height": 460
        },
        "id": "9dAYVruaN4gd",
        "outputId": "73a16ad1-7c73-4c2b-d0ed-f52c294805a7"
      },
      "source": [
        "semua_senti_20\n",
        "semua_senti_20.style.background_gradient(cmap = 'BuGn')"
      ],
      "execution_count": 65,
      "outputs": [
        {
          "output_type": "execute_result",
          "data": {
            "text/html": [
              "<style  type=\"text/css\" >\n",
              "#T_05b54434_fd0a_11eb_820f_0242ac1c0002row0_col1{\n",
              "            background-color:  #00441b;\n",
              "            color:  #f1f1f1;\n",
              "        }#T_05b54434_fd0a_11eb_820f_0242ac1c0002row1_col1{\n",
              "            background-color:  #005e26;\n",
              "            color:  #f1f1f1;\n",
              "        }#T_05b54434_fd0a_11eb_820f_0242ac1c0002row2_col1{\n",
              "            background-color:  #309b5b;\n",
              "            color:  #000000;\n",
              "        }#T_05b54434_fd0a_11eb_820f_0242ac1c0002row3_col1{\n",
              "            background-color:  #3eaa70;\n",
              "            color:  #000000;\n",
              "        }#T_05b54434_fd0a_11eb_820f_0242ac1c0002row4_col1{\n",
              "            background-color:  #4cb484;\n",
              "            color:  #000000;\n",
              "        }#T_05b54434_fd0a_11eb_820f_0242ac1c0002row5_col1{\n",
              "            background-color:  #51b689;\n",
              "            color:  #000000;\n",
              "        }#T_05b54434_fd0a_11eb_820f_0242ac1c0002row6_col1{\n",
              "            background-color:  #68c3a6;\n",
              "            color:  #000000;\n",
              "        }#T_05b54434_fd0a_11eb_820f_0242ac1c0002row7_col1{\n",
              "            background-color:  #6fc6aa;\n",
              "            color:  #000000;\n",
              "        }#T_05b54434_fd0a_11eb_820f_0242ac1c0002row8_col1{\n",
              "            background-color:  #74c8ae;\n",
              "            color:  #000000;\n",
              "        }#T_05b54434_fd0a_11eb_820f_0242ac1c0002row9_col1{\n",
              "            background-color:  #9fdacc;\n",
              "            color:  #000000;\n",
              "        }#T_05b54434_fd0a_11eb_820f_0242ac1c0002row10_col1{\n",
              "            background-color:  #ccece6;\n",
              "            color:  #000000;\n",
              "        }#T_05b54434_fd0a_11eb_820f_0242ac1c0002row11_col1{\n",
              "            background-color:  #d9f1f0;\n",
              "            color:  #000000;\n",
              "        }#T_05b54434_fd0a_11eb_820f_0242ac1c0002row12_col1,#T_05b54434_fd0a_11eb_820f_0242ac1c0002row13_col1{\n",
              "            background-color:  #edf8fb;\n",
              "            color:  #000000;\n",
              "        }#T_05b54434_fd0a_11eb_820f_0242ac1c0002row14_col1{\n",
              "            background-color:  #f0f9fb;\n",
              "            color:  #000000;\n",
              "        }#T_05b54434_fd0a_11eb_820f_0242ac1c0002row15_col1,#T_05b54434_fd0a_11eb_820f_0242ac1c0002row16_col1{\n",
              "            background-color:  #f1fafc;\n",
              "            color:  #000000;\n",
              "        }#T_05b54434_fd0a_11eb_820f_0242ac1c0002row17_col1,#T_05b54434_fd0a_11eb_820f_0242ac1c0002row18_col1{\n",
              "            background-color:  #f5fbfd;\n",
              "            color:  #000000;\n",
              "        }#T_05b54434_fd0a_11eb_820f_0242ac1c0002row19_col1{\n",
              "            background-color:  #f7fcfd;\n",
              "            color:  #000000;\n",
              "        }</style><table id=\"T_05b54434_fd0a_11eb_820f_0242ac1c0002\" ><thead>    <tr>        <th class=\"blank level0\" ></th>        <th class=\"col_heading level0 col0\" >Kata</th>        <th class=\"col_heading level0 col1\" >Frekuensi</th>    </tr></thead><tbody>\n",
              "                <tr>\n",
              "                        <th id=\"T_05b54434_fd0a_11eb_820f_0242ac1c0002level0_row0\" class=\"row_heading level0 row0\" >70</th>\n",
              "                        <td id=\"T_05b54434_fd0a_11eb_820f_0242ac1c0002row0_col0\" class=\"data row0 col0\" >info</td>\n",
              "                        <td id=\"T_05b54434_fd0a_11eb_820f_0242ac1c0002row0_col1\" class=\"data row0 col1\" >125</td>\n",
              "            </tr>\n",
              "            <tr>\n",
              "                        <th id=\"T_05b54434_fd0a_11eb_820f_0242ac1c0002level0_row1\" class=\"row_heading level0 row1\" >302</th>\n",
              "                        <td id=\"T_05b54434_fd0a_11eb_820f_0242ac1c0002row1_col0\" class=\"data row1 col0\" >hadiah</td>\n",
              "                        <td id=\"T_05b54434_fd0a_11eb_820f_0242ac1c0002row1_col1\" class=\"data row1 col1\" >119</td>\n",
              "            </tr>\n",
              "            <tr>\n",
              "                        <th id=\"T_05b54434_fd0a_11eb_820f_0242ac1c0002level0_row2\" class=\"row_heading level0 row2\" >525</th>\n",
              "                        <td id=\"T_05b54434_fd0a_11eb_820f_0242ac1c0002row2_col0\" class=\"data row2 col0\" >pin</td>\n",
              "                        <td id=\"T_05b54434_fd0a_11eb_820f_0242ac1c0002row2_col1\" class=\"data row2 col1\" >102</td>\n",
              "            </tr>\n",
              "            <tr>\n",
              "                        <th id=\"T_05b54434_fd0a_11eb_820f_0242ac1c0002level0_row3\" class=\"row_heading level0 row3\" >10</th>\n",
              "                        <td id=\"T_05b54434_fd0a_11eb_820f_0242ac1c0002row3_col0\" class=\"data row3 col0\" >cek</td>\n",
              "                        <td id=\"T_05b54434_fd0a_11eb_820f_0242ac1c0002row3_col1\" class=\"data row3 col1\" >98</td>\n",
              "            </tr>\n",
              "            <tr>\n",
              "                        <th id=\"T_05b54434_fd0a_11eb_820f_0242ac1c0002level0_row4\" class=\"row_heading level0 row4\" >62</th>\n",
              "                        <td id=\"T_05b54434_fd0a_11eb_820f_0242ac1c0002row4_col0\" class=\"data row4 col0\" >sms</td>\n",
              "                        <td id=\"T_05b54434_fd0a_11eb_820f_0242ac1c0002row4_col1\" class=\"data row4 col1\" >94</td>\n",
              "            </tr>\n",
              "            <tr>\n",
              "                        <th id=\"T_05b54434_fd0a_11eb_820f_0242ac1c0002level0_row5\" class=\"row_heading level0 row5\" >1</th>\n",
              "                        <td id=\"T_05b54434_fd0a_11eb_820f_0242ac1c0002row5_col0\" class=\"data row5 col0\" >paket</td>\n",
              "                        <td id=\"T_05b54434_fd0a_11eb_820f_0242ac1c0002row5_col1\" class=\"data row5 col1\" >93</td>\n",
              "            </tr>\n",
              "            <tr>\n",
              "                        <th id=\"T_05b54434_fd0a_11eb_820f_0242ac1c0002level0_row6\" class=\"row_heading level0 row6\" >415</th>\n",
              "                        <td id=\"T_05b54434_fd0a_11eb_820f_0242ac1c0002row6_col0\" class=\"data row6 col0\" >no</td>\n",
              "                        <td id=\"T_05b54434_fd0a_11eb_820f_0242ac1c0002row6_col1\" class=\"data row6 col1\" >87</td>\n",
              "            </tr>\n",
              "            <tr>\n",
              "                        <th id=\"T_05b54434_fd0a_11eb_820f_0242ac1c0002level0_row7\" class=\"row_heading level0 row7\" >128</th>\n",
              "                        <td id=\"T_05b54434_fd0a_11eb_820f_0242ac1c0002row7_col0\" class=\"data row7 col0\" >nama</td>\n",
              "                        <td id=\"T_05b54434_fd0a_11eb_820f_0242ac1c0002row7_col1\" class=\"data row7 col1\" >86</td>\n",
              "            </tr>\n",
              "            <tr>\n",
              "                        <th id=\"T_05b54434_fd0a_11eb_820f_0242ac1c0002level0_row8\" class=\"row_heading level0 row8\" >23</th>\n",
              "                        <td id=\"T_05b54434_fd0a_11eb_820f_0242ac1c0002row8_col0\" class=\"data row8 col0\" >pulsa</td>\n",
              "                        <td id=\"T_05b54434_fd0a_11eb_820f_0242ac1c0002row8_col1\" class=\"data row8 col1\" >85</td>\n",
              "            </tr>\n",
              "            <tr>\n",
              "                        <th id=\"T_05b54434_fd0a_11eb_820f_0242ac1c0002level0_row9\" class=\"row_heading level0 row9\" >110</th>\n",
              "                        <td id=\"T_05b54434_fd0a_11eb_820f_0242ac1c0002row9_col0\" class=\"data row9 col0\" >menang</td>\n",
              "                        <td id=\"T_05b54434_fd0a_11eb_820f_0242ac1c0002row9_col1\" class=\"data row9 col1\" >77</td>\n",
              "            </tr>\n",
              "            <tr>\n",
              "                        <th id=\"T_05b54434_fd0a_11eb_820f_0242ac1c0002level0_row10\" class=\"row_heading level0 row10\" >836</th>\n",
              "                        <td id=\"T_05b54434_fd0a_11eb_820f_0242ac1c0002row10_col0\" class=\"data row10 col0\" >resmi</td>\n",
              "                        <td id=\"T_05b54434_fd0a_11eb_820f_0242ac1c0002row10_col1\" class=\"data row10 col1\" >69</td>\n",
              "            </tr>\n",
              "            <tr>\n",
              "                        <th id=\"T_05b54434_fd0a_11eb_820f_0242ac1c0002level0_row11\" class=\"row_heading level0 row11\" >13</th>\n",
              "                        <td id=\"T_05b54434_fd0a_11eb_820f_0242ac1c0002row11_col0\" class=\"data row11 col0\" >promo</td>\n",
              "                        <td id=\"T_05b54434_fd0a_11eb_820f_0242ac1c0002row11_col1\" class=\"data row11 col1\" >64</td>\n",
              "            </tr>\n",
              "            <tr>\n",
              "                        <th id=\"T_05b54434_fd0a_11eb_820f_0242ac1c0002level0_row12\" class=\"row_heading level0 row12\" >45</th>\n",
              "                        <td id=\"T_05b54434_fd0a_11eb_820f_0242ac1c0002row12_col0\" class=\"data row12 col0\" >kirim</td>\n",
              "                        <td id=\"T_05b54434_fd0a_11eb_820f_0242ac1c0002row12_col1\" class=\"data row12 col1\" >55</td>\n",
              "            </tr>\n",
              "            <tr>\n",
              "                        <th id=\"T_05b54434_fd0a_11eb_820f_0242ac1c0002level0_row13\" class=\"row_heading level0 row13\" >613</th>\n",
              "                        <td id=\"T_05b54434_fd0a_11eb_820f_0242ac1c0002row13_col0\" class=\"data row13 col0\" >selamat</td>\n",
              "                        <td id=\"T_05b54434_fd0a_11eb_820f_0242ac1c0002row13_col1\" class=\"data row13 col1\" >55</td>\n",
              "            </tr>\n",
              "            <tr>\n",
              "                        <th id=\"T_05b54434_fd0a_11eb_820f_0242ac1c0002level0_row14\" class=\"row_heading level0 row14\" >0</th>\n",
              "                        <td id=\"T_05b54434_fd0a_11eb_820f_0242ac1c0002row14_col0\" class=\"data row14 col0\" >beli</td>\n",
              "                        <td id=\"T_05b54434_fd0a_11eb_820f_0242ac1c0002row14_col1\" class=\"data row14 col1\" >54</td>\n",
              "            </tr>\n",
              "            <tr>\n",
              "                        <th id=\"T_05b54434_fd0a_11eb_820f_0242ac1c0002level0_row15\" class=\"row_heading level0 row15\" >127</th>\n",
              "                        <td id=\"T_05b54434_fd0a_11eb_820f_0242ac1c0002row15_col0\" class=\"data row15 col0\" >klik</td>\n",
              "                        <td id=\"T_05b54434_fd0a_11eb_820f_0242ac1c0002row15_col1\" class=\"data row15 col1\" >53</td>\n",
              "            </tr>\n",
              "            <tr>\n",
              "                        <th id=\"T_05b54434_fd0a_11eb_820f_0242ac1c0002level0_row16\" class=\"row_heading level0 row16\" >20</th>\n",
              "                        <td id=\"T_05b54434_fd0a_11eb_820f_0242ac1c0002row16_col0\" class=\"data row16 col0\" >hub</td>\n",
              "                        <td id=\"T_05b54434_fd0a_11eb_820f_0242ac1c0002row16_col1\" class=\"data row16 col1\" >53</td>\n",
              "            </tr>\n",
              "            <tr>\n",
              "                        <th id=\"T_05b54434_fd0a_11eb_820f_0242ac1c0002level0_row17\" class=\"row_heading level0 row17\" >57</th>\n",
              "                        <td id=\"T_05b54434_fd0a_11eb_820f_0242ac1c0002row17_col0\" class=\"data row17 col0\" >gratis</td>\n",
              "                        <td id=\"T_05b54434_fd0a_11eb_820f_0242ac1c0002row17_col1\" class=\"data row17 col1\" >51</td>\n",
              "            </tr>\n",
              "            <tr>\n",
              "                        <th id=\"T_05b54434_fd0a_11eb_820f_0242ac1c0002level0_row18\" class=\"row_heading level0 row18\" >7</th>\n",
              "                        <td id=\"T_05b54434_fd0a_11eb_820f_0242ac1c0002row18_col0\" class=\"data row18 col0\" >kuota</td>\n",
              "                        <td id=\"T_05b54434_fd0a_11eb_820f_0242ac1c0002row18_col1\" class=\"data row18 col1\" >51</td>\n",
              "            </tr>\n",
              "            <tr>\n",
              "                        <th id=\"T_05b54434_fd0a_11eb_820f_0242ac1c0002level0_row19\" class=\"row_heading level0 row19\" >104</th>\n",
              "                        <td id=\"T_05b54434_fd0a_11eb_820f_0242ac1c0002row19_col0\" class=\"data row19 col0\" >ulang</td>\n",
              "                        <td id=\"T_05b54434_fd0a_11eb_820f_0242ac1c0002row19_col1\" class=\"data row19 col1\" >50</td>\n",
              "            </tr>\n",
              "    </tbody></table>"
            ],
            "text/plain": [
              "<pandas.io.formats.style.Styler at 0x7f87b48be550>"
            ]
          },
          "metadata": {
            "tags": []
          },
          "execution_count": 65
        }
      ]
    },
    {
      "cell_type": "code",
      "metadata": {
        "colab": {
          "base_uri": "https://localhost:8080/",
          "height": 626
        },
        "id": "H6Its0B5Ow5J",
        "outputId": "3f1992df-76c7-40ad-a6a8-491e90c32635"
      },
      "source": [
        "plt.figure(figsize = (15,10))\n",
        "sns.barplot(x = 'Frekuensi', y = 'Kata', data = semua_senti_20, color = 'green')\n",
        "plt.title(\"Frekuensi Kata Semua Jenis Pesan\")\n",
        "plt.show()"
      ],
      "execution_count": 66,
      "outputs": [
        {
          "output_type": "display_data",
          "data": {
            "image/png": "[encoded data removed]",
            "text/plain": [
              "<Figure size 1080x720 with 1 Axes>"
            ]
          },
          "metadata": {
            "tags": [],
            "needs_background": "light"
          }
        }
      ]
    },
    {
      "cell_type": "code",
      "metadata": {
        "colab": {
          "base_uri": "https://localhost:8080/",
          "height": 204
        },
        "id": "vgxPWF34o385",
        "outputId": "ef557ef3-50ff-44bd-87e5-206b630015e8"
      },
      "source": [
        "sms_normal.head()"
      ],
      "execution_count": 67,
      "outputs": [
        {
          "output_type": "execute_result",
          "data": {
            "text/html": [
              "<div>\n",
              "<style scoped>\n",
              "    .dataframe tbody tr th:only-of-type {\n",
              "        vertical-align: middle;\n",
              "    }\n",
              "\n",
              "    .dataframe tbody tr th {\n",
              "        vertical-align: top;\n",
              "    }\n",
              "\n",
              "    .dataframe thead th {\n",
              "        text-align: right;\n",
              "    }\n",
              "</style>\n",
              "<table border=\"1\" class=\"dataframe\">\n",
              "  <thead>\n",
              "    <tr style=\"text-align: right;\">\n",
              "      <th></th>\n",
              "      <th>Teks</th>\n",
              "      <th>label</th>\n",
              "      <th>Sentiment</th>\n",
              "      <th>char_count</th>\n",
              "      <th>word_count</th>\n",
              "      <th>Teks Bersih</th>\n",
              "    </tr>\n",
              "  </thead>\n",
              "  <tbody>\n",
              "    <tr>\n",
              "      <th>0</th>\n",
              "      <td>Di kfc yg deket enhaii ada dy</td>\n",
              "      <td>0</td>\n",
              "      <td>sms normal</td>\n",
              "      <td>23</td>\n",
              "      <td>7</td>\n",
              "      <td>kfc deket enhaii dy</td>\n",
              "    </tr>\n",
              "    <tr>\n",
              "      <th>1</th>\n",
              "      <td>Maaf jika ada janji yang belum terpenuhi, jik...</td>\n",
              "      <td>0</td>\n",
              "      <td>sms normal</td>\n",
              "      <td>69</td>\n",
              "      <td>13</td>\n",
              "      <td>maaf janji janji</td>\n",
              "    </tr>\n",
              "    <tr>\n",
              "      <th>2</th>\n",
              "      <td>*ngsih bunga ato coklat min</td>\n",
              "      <td>0</td>\n",
              "      <td>sms normal</td>\n",
              "      <td>23</td>\n",
              "      <td>5</td>\n",
              "      <td>bunga ato coklat</td>\n",
              "    </tr>\n",
              "    <tr>\n",
              "      <th>3</th>\n",
              "      <td>.sambl nunggu itu.. Gimana kalo ngerjain form ...</td>\n",
              "      <td>0</td>\n",
              "      <td>sms normal</td>\n",
              "      <td>53</td>\n",
              "      <td>10</td>\n",
              "      <td>nunggu gimana ngerjain form formnya</td>\n",
              "    </tr>\n",
              "    <tr>\n",
              "      <th>4</th>\n",
              "      <td>[Akademik] Untuk perhatian tuk jadwal kontrak ...</td>\n",
              "      <td>0</td>\n",
              "      <td>sms normal</td>\n",
              "      <td>293</td>\n",
              "      <td>52</td>\n",
              "      <td>perhati tuk jadwal kontrak kuliah ang kuliah j...</td>\n",
              "    </tr>\n",
              "  </tbody>\n",
              "</table>\n",
              "</div>"
            ],
            "text/plain": [
              "                                                Teks  ...                                        Teks Bersih\n",
              "0                      Di kfc yg deket enhaii ada dy  ...                                kfc deket enhaii dy\n",
              "1   Maaf jika ada janji yang belum terpenuhi, jik...  ...                                   maaf janji janji\n",
              "2                       *ngsih bunga ato coklat min   ...                                   bunga ato coklat\n",
              "3  .sambl nunggu itu.. Gimana kalo ngerjain form ...  ...                nunggu gimana ngerjain form formnya\n",
              "4  [Akademik] Untuk perhatian tuk jadwal kontrak ...  ...  perhati tuk jadwal kontrak kuliah ang kuliah j...\n",
              "\n",
              "[5 rows x 6 columns]"
            ]
          },
          "metadata": {
            "tags": []
          },
          "execution_count": 67
        }
      ]
    },
    {
      "cell_type": "code",
      "metadata": {
        "colab": {
          "base_uri": "https://localhost:8080/",
          "height": 204
        },
        "id": "OEhX8_Q0pFE2",
        "outputId": "24b9c14e-1cd7-4a7c-9453-9584114b6d27"
      },
      "source": [
        "fraud.head()"
      ],
      "execution_count": 68,
      "outputs": [
        {
          "output_type": "execute_result",
          "data": {
            "text/html": [
              "<div>\n",
              "<style scoped>\n",
              "    .dataframe tbody tr th:only-of-type {\n",
              "        vertical-align: middle;\n",
              "    }\n",
              "\n",
              "    .dataframe tbody tr th {\n",
              "        vertical-align: top;\n",
              "    }\n",
              "\n",
              "    .dataframe thead th {\n",
              "        text-align: right;\n",
              "    }\n",
              "</style>\n",
              "<table border=\"1\" class=\"dataframe\">\n",
              "  <thead>\n",
              "    <tr style=\"text-align: right;\">\n",
              "      <th></th>\n",
              "      <th>Teks</th>\n",
              "      <th>label</th>\n",
              "      <th>Sentiment</th>\n",
              "      <th>char_count</th>\n",
              "      <th>word_count</th>\n",
              "      <th>Teks Bersih</th>\n",
              "    </tr>\n",
              "  </thead>\n",
              "  <tbody>\n",
              "    <tr>\n",
              "      <th>0</th>\n",
              "      <td>Jika anda bermasalah dgn CC/KT@, stres dgn bun...</td>\n",
              "      <td>1</td>\n",
              "      <td>fraud atau penipuan</td>\n",
              "      <td>104</td>\n",
              "      <td>16</td>\n",
              "      <td>masalah stres lunas disc aty legal</td>\n",
              "    </tr>\n",
              "    <tr>\n",
              "      <th>1</th>\n",
              "      <td>Lelah byr min payment? Kami Solusinya, bantu s...</td>\n",
              "      <td>1</td>\n",
              "      <td>fraud atau penipuan</td>\n",
              "      <td>121</td>\n",
              "      <td>17</td>\n",
              "      <td>lelah bantu legal tutup legal</td>\n",
              "    </tr>\n",
              "    <tr>\n",
              "      <th>2</th>\n",
              "      <td>Dana Tunai (KTA) bunga 0,99% hingga 300 jt. Sy...</td>\n",
              "      <td>1</td>\n",
              "      <td>fraud atau penipuan</td>\n",
              "      <td>123</td>\n",
              "      <td>28</td>\n",
              "      <td>dana tunai bunga syarat ktp bpkb rate cair hub...</td>\n",
              "    </tr>\n",
              "    <tr>\n",
              "      <th>3</th>\n",
              "      <td>“ROXI CELL” Hanya dengan Rp.100rb Anda bisa ja...</td>\n",
              "      <td>1</td>\n",
              "      <td>fraud atau penipuan</td>\n",
              "      <td>139</td>\n",
              "      <td>21</td>\n",
              "      <td>agen pulsa elektrik operator daftar ketik mtro...</td>\n",
              "    </tr>\n",
              "    <tr>\n",
              "      <th>4</th>\n",
              "      <td>3 RAMADHAN Selamat Anda Pemenang Rp.100jt. PIN...</td>\n",
              "      <td>1</td>\n",
              "      <td>fraud atau penipuan</td>\n",
              "      <td>90</td>\n",
              "      <td>11</td>\n",
              "      <td>ramadhan selamat menang pin code yrkz</td>\n",
              "    </tr>\n",
              "  </tbody>\n",
              "</table>\n",
              "</div>"
            ],
            "text/plain": [
              "                                                Teks  ...                                        Teks Bersih\n",
              "0  Jika anda bermasalah dgn CC/KT@, stres dgn bun...  ...                 masalah stres lunas disc aty legal\n",
              "1  Lelah byr min payment? Kami Solusinya, bantu s...  ...                      lelah bantu legal tutup legal\n",
              "2  Dana Tunai (KTA) bunga 0,99% hingga 300 jt. Sy...  ...  dana tunai bunga syarat ktp bpkb rate cair hub...\n",
              "3  “ROXI CELL” Hanya dengan Rp.100rb Anda bisa ja...  ...  agen pulsa elektrik operator daftar ketik mtro...\n",
              "4  3 RAMADHAN Selamat Anda Pemenang Rp.100jt. PIN...  ...              ramadhan selamat menang pin code yrkz\n",
              "\n",
              "[5 rows x 6 columns]"
            ]
          },
          "metadata": {
            "tags": []
          },
          "execution_count": 68
        }
      ]
    },
    {
      "cell_type": "code",
      "metadata": {
        "id": "cT515jAipJj6"
      },
      "source": [
        "top_20_kata_promo = word_frequency(promos['Teks Bersih'])[:20]\n",
        "top_20_kata_fraud = word_frequency(fraud['Teks Bersih'])[:20]\n",
        "top_20_kata_sms_normal = word_frequency(sms_normal['Teks Bersih'])[:20]"
      ],
      "execution_count": 69,
      "outputs": []
    },
    {
      "cell_type": "code",
      "metadata": {
        "colab": {
          "base_uri": "https://localhost:8080/",
          "height": 460
        },
        "id": "2urOmOjupvQ7",
        "outputId": "4c9ad589-9c4d-4c55-efed-6f0a63088dfb"
      },
      "source": [
        "top_20_kata_fraud\n",
        "top_20_kata_fraud.style.background_gradient(cmap = 'Reds')"
      ],
      "execution_count": 70,
      "outputs": [
        {
          "output_type": "execute_result",
          "data": {
            "text/html": [
              "<style  type=\"text/css\" >\n",
              "#T_08c28790_fd0a_11eb_820f_0242ac1c0002row0_col1{\n",
              "            background-color:  #67000d;\n",
              "            color:  #f1f1f1;\n",
              "        }#T_08c28790_fd0a_11eb_820f_0242ac1c0002row1_col1{\n",
              "            background-color:  #bf151b;\n",
              "            color:  #f1f1f1;\n",
              "        }#T_08c28790_fd0a_11eb_820f_0242ac1c0002row2_col1{\n",
              "            background-color:  #ea362a;\n",
              "            color:  #f1f1f1;\n",
              "        }#T_08c28790_fd0a_11eb_820f_0242ac1c0002row3_col1{\n",
              "            background-color:  #ef3c2c;\n",
              "            color:  #f1f1f1;\n",
              "        }#T_08c28790_fd0a_11eb_820f_0242ac1c0002row4_col1{\n",
              "            background-color:  #fa6648;\n",
              "            color:  #000000;\n",
              "        }#T_08c28790_fd0a_11eb_820f_0242ac1c0002row5_col1{\n",
              "            background-color:  #fb7555;\n",
              "            color:  #000000;\n",
              "        }#T_08c28790_fd0a_11eb_820f_0242ac1c0002row6_col1{\n",
              "            background-color:  #fcb99f;\n",
              "            color:  #000000;\n",
              "        }#T_08c28790_fd0a_11eb_820f_0242ac1c0002row7_col1{\n",
              "            background-color:  #fcc1a8;\n",
              "            color:  #000000;\n",
              "        }#T_08c28790_fd0a_11eb_820f_0242ac1c0002row8_col1{\n",
              "            background-color:  #fcc4ad;\n",
              "            color:  #000000;\n",
              "        }#T_08c28790_fd0a_11eb_820f_0242ac1c0002row9_col1{\n",
              "            background-color:  #fdc6b0;\n",
              "            color:  #000000;\n",
              "        }#T_08c28790_fd0a_11eb_820f_0242ac1c0002row10_col1{\n",
              "            background-color:  #fdd1be;\n",
              "            color:  #000000;\n",
              "        }#T_08c28790_fd0a_11eb_820f_0242ac1c0002row11_col1{\n",
              "            background-color:  #fedecf;\n",
              "            color:  #000000;\n",
              "        }#T_08c28790_fd0a_11eb_820f_0242ac1c0002row12_col1,#T_08c28790_fd0a_11eb_820f_0242ac1c0002row13_col1{\n",
              "            background-color:  #fee1d3;\n",
              "            color:  #000000;\n",
              "        }#T_08c28790_fd0a_11eb_820f_0242ac1c0002row14_col1,#T_08c28790_fd0a_11eb_820f_0242ac1c0002row15_col1{\n",
              "            background-color:  #fee3d6;\n",
              "            color:  #000000;\n",
              "        }#T_08c28790_fd0a_11eb_820f_0242ac1c0002row16_col1{\n",
              "            background-color:  #fee7db;\n",
              "            color:  #000000;\n",
              "        }#T_08c28790_fd0a_11eb_820f_0242ac1c0002row17_col1{\n",
              "            background-color:  #fee8de;\n",
              "            color:  #000000;\n",
              "        }#T_08c28790_fd0a_11eb_820f_0242ac1c0002row18_col1{\n",
              "            background-color:  #fff4ee;\n",
              "            color:  #000000;\n",
              "        }#T_08c28790_fd0a_11eb_820f_0242ac1c0002row19_col1{\n",
              "            background-color:  #fff5f0;\n",
              "            color:  #000000;\n",
              "        }</style><table id=\"T_08c28790_fd0a_11eb_820f_0242ac1c0002\" ><thead>    <tr>        <th class=\"blank level0\" ></th>        <th class=\"col_heading level0 col0\" >Kata</th>        <th class=\"col_heading level0 col1\" >Frekuensi</th>    </tr></thead><tbody>\n",
              "                <tr>\n",
              "                        <th id=\"T_08c28790_fd0a_11eb_820f_0242ac1c0002level0_row0\" class=\"row_heading level0 row0\" >151</th>\n",
              "                        <td id=\"T_08c28790_fd0a_11eb_820f_0242ac1c0002row0_col0\" class=\"data row0 col0\" >hadiah</td>\n",
              "                        <td id=\"T_08c28790_fd0a_11eb_820f_0242ac1c0002row0_col1\" class=\"data row0 col1\" >117</td>\n",
              "            </tr>\n",
              "            <tr>\n",
              "                        <th id=\"T_08c28790_fd0a_11eb_820f_0242ac1c0002level0_row1\" class=\"row_heading level0 row1\" >32</th>\n",
              "                        <td id=\"T_08c28790_fd0a_11eb_820f_0242ac1c0002row1_col0\" class=\"data row1 col0\" >pin</td>\n",
              "                        <td id=\"T_08c28790_fd0a_11eb_820f_0242ac1c0002row1_col1\" class=\"data row1 col1\" >98</td>\n",
              "            </tr>\n",
              "            <tr>\n",
              "                        <th id=\"T_08c28790_fd0a_11eb_820f_0242ac1c0002level0_row2\" class=\"row_heading level0 row2\" >93</th>\n",
              "                        <td id=\"T_08c28790_fd0a_11eb_820f_0242ac1c0002row2_col0\" class=\"data row2 col0\" >info</td>\n",
              "                        <td id=\"T_08c28790_fd0a_11eb_820f_0242ac1c0002row2_col1\" class=\"data row2 col1\" >85</td>\n",
              "            </tr>\n",
              "            <tr>\n",
              "                        <th id=\"T_08c28790_fd0a_11eb_820f_0242ac1c0002level0_row3\" class=\"row_heading level0 row3\" >53</th>\n",
              "                        <td id=\"T_08c28790_fd0a_11eb_820f_0242ac1c0002row3_col0\" class=\"data row3 col0\" >no</td>\n",
              "                        <td id=\"T_08c28790_fd0a_11eb_820f_0242ac1c0002row3_col1\" class=\"data row3 col1\" >83</td>\n",
              "            </tr>\n",
              "            <tr>\n",
              "                        <th id=\"T_08c28790_fd0a_11eb_820f_0242ac1c0002level0_row4\" class=\"row_heading level0 row4\" >31</th>\n",
              "                        <td id=\"T_08c28790_fd0a_11eb_820f_0242ac1c0002row4_col0\" class=\"data row4 col0\" >menang</td>\n",
              "                        <td id=\"T_08c28790_fd0a_11eb_820f_0242ac1c0002row4_col1\" class=\"data row4 col1\" >73</td>\n",
              "            </tr>\n",
              "            <tr>\n",
              "                        <th id=\"T_08c28790_fd0a_11eb_820f_0242ac1c0002level0_row5\" class=\"row_heading level0 row5\" >211</th>\n",
              "                        <td id=\"T_08c28790_fd0a_11eb_820f_0242ac1c0002row5_col0\" class=\"data row5 col0\" >resmi</td>\n",
              "                        <td id=\"T_08c28790_fd0a_11eb_820f_0242ac1c0002row5_col1\" class=\"data row5 col1\" >69</td>\n",
              "            </tr>\n",
              "            <tr>\n",
              "                        <th id=\"T_08c28790_fd0a_11eb_820f_0242ac1c0002level0_row6\" class=\"row_heading level0 row6\" >154</th>\n",
              "                        <td id=\"T_08c28790_fd0a_11eb_820f_0242ac1c0002row6_col0\" class=\"data row6 col0\" >cek</td>\n",
              "                        <td id=\"T_08c28790_fd0a_11eb_820f_0242ac1c0002row6_col1\" class=\"data row6 col1\" >50</td>\n",
              "            </tr>\n",
              "            <tr>\n",
              "                        <th id=\"T_08c28790_fd0a_11eb_820f_0242ac1c0002level0_row7\" class=\"row_heading level0 row7\" >216</th>\n",
              "                        <td id=\"T_08c28790_fd0a_11eb_820f_0242ac1c0002row7_col0\" class=\"data row7 col0\" >klik</td>\n",
              "                        <td id=\"T_08c28790_fd0a_11eb_820f_0242ac1c0002row7_col1\" class=\"data row7 col1\" >48</td>\n",
              "            </tr>\n",
              "            <tr>\n",
              "                        <th id=\"T_08c28790_fd0a_11eb_820f_0242ac1c0002level0_row8\" class=\"row_heading level0 row8\" >381</th>\n",
              "                        <td id=\"T_08c28790_fd0a_11eb_820f_0242ac1c0002row8_col0\" class=\"data row8 col0\" >care</td>\n",
              "                        <td id=\"T_08c28790_fd0a_11eb_820f_0242ac1c0002row8_col1\" class=\"data row8 col1\" >47</td>\n",
              "            </tr>\n",
              "            <tr>\n",
              "                        <th id=\"T_08c28790_fd0a_11eb_820f_0242ac1c0002level0_row9\" class=\"row_heading level0 row9\" >138</th>\n",
              "                        <td id=\"T_08c28790_fd0a_11eb_820f_0242ac1c0002row9_col0\" class=\"data row9 col0\" >tri</td>\n",
              "                        <td id=\"T_08c28790_fd0a_11eb_820f_0242ac1c0002row9_col1\" class=\"data row9 col1\" >46</td>\n",
              "            </tr>\n",
              "            <tr>\n",
              "                        <th id=\"T_08c28790_fd0a_11eb_820f_0242ac1c0002level0_row10\" class=\"row_heading level0 row10\" >102</th>\n",
              "                        <td id=\"T_08c28790_fd0a_11eb_820f_0242ac1c0002row10_col0\" class=\"data row10 col0\" >sms</td>\n",
              "                        <td id=\"T_08c28790_fd0a_11eb_820f_0242ac1c0002row10_col1\" class=\"data row10 col1\" >43</td>\n",
              "            </tr>\n",
              "            <tr>\n",
              "                        <th id=\"T_08c28790_fd0a_11eb_820f_0242ac1c0002level0_row11\" class=\"row_heading level0 row11\" >144</th>\n",
              "                        <td id=\"T_08c28790_fd0a_11eb_820f_0242ac1c0002row11_col0\" class=\"data row11 col0\" >undi</td>\n",
              "                        <td id=\"T_08c28790_fd0a_11eb_820f_0242ac1c0002row11_col1\" class=\"data row11 col1\" >39</td>\n",
              "            </tr>\n",
              "            <tr>\n",
              "                        <th id=\"T_08c28790_fd0a_11eb_820f_0242ac1c0002level0_row12\" class=\"row_heading level0 row12\" >17</th>\n",
              "                        <td id=\"T_08c28790_fd0a_11eb_820f_0242ac1c0002row12_col0\" class=\"data row12 col0\" >hub</td>\n",
              "                        <td id=\"T_08c28790_fd0a_11eb_820f_0242ac1c0002row12_col1\" class=\"data row12 col1\" >38</td>\n",
              "            </tr>\n",
              "            <tr>\n",
              "                        <th id=\"T_08c28790_fd0a_11eb_820f_0242ac1c0002level0_row13\" class=\"row_heading level0 row13\" >22</th>\n",
              "                        <td id=\"T_08c28790_fd0a_11eb_820f_0242ac1c0002row13_col0\" class=\"data row13 col0\" >pulsa</td>\n",
              "                        <td id=\"T_08c28790_fd0a_11eb_820f_0242ac1c0002row13_col1\" class=\"data row13 col1\" >38</td>\n",
              "            </tr>\n",
              "            <tr>\n",
              "                        <th id=\"T_08c28790_fd0a_11eb_820f_0242ac1c0002level0_row14\" class=\"row_heading level0 row14\" >28</th>\n",
              "                        <td id=\"T_08c28790_fd0a_11eb_820f_0242ac1c0002row14_col0\" class=\"data row14 col0\" >kirim</td>\n",
              "                        <td id=\"T_08c28790_fd0a_11eb_820f_0242ac1c0002row14_col1\" class=\"data row14 col1\" >37</td>\n",
              "            </tr>\n",
              "            <tr>\n",
              "                        <th id=\"T_08c28790_fd0a_11eb_820f_0242ac1c0002level0_row15\" class=\"row_heading level0 row15\" >98</th>\n",
              "                        <td id=\"T_08c28790_fd0a_11eb_820f_0242ac1c0002row15_col0\" class=\"data row15 col0\" >bb</td>\n",
              "                        <td id=\"T_08c28790_fd0a_11eb_820f_0242ac1c0002row15_col1\" class=\"data row15 col1\" >37</td>\n",
              "            </tr>\n",
              "            <tr>\n",
              "                        <th id=\"T_08c28790_fd0a_11eb_820f_0242ac1c0002level0_row16\" class=\"row_heading level0 row16\" >30</th>\n",
              "                        <td id=\"T_08c28790_fd0a_11eb_820f_0242ac1c0002row16_col0\" class=\"data row16 col0\" >selamat</td>\n",
              "                        <td id=\"T_08c28790_fd0a_11eb_820f_0242ac1c0002row16_col1\" class=\"data row16 col1\" >35</td>\n",
              "            </tr>\n",
              "            <tr>\n",
              "                        <th id=\"T_08c28790_fd0a_11eb_820f_0242ac1c0002level0_row17\" class=\"row_heading level0 row17\" >111</th>\n",
              "                        <td id=\"T_08c28790_fd0a_11eb_820f_0242ac1c0002row17_col0\" class=\"data row17 col0\" >mobil</td>\n",
              "                        <td id=\"T_08c28790_fd0a_11eb_820f_0242ac1c0002row17_col1\" class=\"data row17 col1\" >34</td>\n",
              "            </tr>\n",
              "            <tr>\n",
              "                        <th id=\"T_08c28790_fd0a_11eb_820f_0242ac1c0002level0_row18\" class=\"row_heading level0 row18\" >292</th>\n",
              "                        <td id=\"T_08c28790_fd0a_11eb_820f_0242ac1c0002row18_col0\" class=\"data row18 col0\" >uang</td>\n",
              "                        <td id=\"T_08c28790_fd0a_11eb_820f_0242ac1c0002row18_col1\" class=\"data row18 col1\" >28</td>\n",
              "            </tr>\n",
              "            <tr>\n",
              "                        <th id=\"T_08c28790_fd0a_11eb_820f_0242ac1c0002level0_row19\" class=\"row_heading level0 row19\" >78</th>\n",
              "                        <td id=\"T_08c28790_fd0a_11eb_820f_0242ac1c0002row19_col0\" class=\"data row19 col0\" >promo</td>\n",
              "                        <td id=\"T_08c28790_fd0a_11eb_820f_0242ac1c0002row19_col1\" class=\"data row19 col1\" >27</td>\n",
              "            </tr>\n",
              "    </tbody></table>"
            ],
            "text/plain": [
              "<pandas.io.formats.style.Styler at 0x7f87b630ff10>"
            ]
          },
          "metadata": {
            "tags": []
          },
          "execution_count": 70
        }
      ]
    },
    {
      "cell_type": "code",
      "metadata": {
        "colab": {
          "base_uri": "https://localhost:8080/",
          "height": 626
        },
        "id": "R_mUVmntpiuT",
        "outputId": "35b9812a-4504-48e3-e4f7-9f8a8623c38b"
      },
      "source": [
        "plt.figure(figsize = (15,10))\n",
        "sns.barplot(x = 'Frekuensi', y = 'Kata', data = top_20_kata_promo, color = 'orange')\n",
        "plt.title(\"Frekuensi Kata Pesan Promo\")\n",
        "plt.show()"
      ],
      "execution_count": 71,
      "outputs": [
        {
          "output_type": "display_data",
          "data": {
            "image/png": "[encoded data removed]",
            "text/plain": [
              "<Figure size 1080x720 with 1 Axes>"
            ]
          },
          "metadata": {
            "tags": [],
            "needs_background": "light"
          }
        }
      ]
    },
    {
      "cell_type": "markdown",
      "metadata": {
        "id": "1YVyrD8CqODe"
      },
      "source": [
        "Kata-kata yang sering muncul pada pesan promo adalah kata paket, kuota, sms, cek, pulsa, dan kata-kata yang berkaitan dengan tawaran promo pulsa ataupun internet oleh provider"
      ]
    },
    {
      "cell_type": "code",
      "metadata": {
        "colab": {
          "base_uri": "https://localhost:8080/",
          "height": 626
        },
        "id": "mNqAtshJqaOG",
        "outputId": "c9bb65f9-9b68-46cf-e8da-044f334257a3"
      },
      "source": [
        "plt.figure(figsize = (15,10))\n",
        "sns.barplot(x = 'Frekuensi', y = 'Kata', data = top_20_kata_sms_normal, color = 'cornflowerblue')\n",
        "plt.title(\"Frekuensi Kata Pesan Biasa\")\n",
        "plt.show()"
      ],
      "execution_count": 72,
      "outputs": [
        {
          "output_type": "display_data",
          "data": {
            "image/png": "[encoded data removed]",
            "text/plain": [
              "<Figure size 1080x720 with 1 Axes>"
            ]
          },
          "metadata": {
            "tags": [],
            "needs_background": "light"
          }
        }
      ]
    },
    {
      "cell_type": "markdown",
      "metadata": {
        "id": "Qj44-iTUqkdA"
      },
      "source": [
        "Karena SMS sering menggunakan percakapan dengan kata yang dipersingkat maka kata-kata teratas adalah kata-kata yang menjadi singkatan dari yang sebenarnya"
      ]
    },
    {
      "cell_type": "code",
      "metadata": {
        "colab": {
          "base_uri": "https://localhost:8080/",
          "height": 626
        },
        "id": "rvAel1lAsNHP",
        "outputId": "56eabd97-1285-4785-cca4-e834074bc377"
      },
      "source": [
        "plt.figure(figsize = (15,10))\n",
        "sns.barplot(x = 'Frekuensi', y = 'Kata', data = top_20_kata_fraud, color = 'indianred')\n",
        "plt.title(\"Frekuensi Kata Pesan Penipuan\")\n",
        "plt.show()"
      ],
      "execution_count": 73,
      "outputs": [
        {
          "output_type": "display_data",
          "data": {
            "image/png": "[encoded data removed]",
            "text/plain": [
              "<Figure size 1080x720 with 1 Axes>"
            ]
          },
          "metadata": {
            "tags": [],
            "needs_background": "light"
          }
        }
      ]
    },
    {
      "cell_type": "markdown",
      "metadata": {
        "id": "fpH5VZONO67-"
      },
      "source": [
        "Kata-kata yang sering muncul dalam pesan penipuan adalah hadiah, pin, info, pemenang serta benda-benda mewah seperti mobil, uang jutaan, dan lain-lain"
      ]
    },
    {
      "cell_type": "markdown",
      "metadata": {
        "id": "ke1DOAJGPjMo"
      },
      "source": [
        "# Text Prediction"
      ]
    },
    {
      "cell_type": "markdown",
      "metadata": {
        "id": "MkRHm4XGPm3y"
      },
      "source": [
        "Akan dilakukan prediksi sentiment dengan data teks yang telah dibersihkan, percobaan pertama akan menggunakan model ML seperti Logistic Regression, Naive Bayes dan Linear SVC. Untuk vectorizernya akan digunakan TfidfVectorizer"
      ]
    },
    {
      "cell_type": "markdown",
      "metadata": {
        "id": "dHxtYyPnP2JS"
      },
      "source": [
        "## Logistic Regression"
      ]
    },
    {
      "cell_type": "code",
      "metadata": {
        "id": "CZPmkYXiPxcC"
      },
      "source": [
        "from sklearn.model_selection import train_test_split, RandomizedSearchCV\n",
        "from sklearn.feature_extraction.text import TfidfVectorizer\n",
        "from sklearn.linear_model import LogisticRegression\n",
        "from sklearn.svm import LinearSVC\n",
        "from sklearn.pipeline import Pipeline, FeatureUnion\n",
        "from sklearn.metrics import classification_report, confusion_matrix\n",
        "from sklearn.preprocessing import StandardScaler,MinMaxScaler,FunctionTransformer\n",
        "from sklearn.naive_bayes import MultinomialNB"
      ],
      "execution_count": 74,
      "outputs": []
    },
    {
      "cell_type": "code",
      "metadata": {
        "colab": {
          "base_uri": "https://localhost:8080/",
          "height": 204
        },
        "id": "x04suzBKQK5r",
        "outputId": "3044549d-f31d-4233-eff8-2cf64da4fd92"
      },
      "source": [
        "data.head()"
      ],
      "execution_count": 75,
      "outputs": [
        {
          "output_type": "execute_result",
          "data": {
            "text/html": [
              "<div>\n",
              "<style scoped>\n",
              "    .dataframe tbody tr th:only-of-type {\n",
              "        vertical-align: middle;\n",
              "    }\n",
              "\n",
              "    .dataframe tbody tr th {\n",
              "        vertical-align: top;\n",
              "    }\n",
              "\n",
              "    .dataframe thead th {\n",
              "        text-align: right;\n",
              "    }\n",
              "</style>\n",
              "<table border=\"1\" class=\"dataframe\">\n",
              "  <thead>\n",
              "    <tr style=\"text-align: right;\">\n",
              "      <th></th>\n",
              "      <th>Teks</th>\n",
              "      <th>label</th>\n",
              "      <th>Sentiment</th>\n",
              "      <th>char_count</th>\n",
              "      <th>word_count</th>\n",
              "      <th>Teks Bersih</th>\n",
              "    </tr>\n",
              "  </thead>\n",
              "  <tbody>\n",
              "    <tr>\n",
              "      <th>0</th>\n",
              "      <td>[PROMO] Beli paket Flash mulai 1GB di MY TELKO...</td>\n",
              "      <td>2</td>\n",
              "      <td>promo</td>\n",
              "      <td>127</td>\n",
              "      <td>26</td>\n",
              "      <td>beli paket flash my telkomsel app extra kuota ...</td>\n",
              "    </tr>\n",
              "    <tr>\n",
              "      <th>1</th>\n",
              "      <td>2.5 GB/30 hari hanya Rp 35 Ribu Spesial buat A...</td>\n",
              "      <td>2</td>\n",
              "      <td>promo</td>\n",
              "      <td>128</td>\n",
              "      <td>25</td>\n",
              "      <td>spesial aktif promo buru aktif</td>\n",
              "    </tr>\n",
              "    <tr>\n",
              "      <th>2</th>\n",
              "      <td>2016-07-08 11:47:11.Plg Yth, sisa kuota Flash ...</td>\n",
              "      <td>2</td>\n",
              "      <td>promo</td>\n",
              "      <td>132</td>\n",
              "      <td>21</td>\n",
              "      <td>plg sisa kuota flash download mytelkomsel apps...</td>\n",
              "    </tr>\n",
              "    <tr>\n",
              "      <th>3</th>\n",
              "      <td>2016-08-07 11:29:47.Plg Yth, sisa kuota Flash ...</td>\n",
              "      <td>2</td>\n",
              "      <td>promo</td>\n",
              "      <td>133</td>\n",
              "      <td>21</td>\n",
              "      <td>plg sisa kuota flash download mytelkomsel apps...</td>\n",
              "    </tr>\n",
              "    <tr>\n",
              "      <th>4</th>\n",
              "      <td>4.5GB/30 hari hanya Rp 55 Ribu Spesial buat an...</td>\n",
              "      <td>2</td>\n",
              "      <td>promo</td>\n",
              "      <td>96</td>\n",
              "      <td>18</td>\n",
              "      <td>spesial aktif skb</td>\n",
              "    </tr>\n",
              "  </tbody>\n",
              "</table>\n",
              "</div>"
            ],
            "text/plain": [
              "                                                Teks  ...                                        Teks Bersih\n",
              "0  [PROMO] Beli paket Flash mulai 1GB di MY TELKO...  ...  beli paket flash my telkomsel app extra kuota ...\n",
              "1  2.5 GB/30 hari hanya Rp 35 Ribu Spesial buat A...  ...                     spesial aktif promo buru aktif\n",
              "2  2016-07-08 11:47:11.Plg Yth, sisa kuota Flash ...  ...  plg sisa kuota flash download mytelkomsel apps...\n",
              "3  2016-08-07 11:29:47.Plg Yth, sisa kuota Flash ...  ...  plg sisa kuota flash download mytelkomsel apps...\n",
              "4  4.5GB/30 hari hanya Rp 55 Ribu Spesial buat an...  ...                                  spesial aktif skb\n",
              "\n",
              "[5 rows x 6 columns]"
            ]
          },
          "metadata": {
            "tags": []
          },
          "execution_count": 75
        }
      ]
    },
    {
      "cell_type": "code",
      "metadata": {
        "id": "Ft8AVWNJTZFt"
      },
      "source": [
        "data['avg_word_length'] = data['char_count']/data['word_count']"
      ],
      "execution_count": 76,
      "outputs": []
    },
    {
      "cell_type": "code",
      "metadata": {
        "id": "H5SRta56QNbE"
      },
      "source": [
        "data.drop(['Teks','Sentiment','char_count','word_count'], axis = 1, inplace = True)"
      ],
      "execution_count": 77,
      "outputs": []
    },
    {
      "cell_type": "code",
      "metadata": {
        "colab": {
          "base_uri": "https://localhost:8080/",
          "height": 204
        },
        "id": "EZA8RolMQRKw",
        "outputId": "dbdd69d8-b30e-4341-8553-7ccc2e3b1b53"
      },
      "source": [
        "data.head()"
      ],
      "execution_count": 78,
      "outputs": [
        {
          "output_type": "execute_result",
          "data": {
            "text/html": [
              "<div>\n",
              "<style scoped>\n",
              "    .dataframe tbody tr th:only-of-type {\n",
              "        vertical-align: middle;\n",
              "    }\n",
              "\n",
              "    .dataframe tbody tr th {\n",
              "        vertical-align: top;\n",
              "    }\n",
              "\n",
              "    .dataframe thead th {\n",
              "        text-align: right;\n",
              "    }\n",
              "</style>\n",
              "<table border=\"1\" class=\"dataframe\">\n",
              "  <thead>\n",
              "    <tr style=\"text-align: right;\">\n",
              "      <th></th>\n",
              "      <th>label</th>\n",
              "      <th>Teks Bersih</th>\n",
              "      <th>avg_word_length</th>\n",
              "    </tr>\n",
              "  </thead>\n",
              "  <tbody>\n",
              "    <tr>\n",
              "      <th>0</th>\n",
              "      <td>2</td>\n",
              "      <td>beli paket flash my telkomsel app extra kuota ...</td>\n",
              "      <td>4.884615</td>\n",
              "    </tr>\n",
              "    <tr>\n",
              "      <th>1</th>\n",
              "      <td>2</td>\n",
              "      <td>spesial aktif promo buru aktif</td>\n",
              "      <td>5.120000</td>\n",
              "    </tr>\n",
              "    <tr>\n",
              "      <th>2</th>\n",
              "      <td>2</td>\n",
              "      <td>plg sisa kuota flash download mytelkomsel apps...</td>\n",
              "      <td>6.285714</td>\n",
              "    </tr>\n",
              "    <tr>\n",
              "      <th>3</th>\n",
              "      <td>2</td>\n",
              "      <td>plg sisa kuota flash download mytelkomsel apps...</td>\n",
              "      <td>6.333333</td>\n",
              "    </tr>\n",
              "    <tr>\n",
              "      <th>4</th>\n",
              "      <td>2</td>\n",
              "      <td>spesial aktif skb</td>\n",
              "      <td>5.333333</td>\n",
              "    </tr>\n",
              "  </tbody>\n",
              "</table>\n",
              "</div>"
            ],
            "text/plain": [
              "   label                                        Teks Bersih  avg_word_length\n",
              "0      2  beli paket flash my telkomsel app extra kuota ...         4.884615\n",
              "1      2                     spesial aktif promo buru aktif         5.120000\n",
              "2      2  plg sisa kuota flash download mytelkomsel apps...         6.285714\n",
              "3      2  plg sisa kuota flash download mytelkomsel apps...         6.333333\n",
              "4      2                                  spesial aktif skb         5.333333"
            ]
          },
          "metadata": {
            "tags": []
          },
          "execution_count": 78
        }
      ]
    },
    {
      "cell_type": "code",
      "metadata": {
        "colab": {
          "base_uri": "https://localhost:8080/"
        },
        "id": "lFtD8-3bQjbt",
        "outputId": "df7706a9-49b1-4319-ce10-7837da4c08a3"
      },
      "source": [
        "data.columns"
      ],
      "execution_count": 79,
      "outputs": [
        {
          "output_type": "execute_result",
          "data": {
            "text/plain": [
              "Index(['label', 'Teks Bersih', 'avg_word_length'], dtype='object')"
            ]
          },
          "metadata": {
            "tags": []
          },
          "execution_count": 79
        }
      ]
    },
    {
      "cell_type": "code",
      "metadata": {
        "id": "AAIcwi9MQTLt"
      },
      "source": [
        "X = data.drop('label',axis = 1)\n",
        "y = data['label']\n",
        "\n",
        "\n",
        "X_train, X_test, y_train, y_test = train_test_split(X, y, test_size = 0.3, random_state = 111, stratify = y)"
      ],
      "execution_count": 80,
      "outputs": []
    },
    {
      "cell_type": "code",
      "metadata": {
        "id": "hMIkmWWvSuMH"
      },
      "source": [
        "#Buat fungsi untuk mengambil data bertipe teks\n",
        "get_text_data = FunctionTransformer(lambda x: x['Teks Bersih'], validate = False)\n",
        "\n",
        "# Buat fungsi untuk mengambil data bertipe numerik\n",
        "get_numeric_data = FunctionTransformer(lambda x: x[['avg_word_length']], validate = False)"
      ],
      "execution_count": 81,
      "outputs": []
    },
    {
      "cell_type": "code",
      "metadata": {
        "id": "STlVI5WWSEJ4"
      },
      "source": [
        "numeric_pipe = Pipeline([('selector', get_numeric_data),\n",
        "                   ('scaler', StandardScaler())])\n",
        "\n",
        "text_pipe = Pipeline([('selector', get_text_data),\n",
        "                        ('vectorizer', TfidfVectorizer())])\n",
        "\n",
        "pl_1 = Pipeline([('union', FeatureUnion([('numeric',numeric_pipe),\n",
        "                                         ('text', text_pipe)])),\n",
        "                 ('clf', LogisticRegression())])\n"
      ],
      "execution_count": 82,
      "outputs": []
    },
    {
      "cell_type": "code",
      "metadata": {
        "id": "oI91rl8xUO-z"
      },
      "source": [
        "param_grid_logreg = {'union__text__vectorizer__ngram_range':((1,1),(1,2),(2,2)),\n",
        "              'clf__tol':(1e-7, 1e-6,1e-5,1e-4,1e-3,1e-2,1e-1),\n",
        "              'clf__C':(0.01, 0.05, 0.1, 0.5, 0.9, 1.0, 1.5, 2.0, 2.5),\n",
        "              }\n",
        "\n",
        "logreg_cv = RandomizedSearchCV(pl_1, param_grid_logreg, cv = 3)"
      ],
      "execution_count": 102,
      "outputs": []
    },
    {
      "cell_type": "code",
      "metadata": {
        "colab": {
          "base_uri": "https://localhost:8080/"
        },
        "id": "s0avcrUpUtzC",
        "outputId": "ab4679c4-215f-47f0-d98e-4ec52b38cd84"
      },
      "source": [
        "logreg_cv.fit(X_train, y_train)"
      ],
      "execution_count": 103,
      "outputs": [
        {
          "output_type": "execute_result",
          "data": {
            "text/plain": [
              "RandomizedSearchCV(cv=3, error_score=nan,\n",
              "                   estimator=Pipeline(memory=None,\n",
              "                                      steps=[('union',\n",
              "                                              FeatureUnion(n_jobs=None,\n",
              "                                                           transformer_list=[('numeric',\n",
              "                                                                              Pipeline(memory=None,\n",
              "                                                                                       steps=[('selector',\n",
              "                                                                                               FunctionTransformer(accept_sparse=False,\n",
              "                                                                                                                   check_inverse=True,\n",
              "                                                                                                                   func=<function <lambda> at 0x7f87b4636b00>,\n",
              "                                                                                                                   inv_kw_args=None,\n",
              "                                                                                                                   inverse_func=None,\n",
              "                                                                                                                   kw_args=None,\n",
              "                                                                                                                   validate=False)),\n",
              "                                                                                              ('sca...\n",
              "                                                                 warm_start=False))],\n",
              "                                      verbose=False),\n",
              "                   iid='deprecated', n_iter=10, n_jobs=None,\n",
              "                   param_distributions={'clf__C': (0.01, 0.05, 0.1, 0.5, 0.9,\n",
              "                                                   1.0, 1.5, 2.0, 2.5),\n",
              "                                        'clf__tol': (1e-07, 1e-06, 1e-05,\n",
              "                                                     0.0001, 0.001, 0.01, 0.1),\n",
              "                                        'union__text__vectorizer__ngram_range': ((1,\n",
              "                                                                                  1),\n",
              "                                                                                 (1,\n",
              "                                                                                  2),\n",
              "                                                                                 (2,\n",
              "                                                                                  2))},\n",
              "                   pre_dispatch='2*n_jobs', random_state=None, refit=True,\n",
              "                   return_train_score=False, scoring=None, verbose=0)"
            ]
          },
          "metadata": {
            "tags": []
          },
          "execution_count": 103
        }
      ]
    },
    {
      "cell_type": "code",
      "metadata": {
        "colab": {
          "base_uri": "https://localhost:8080/"
        },
        "id": "5wA4J3GTVP-c",
        "outputId": "d4ea7ad6-73e0-40bb-cb3d-03d6be0cf49f"
      },
      "source": [
        "logreg_cv.best_params_"
      ],
      "execution_count": 104,
      "outputs": [
        {
          "output_type": "execute_result",
          "data": {
            "text/plain": [
              "{'clf__C': 2.0,\n",
              " 'clf__tol': 0.0001,\n",
              " 'union__text__vectorizer__ngram_range': (1, 1)}"
            ]
          },
          "metadata": {
            "tags": []
          },
          "execution_count": 104
        }
      ]
    },
    {
      "cell_type": "code",
      "metadata": {
        "colab": {
          "base_uri": "https://localhost:8080/"
        },
        "id": "jrvZFRxuVVO6",
        "outputId": "d4e19204-0010-4ad3-cd53-7ba3daaa3e2b"
      },
      "source": [
        "logreg_cv.best_score_"
      ],
      "execution_count": 105,
      "outputs": [
        {
          "output_type": "execute_result",
          "data": {
            "text/plain": [
              "0.9012606422423101"
            ]
          },
          "metadata": {
            "tags": []
          },
          "execution_count": 105
        }
      ]
    },
    {
      "cell_type": "markdown",
      "metadata": {
        "id": "W81G0sPWVa0g"
      },
      "source": [
        "Dihasilkan akurasi sebesar 90.1%, yang mana merupakan hasil yang bagus, akan dilihat lebih lanjut accuracy reportnya"
      ]
    },
    {
      "cell_type": "code",
      "metadata": {
        "colab": {
          "base_uri": "https://localhost:8080/"
        },
        "id": "E5vsTDD6Vkku",
        "outputId": "7afac02a-5e39-42ca-b5c9-225f35998a28"
      },
      "source": [
        "y_pred = logreg_cv.predict(X_test)\n",
        "\n",
        "print(classification_report(y_test, y_pred))"
      ],
      "execution_count": 87,
      "outputs": [
        {
          "output_type": "stream",
          "text": [
            "              precision    recall  f1-score   support\n",
            "\n",
            "           0       0.90      0.94      0.92       171\n",
            "           1       0.89      0.84      0.87       100\n",
            "           2       0.87      0.85      0.86        72\n",
            "\n",
            "    accuracy                           0.89       343\n",
            "   macro avg       0.89      0.88      0.88       343\n",
            "weighted avg       0.89      0.89      0.89       343\n",
            "\n"
          ],
          "name": "stdout"
        }
      ]
    },
    {
      "cell_type": "markdown",
      "metadata": {
        "id": "XX-SCu6jcGBx"
      },
      "source": [
        "## Naive Bayes"
      ]
    },
    {
      "cell_type": "code",
      "metadata": {
        "id": "_6rt-Ty3cHfP"
      },
      "source": [
        "numeric_pipe_nb = Pipeline([('selector', get_numeric_data),\n",
        "                   ('scaler', MinMaxScaler())])\n",
        "pl_2 = Pipeline([('union', FeatureUnion([('numeric',numeric_pipe_nb),\n",
        "                                         ('text', text_pipe)])),\n",
        "                 ('clf', MultinomialNB())])"
      ],
      "execution_count": 88,
      "outputs": []
    },
    {
      "cell_type": "code",
      "metadata": {
        "id": "V6Wrcf3HcUw9"
      },
      "source": [
        "param_grid_nb = {'union__text__vectorizer__ngram_range':((1,1),(1,2),(2,2)),\n",
        "              'clf__alpha':(0.01, 0.05, 0.1, 0.5, 0.9, 1.0, 1.5, 2.0, 2.5)\n",
        "              }\n",
        "\n",
        "nb_cv = RandomizedSearchCV(pl_2, param_grid_nb, cv = 3)"
      ],
      "execution_count": 98,
      "outputs": []
    },
    {
      "cell_type": "code",
      "metadata": {
        "colab": {
          "base_uri": "https://localhost:8080/"
        },
        "id": "krIJotFUclnC",
        "outputId": "075d8921-c075-4a4b-afa8-5c75a3860ae1"
      },
      "source": [
        "nb_cv.fit(X_train, y_train)"
      ],
      "execution_count": 99,
      "outputs": [
        {
          "output_type": "execute_result",
          "data": {
            "text/plain": [
              "RandomizedSearchCV(cv=3, error_score=nan,\n",
              "                   estimator=Pipeline(memory=None,\n",
              "                                      steps=[('union',\n",
              "                                              FeatureUnion(n_jobs=None,\n",
              "                                                           transformer_list=[('numeric',\n",
              "                                                                              Pipeline(memory=None,\n",
              "                                                                                       steps=[('selector',\n",
              "                                                                                               FunctionTransformer(accept_sparse=False,\n",
              "                                                                                                                   check_inverse=True,\n",
              "                                                                                                                   func=<function <lambda> at 0x7f87b4636b00>,\n",
              "                                                                                                                   inv_kw_args=None,\n",
              "                                                                                                                   inverse_func=None,\n",
              "                                                                                                                   kw_args=None,\n",
              "                                                                                                                   validate=False)),\n",
              "                                                                                              ('sca...\n",
              "                                             ('clf',\n",
              "                                              MultinomialNB(alpha=1.0,\n",
              "                                                            class_prior=None,\n",
              "                                                            fit_prior=True))],\n",
              "                                      verbose=False),\n",
              "                   iid='deprecated', n_iter=10, n_jobs=None,\n",
              "                   param_distributions={'clf__alpha': (0.01, 0.05, 0.1, 0.5,\n",
              "                                                       0.9, 1.0, 1.5, 2.0,\n",
              "                                                       2.5),\n",
              "                                        'union__text__vectorizer__ngram_range': ((1,\n",
              "                                                                                  1),\n",
              "                                                                                 (1,\n",
              "                                                                                  2),\n",
              "                                                                                 (2,\n",
              "                                                                                  2))},\n",
              "                   pre_dispatch='2*n_jobs', random_state=None, refit=True,\n",
              "                   return_train_score=False, scoring=None, verbose=0)"
            ]
          },
          "metadata": {
            "tags": []
          },
          "execution_count": 99
        }
      ]
    },
    {
      "cell_type": "code",
      "metadata": {
        "colab": {
          "base_uri": "https://localhost:8080/"
        },
        "id": "gy-QwZ51crXz",
        "outputId": "701fb900-700b-4a99-cd09-b08b86d11fca"
      },
      "source": [
        "nb_cv.best_params_"
      ],
      "execution_count": 100,
      "outputs": [
        {
          "output_type": "execute_result",
          "data": {
            "text/plain": [
              "{'clf__alpha': 0.5, 'union__text__vectorizer__ngram_range': (1, 2)}"
            ]
          },
          "metadata": {
            "tags": []
          },
          "execution_count": 100
        }
      ]
    },
    {
      "cell_type": "code",
      "metadata": {
        "colab": {
          "base_uri": "https://localhost:8080/"
        },
        "id": "VAOjVfu3cuMT",
        "outputId": "65596dba-f51c-4d21-bcf5-dde65761d4c7"
      },
      "source": [
        "nb_cv.best_score_"
      ],
      "execution_count": 101,
      "outputs": [
        {
          "output_type": "execute_result",
          "data": {
            "text/plain": [
              "0.908770052472004"
            ]
          },
          "metadata": {
            "tags": []
          },
          "execution_count": 101
        }
      ]
    },
    {
      "cell_type": "markdown",
      "metadata": {
        "id": "YW68NChacydo"
      },
      "source": [
        "Akurasi yang dihasilkan lebih tinggi dibandingkan Logistic Regression, dengan Naive Bayes diperoleh 90.5% akurasi "
      ]
    },
    {
      "cell_type": "markdown",
      "metadata": {
        "id": "UIhnwv2Kc-4P"
      },
      "source": [
        "## Linear SVC"
      ]
    },
    {
      "cell_type": "code",
      "metadata": {
        "id": "olKe-elNc2eR"
      },
      "source": [
        "pl_3 = Pipeline([('union', FeatureUnion([('numeric',numeric_pipe),\n",
        "                                         ('text', text_pipe)])),\n",
        "                 ('clf', LinearSVC())])\n"
      ],
      "execution_count": 93,
      "outputs": []
    },
    {
      "cell_type": "code",
      "metadata": {
        "id": "B3yXeENDdSAg"
      },
      "source": [
        "param_grid_svc = {'union__text__vectorizer__ngram_range':((1,1),(1,2),(2,2)),\n",
        "              'clf__tol':(1e-7, 1e-6,1e-5,1e-4,1e-3,1e-2,1e-1),\n",
        "              'clf__C':(0.01, 0.05, 0.1, 0.5, 0.9, 1.0, 1.5, 2.0, 2.5),\n",
        "              }\n",
        "\n",
        "svc_cv = RandomizedSearchCV(pl_3, param_grid_svc, cv = 3)"
      ],
      "execution_count": 94,
      "outputs": []
    },
    {
      "cell_type": "code",
      "metadata": {
        "colab": {
          "base_uri": "https://localhost:8080/"
        },
        "id": "AuKoT2SHdeOn",
        "outputId": "876693d1-53e1-46a8-9d85-45e33aabd88a"
      },
      "source": [
        "svc_cv.fit(X_train, y_train)"
      ],
      "execution_count": 95,
      "outputs": [
        {
          "output_type": "stream",
          "text": [
            "/usr/local/lib/python3.7/dist-packages/sklearn/svm/_base.py:947: ConvergenceWarning: Liblinear failed to converge, increase the number of iterations.\n",
            "  \"the number of iterations.\", ConvergenceWarning)\n",
            "/usr/local/lib/python3.7/dist-packages/sklearn/svm/_base.py:947: ConvergenceWarning: Liblinear failed to converge, increase the number of iterations.\n",
            "  \"the number of iterations.\", ConvergenceWarning)\n",
            "/usr/local/lib/python3.7/dist-packages/sklearn/svm/_base.py:947: ConvergenceWarning: Liblinear failed to converge, increase the number of iterations.\n",
            "  \"the number of iterations.\", ConvergenceWarning)\n",
            "/usr/local/lib/python3.7/dist-packages/sklearn/svm/_base.py:947: ConvergenceWarning: Liblinear failed to converge, increase the number of iterations.\n",
            "  \"the number of iterations.\", ConvergenceWarning)\n",
            "/usr/local/lib/python3.7/dist-packages/sklearn/svm/_base.py:947: ConvergenceWarning: Liblinear failed to converge, increase the number of iterations.\n",
            "  \"the number of iterations.\", ConvergenceWarning)\n",
            "/usr/local/lib/python3.7/dist-packages/sklearn/svm/_base.py:947: ConvergenceWarning: Liblinear failed to converge, increase the number of iterations.\n",
            "  \"the number of iterations.\", ConvergenceWarning)\n",
            "/usr/local/lib/python3.7/dist-packages/sklearn/svm/_base.py:947: ConvergenceWarning: Liblinear failed to converge, increase the number of iterations.\n",
            "  \"the number of iterations.\", ConvergenceWarning)\n",
            "/usr/local/lib/python3.7/dist-packages/sklearn/svm/_base.py:947: ConvergenceWarning: Liblinear failed to converge, increase the number of iterations.\n",
            "  \"the number of iterations.\", ConvergenceWarning)\n",
            "/usr/local/lib/python3.7/dist-packages/sklearn/svm/_base.py:947: ConvergenceWarning: Liblinear failed to converge, increase the number of iterations.\n",
            "  \"the number of iterations.\", ConvergenceWarning)\n",
            "/usr/local/lib/python3.7/dist-packages/sklearn/svm/_base.py:947: ConvergenceWarning: Liblinear failed to converge, increase the number of iterations.\n",
            "  \"the number of iterations.\", ConvergenceWarning)\n",
            "/usr/local/lib/python3.7/dist-packages/sklearn/svm/_base.py:947: ConvergenceWarning: Liblinear failed to converge, increase the number of iterations.\n",
            "  \"the number of iterations.\", ConvergenceWarning)\n",
            "/usr/local/lib/python3.7/dist-packages/sklearn/svm/_base.py:947: ConvergenceWarning: Liblinear failed to converge, increase the number of iterations.\n",
            "  \"the number of iterations.\", ConvergenceWarning)\n",
            "/usr/local/lib/python3.7/dist-packages/sklearn/svm/_base.py:947: ConvergenceWarning: Liblinear failed to converge, increase the number of iterations.\n",
            "  \"the number of iterations.\", ConvergenceWarning)\n",
            "/usr/local/lib/python3.7/dist-packages/sklearn/svm/_base.py:947: ConvergenceWarning: Liblinear failed to converge, increase the number of iterations.\n",
            "  \"the number of iterations.\", ConvergenceWarning)\n",
            "/usr/local/lib/python3.7/dist-packages/sklearn/svm/_base.py:947: ConvergenceWarning: Liblinear failed to converge, increase the number of iterations.\n",
            "  \"the number of iterations.\", ConvergenceWarning)\n"
          ],
          "name": "stderr"
        },
        {
          "output_type": "execute_result",
          "data": {
            "text/plain": [
              "RandomizedSearchCV(cv=3, error_score=nan,\n",
              "                   estimator=Pipeline(memory=None,\n",
              "                                      steps=[('union',\n",
              "                                              FeatureUnion(n_jobs=None,\n",
              "                                                           transformer_list=[('numeric',\n",
              "                                                                              Pipeline(memory=None,\n",
              "                                                                                       steps=[('selector',\n",
              "                                                                                               FunctionTransformer(accept_sparse=False,\n",
              "                                                                                                                   check_inverse=True,\n",
              "                                                                                                                   func=<function <lambda> at 0x7f87b4636b00>,\n",
              "                                                                                                                   inv_kw_args=None,\n",
              "                                                                                                                   inverse_func=None,\n",
              "                                                                                                                   kw_args=None,\n",
              "                                                                                                                   validate=False)),\n",
              "                                                                                              ('sca...\n",
              "                                                        verbose=0))],\n",
              "                                      verbose=False),\n",
              "                   iid='deprecated', n_iter=10, n_jobs=None,\n",
              "                   param_distributions={'clf__C': (0.01, 0.05, 0.1, 0.5, 0.9,\n",
              "                                                   1.0, 1.5, 2.0, 2.5),\n",
              "                                        'clf__tol': (1e-07, 1e-06, 1e-05,\n",
              "                                                     0.0001, 0.001, 0.01, 0.1),\n",
              "                                        'union__text__vectorizer__ngram_range': ((1,\n",
              "                                                                                  1),\n",
              "                                                                                 (1,\n",
              "                                                                                  2),\n",
              "                                                                                 (2,\n",
              "                                                                                  2))},\n",
              "                   pre_dispatch='2*n_jobs', random_state=None, refit=True,\n",
              "                   return_train_score=False, scoring=None, verbose=0)"
            ]
          },
          "metadata": {
            "tags": []
          },
          "execution_count": 95
        }
      ]
    },
    {
      "cell_type": "code",
      "metadata": {
        "colab": {
          "base_uri": "https://localhost:8080/"
        },
        "id": "i14DTTE3diUI",
        "outputId": "62ba922c-7ceb-4d79-8279-74291eb7a4cc"
      },
      "source": [
        "svc_cv.best_params_"
      ],
      "execution_count": 96,
      "outputs": [
        {
          "output_type": "execute_result",
          "data": {
            "text/plain": [
              "{'clf__C': 2.0,\n",
              " 'clf__tol': 1e-05,\n",
              " 'union__text__vectorizer__ngram_range': (1, 2)}"
            ]
          },
          "metadata": {
            "tags": []
          },
          "execution_count": 96
        }
      ]
    },
    {
      "cell_type": "code",
      "metadata": {
        "colab": {
          "base_uri": "https://localhost:8080/"
        },
        "id": "Cws5u4ZSdwsz",
        "outputId": "59e7cacf-aaf5-4a5f-ce1c-4963c964ba6e"
      },
      "source": [
        "svc_cv.best_score_"
      ],
      "execution_count": 97,
      "outputs": [
        {
          "output_type": "execute_result",
          "data": {
            "text/plain": [
              "0.9175185153895976"
            ]
          },
          "metadata": {
            "tags": []
          },
          "execution_count": 97
        }
      ]
    },
    {
      "cell_type": "markdown",
      "metadata": {
        "id": "Gt-tQk8Hd1si"
      },
      "source": [
        "Akurasi yang dihasilkan oleh Linear SVC lebih tinggi dibandingkan dengan Logistic Regression dan Naive Bayes"
      ]
    },
    {
      "cell_type": "markdown",
      "metadata": {
        "id": "zYtzmXr6d6qd"
      },
      "source": [
        "## RNN\n",
        "\n",
        "Akan digunakan metode deep learning RNN untuk melakukan prediksi spam dari dataset yang diberikan, referensi model yang digunakan merujuk ke https://towardsdatascience.com/an-easy-tutorial-about-sentiment-analysis-with-deep-learning-and-keras-2bf52b9cba91"
      ]
    },
    {
      "cell_type": "markdown",
      "metadata": {
        "id": "yCQVzHRSC_IS"
      },
      "source": [
        "### Mengubah array data teks menjadi array numerik 2D"
      ]
    },
    {
      "cell_type": "code",
      "metadata": {
        "id": "OqP-vRquEcwx"
      },
      "source": [
        "X = data['Teks Bersih']\n",
        "y = data['label']\n",
        "\n",
        "\n",
        "y = pd.Categorical(y)\n",
        "y = y.codes\n",
        "\n",
        "# Import to_categorical from keras utils module\n",
        "from tensorflow.keras.utils import to_categorical\n",
        "\n",
        "y = to_categorical(y)\n",
        "\n",
        "X_train, X_test, y_train, y_test = train_test_split(X, y, test_size = 0.3, random_state = 111, stratify = y)\n"
      ],
      "execution_count": null,
      "outputs": []
    },
    {
      "cell_type": "code",
      "metadata": {
        "id": "bSdwghMKd5-8"
      },
      "source": [
        "from keras.preprocessing.text import Tokenizer\n",
        "from keras.preprocessing.sequence import pad_sequences\n",
        "from keras import regularizers\n",
        "\n",
        "\n",
        "max_len = max([len(s.split()) for s in X_train])\n",
        "\n",
        "tokenizer = Tokenizer()\n",
        "tokenizer.fit_on_texts(X_train)\n",
        "encoded_docs = tokenizer.texts_to_sequences(X_train)\n",
        "X_train = pad_sequences(encoded_docs, maxlen = max_len, padding = 'post')\n",
        "\n",
        "encoded_docs_test = tokenizer.texts_to_sequences(X_test)\n",
        "X_test = pad_sequences(encoded_docs_test, maxlen = max_len, padding = 'post')\n",
        "\n"
      ],
      "execution_count": null,
      "outputs": []
    },
    {
      "cell_type": "markdown",
      "metadata": {
        "id": "sIl_ognfFGGa"
      },
      "source": [
        "### Model RNN"
      ]
    },
    {
      "cell_type": "code",
      "metadata": {
        "id": "XvMtyCQUE23U",
        "colab": {
          "base_uri": "https://localhost:8080/"
        },
        "outputId": "7111269c-5e27-4af9-e5fa-07237d75814f"
      },
      "source": [
        "from keras.models import Sequential\n",
        "from keras.layers import Dense, LSTM, Embedding, Bidirectional,Dropout\n",
        "from keras.callbacks import ModelCheckpoint, EarlyStopping\n",
        "\n",
        "model = Sequential()\n",
        "\n",
        "# Vocab Size\n",
        "vocab_size = len(tokenizer.index_word) + 1\n",
        "\n",
        "# Embedding Layer\n",
        "model.add(Embedding(vocab_size, 150, input_length = max_len))\n",
        "\n",
        "# LSTM layer\n",
        "model.add(LSTM(15, dropout = 0.5))\n",
        "\n",
        "# Another Hidden Layer\n",
        "model.add(Dropout(0.5))\n",
        "\n",
        "# Output layer\n",
        "model.add(Dense(3, activation = 'softmax'))\n",
        "\n",
        "# Compile model\n",
        "model.compile(optimizer = 'rmsprop', loss = 'categorical_crossentropy', metrics = ['accuracy'])\n",
        "\n",
        "# Save the best model\n",
        "checkpoint = ModelCheckpoint(\"best_model.hdf5\", monitor = 'val_accuracy', verbose = 1, save_best_only = True,\n",
        "                             )\n",
        "\n",
        "# Fit the model\n",
        "history = model.fit(X_train,y_train, epochs = 70, validation_data = (X_test, y_test), callbacks = [checkpoint])"
      ],
      "execution_count": null,
      "outputs": [
        {
          "output_type": "stream",
          "text": [
            "Epoch 1/70\n",
            "25/25 [==============================] - 4s 72ms/step - loss: 1.0573 - accuracy: 0.4799 - val_loss: 1.0349 - val_accuracy: 0.4985\n",
            "\n",
            "Epoch 00001: val_accuracy improved from -inf to 0.49854, saving model to best_model.hdf5\n",
            "Epoch 2/70\n",
            "25/25 [==============================] - 1s 23ms/step - loss: 1.0530 - accuracy: 0.4880 - val_loss: 1.0299 - val_accuracy: 0.4985\n",
            "\n",
            "Epoch 00002: val_accuracy did not improve from 0.49854\n",
            "Epoch 3/70\n",
            "25/25 [==============================] - 1s 23ms/step - loss: 1.0318 - accuracy: 0.4945 - val_loss: 0.8992 - val_accuracy: 0.5131\n",
            "\n",
            "Epoch 00003: val_accuracy improved from 0.49854 to 0.51312, saving model to best_model.hdf5\n",
            "Epoch 4/70\n",
            "25/25 [==============================] - 1s 23ms/step - loss: 0.7600 - accuracy: 0.6601 - val_loss: 0.5840 - val_accuracy: 0.7405\n",
            "\n",
            "Epoch 00004: val_accuracy improved from 0.51312 to 0.74052, saving model to best_model.hdf5\n",
            "Epoch 5/70\n",
            "25/25 [==============================] - 1s 22ms/step - loss: 0.5644 - accuracy: 0.7558 - val_loss: 0.5349 - val_accuracy: 0.7464\n",
            "\n",
            "Epoch 00005: val_accuracy improved from 0.74052 to 0.74636, saving model to best_model.hdf5\n",
            "Epoch 6/70\n",
            "25/25 [==============================] - 1s 22ms/step - loss: 0.5263 - accuracy: 0.7494 - val_loss: 0.5132 - val_accuracy: 0.7522\n",
            "\n",
            "Epoch 00006: val_accuracy improved from 0.74636 to 0.75219, saving model to best_model.hdf5\n",
            "Epoch 7/70\n",
            "25/25 [==============================] - 1s 23ms/step - loss: 0.5014 - accuracy: 0.7331 - val_loss: 0.5849 - val_accuracy: 0.7201\n",
            "\n",
            "Epoch 00007: val_accuracy did not improve from 0.75219\n",
            "Epoch 8/70\n",
            "25/25 [==============================] - 1s 23ms/step - loss: 0.4761 - accuracy: 0.7155 - val_loss: 0.5854 - val_accuracy: 0.7230\n",
            "\n",
            "Epoch 00008: val_accuracy did not improve from 0.75219\n",
            "Epoch 9/70\n",
            "25/25 [==============================] - 1s 22ms/step - loss: 0.5011 - accuracy: 0.7724 - val_loss: 0.5511 - val_accuracy: 0.7347\n",
            "\n",
            "Epoch 00009: val_accuracy did not improve from 0.75219\n",
            "Epoch 10/70\n",
            "25/25 [==============================] - 1s 23ms/step - loss: 0.4482 - accuracy: 0.7558 - val_loss: 0.5126 - val_accuracy: 0.7493\n",
            "\n",
            "Epoch 00010: val_accuracy did not improve from 0.75219\n",
            "Epoch 11/70\n",
            "25/25 [==============================] - 1s 23ms/step - loss: 0.4328 - accuracy: 0.7484 - val_loss: 0.7242 - val_accuracy: 0.7493\n",
            "\n",
            "Epoch 00011: val_accuracy did not improve from 0.75219\n",
            "Epoch 12/70\n",
            "25/25 [==============================] - 1s 23ms/step - loss: 0.4722 - accuracy: 0.7851 - val_loss: 0.5596 - val_accuracy: 0.7434\n",
            "\n",
            "Epoch 00012: val_accuracy did not improve from 0.75219\n",
            "Epoch 13/70\n",
            "25/25 [==============================] - 1s 24ms/step - loss: 0.4707 - accuracy: 0.7763 - val_loss: 0.5906 - val_accuracy: 0.7464\n",
            "\n",
            "Epoch 00013: val_accuracy did not improve from 0.75219\n",
            "Epoch 14/70\n",
            "25/25 [==============================] - 1s 22ms/step - loss: 0.4162 - accuracy: 0.7969 - val_loss: 0.6015 - val_accuracy: 0.7434\n",
            "\n",
            "Epoch 00014: val_accuracy did not improve from 0.75219\n",
            "Epoch 15/70\n",
            "25/25 [==============================] - 1s 22ms/step - loss: 0.4424 - accuracy: 0.7521 - val_loss: 0.6039 - val_accuracy: 0.7493\n",
            "\n",
            "Epoch 00015: val_accuracy did not improve from 0.75219\n",
            "Epoch 16/70\n",
            "25/25 [==============================] - 1s 24ms/step - loss: 0.4141 - accuracy: 0.7591 - val_loss: 0.6007 - val_accuracy: 0.7522\n",
            "\n",
            "Epoch 00016: val_accuracy did not improve from 0.75219\n",
            "Epoch 17/70\n",
            "25/25 [==============================] - 1s 24ms/step - loss: 0.4141 - accuracy: 0.7721 - val_loss: 0.6535 - val_accuracy: 0.7551\n",
            "\n",
            "Epoch 00017: val_accuracy improved from 0.75219 to 0.75510, saving model to best_model.hdf5\n",
            "Epoch 18/70\n",
            "25/25 [==============================] - 1s 23ms/step - loss: 0.4096 - accuracy: 0.7729 - val_loss: 0.6579 - val_accuracy: 0.7318\n",
            "\n",
            "Epoch 00018: val_accuracy did not improve from 0.75510\n",
            "Epoch 19/70\n",
            "25/25 [==============================] - 1s 24ms/step - loss: 0.4039 - accuracy: 0.7860 - val_loss: 0.6392 - val_accuracy: 0.7464\n",
            "\n",
            "Epoch 00019: val_accuracy did not improve from 0.75510\n",
            "Epoch 20/70\n",
            "25/25 [==============================] - 1s 23ms/step - loss: 0.4262 - accuracy: 0.7485 - val_loss: 0.6210 - val_accuracy: 0.7434\n",
            "\n",
            "Epoch 00020: val_accuracy did not improve from 0.75510\n",
            "Epoch 21/70\n",
            "25/25 [==============================] - 1s 24ms/step - loss: 0.4002 - accuracy: 0.7627 - val_loss: 0.6945 - val_accuracy: 0.7464\n",
            "\n",
            "Epoch 00021: val_accuracy did not improve from 0.75510\n",
            "Epoch 22/70\n",
            "25/25 [==============================] - 1s 23ms/step - loss: 0.4062 - accuracy: 0.7604 - val_loss: 0.7316 - val_accuracy: 0.7376\n",
            "\n",
            "Epoch 00022: val_accuracy did not improve from 0.75510\n",
            "Epoch 23/70\n",
            "25/25 [==============================] - 1s 22ms/step - loss: 0.4276 - accuracy: 0.7518 - val_loss: 0.7218 - val_accuracy: 0.7493\n",
            "\n",
            "Epoch 00023: val_accuracy did not improve from 0.75510\n",
            "Epoch 24/70\n",
            "25/25 [==============================] - 1s 22ms/step - loss: 0.3971 - accuracy: 0.7765 - val_loss: 0.6396 - val_accuracy: 0.7638\n",
            "\n",
            "Epoch 00024: val_accuracy improved from 0.75510 to 0.76385, saving model to best_model.hdf5\n",
            "Epoch 25/70\n",
            "25/25 [==============================] - 1s 23ms/step - loss: 0.3786 - accuracy: 0.8006 - val_loss: 0.7339 - val_accuracy: 0.7347\n",
            "\n",
            "Epoch 00025: val_accuracy did not improve from 0.76385\n",
            "Epoch 26/70\n",
            "25/25 [==============================] - 1s 22ms/step - loss: 0.4226 - accuracy: 0.7740 - val_loss: 0.6921 - val_accuracy: 0.7464\n",
            "\n",
            "Epoch 00026: val_accuracy did not improve from 0.76385\n",
            "Epoch 27/70\n",
            "25/25 [==============================] - 1s 22ms/step - loss: 0.4026 - accuracy: 0.7940 - val_loss: 0.6085 - val_accuracy: 0.7784\n",
            "\n",
            "Epoch 00027: val_accuracy improved from 0.76385 to 0.77843, saving model to best_model.hdf5\n",
            "Epoch 28/70\n",
            "25/25 [==============================] - 1s 22ms/step - loss: 0.3696 - accuracy: 0.8110 - val_loss: 0.8033 - val_accuracy: 0.6560\n",
            "\n",
            "Epoch 00028: val_accuracy did not improve from 0.77843\n",
            "Epoch 29/70\n",
            "25/25 [==============================] - 1s 22ms/step - loss: 0.4029 - accuracy: 0.7575 - val_loss: 0.6208 - val_accuracy: 0.7697\n",
            "\n",
            "Epoch 00029: val_accuracy did not improve from 0.77843\n",
            "Epoch 30/70\n",
            "25/25 [==============================] - 1s 21ms/step - loss: 0.3455 - accuracy: 0.8683 - val_loss: 0.6153 - val_accuracy: 0.8192\n",
            "\n",
            "Epoch 00030: val_accuracy improved from 0.77843 to 0.81924, saving model to best_model.hdf5\n",
            "Epoch 31/70\n",
            "25/25 [==============================] - 1s 25ms/step - loss: 0.2989 - accuracy: 0.9284 - val_loss: 0.6951 - val_accuracy: 0.8280\n",
            "\n",
            "Epoch 00031: val_accuracy improved from 0.81924 to 0.82799, saving model to best_model.hdf5\n",
            "Epoch 32/70\n",
            "25/25 [==============================] - 1s 24ms/step - loss: 0.2499 - accuracy: 0.9562 - val_loss: 0.5186 - val_accuracy: 0.8746\n",
            "\n",
            "Epoch 00032: val_accuracy improved from 0.82799 to 0.87464, saving model to best_model.hdf5\n",
            "Epoch 33/70\n",
            "25/25 [==============================] - 1s 23ms/step - loss: 0.2193 - accuracy: 0.9670 - val_loss: 0.6173 - val_accuracy: 0.8601\n",
            "\n",
            "Epoch 00033: val_accuracy did not improve from 0.87464\n",
            "Epoch 34/70\n",
            "25/25 [==============================] - 1s 24ms/step - loss: 0.2138 - accuracy: 0.9627 - val_loss: 0.5582 - val_accuracy: 0.8717\n",
            "\n",
            "Epoch 00034: val_accuracy did not improve from 0.87464\n",
            "Epoch 35/70\n",
            "25/25 [==============================] - 1s 23ms/step - loss: 0.1668 - accuracy: 0.9683 - val_loss: 0.5537 - val_accuracy: 0.8688\n",
            "\n",
            "Epoch 00035: val_accuracy did not improve from 0.87464\n",
            "Epoch 36/70\n",
            "25/25 [==============================] - 1s 22ms/step - loss: 0.1285 - accuracy: 0.9867 - val_loss: 0.5592 - val_accuracy: 0.8746\n",
            "\n",
            "Epoch 00036: val_accuracy did not improve from 0.87464\n",
            "Epoch 37/70\n",
            "25/25 [==============================] - 1s 22ms/step - loss: 0.1203 - accuracy: 0.9828 - val_loss: 0.5968 - val_accuracy: 0.8484\n",
            "\n",
            "Epoch 00037: val_accuracy did not improve from 0.87464\n",
            "Epoch 38/70\n",
            "25/25 [==============================] - 1s 24ms/step - loss: 0.1553 - accuracy: 0.9561 - val_loss: 0.6050 - val_accuracy: 0.8571\n",
            "\n",
            "Epoch 00038: val_accuracy did not improve from 0.87464\n",
            "Epoch 39/70\n",
            "25/25 [==============================] - 1s 22ms/step - loss: 0.1174 - accuracy: 0.9795 - val_loss: 0.9585 - val_accuracy: 0.7522\n",
            "\n",
            "Epoch 00039: val_accuracy did not improve from 0.87464\n",
            "Epoch 40/70\n",
            "25/25 [==============================] - 1s 23ms/step - loss: 0.1475 - accuracy: 0.9709 - val_loss: 0.5296 - val_accuracy: 0.8805\n",
            "\n",
            "Epoch 00040: val_accuracy improved from 0.87464 to 0.88047, saving model to best_model.hdf5\n",
            "Epoch 41/70\n",
            "25/25 [==============================] - 1s 23ms/step - loss: 0.0851 - accuracy: 0.9875 - val_loss: 0.5479 - val_accuracy: 0.8921\n",
            "\n",
            "Epoch 00041: val_accuracy improved from 0.88047 to 0.89213, saving model to best_model.hdf5\n",
            "Epoch 42/70\n",
            "25/25 [==============================] - 1s 23ms/step - loss: 0.0738 - accuracy: 0.9844 - val_loss: 0.5015 - val_accuracy: 0.9067\n",
            "\n",
            "Epoch 00042: val_accuracy improved from 0.89213 to 0.90671, saving model to best_model.hdf5\n",
            "Epoch 43/70\n",
            "25/25 [==============================] - 1s 22ms/step - loss: 0.0900 - accuracy: 0.9889 - val_loss: 0.5377 - val_accuracy: 0.8921\n",
            "\n",
            "Epoch 00043: val_accuracy did not improve from 0.90671\n",
            "Epoch 44/70\n",
            "25/25 [==============================] - 1s 23ms/step - loss: 0.0684 - accuracy: 0.9864 - val_loss: 0.5996 - val_accuracy: 0.8805\n",
            "\n",
            "Epoch 00044: val_accuracy did not improve from 0.90671\n",
            "Epoch 45/70\n",
            "25/25 [==============================] - 1s 24ms/step - loss: 0.0932 - accuracy: 0.9880 - val_loss: 0.6899 - val_accuracy: 0.8601\n",
            "\n",
            "Epoch 00045: val_accuracy did not improve from 0.90671\n",
            "Epoch 46/70\n",
            "25/25 [==============================] - 1s 21ms/step - loss: 0.1066 - accuracy: 0.9789 - val_loss: 0.6571 - val_accuracy: 0.8630\n",
            "\n",
            "Epoch 00046: val_accuracy did not improve from 0.90671\n",
            "Epoch 47/70\n",
            "25/25 [==============================] - 1s 22ms/step - loss: 0.1083 - accuracy: 0.9824 - val_loss: 0.6548 - val_accuracy: 0.8805\n",
            "\n",
            "Epoch 00047: val_accuracy did not improve from 0.90671\n",
            "Epoch 48/70\n",
            "25/25 [==============================] - 1s 22ms/step - loss: 0.0718 - accuracy: 0.9868 - val_loss: 0.6806 - val_accuracy: 0.8863\n",
            "\n",
            "Epoch 00048: val_accuracy did not improve from 0.90671\n",
            "Epoch 49/70\n",
            "25/25 [==============================] - 1s 23ms/step - loss: 0.0631 - accuracy: 0.9901 - val_loss: 0.7553 - val_accuracy: 0.8805\n",
            "\n",
            "Epoch 00049: val_accuracy did not improve from 0.90671\n",
            "Epoch 50/70\n",
            "25/25 [==============================] - 1s 22ms/step - loss: 0.0593 - accuracy: 0.9943 - val_loss: 0.7135 - val_accuracy: 0.8863\n",
            "\n",
            "Epoch 00050: val_accuracy did not improve from 0.90671\n",
            "Epoch 51/70\n",
            "25/25 [==============================] - 1s 24ms/step - loss: 0.1118 - accuracy: 0.9877 - val_loss: 0.7088 - val_accuracy: 0.8921\n",
            "\n",
            "Epoch 00051: val_accuracy did not improve from 0.90671\n",
            "Epoch 52/70\n",
            "25/25 [==============================] - 1s 24ms/step - loss: 0.0527 - accuracy: 0.9943 - val_loss: 0.7017 - val_accuracy: 0.8921\n",
            "\n",
            "Epoch 00052: val_accuracy did not improve from 0.90671\n",
            "Epoch 53/70\n",
            "25/25 [==============================] - 1s 23ms/step - loss: 0.0614 - accuracy: 0.9927 - val_loss: 0.7192 - val_accuracy: 0.8921\n",
            "\n",
            "Epoch 00053: val_accuracy did not improve from 0.90671\n",
            "Epoch 54/70\n",
            "25/25 [==============================] - 1s 23ms/step - loss: 0.0739 - accuracy: 0.9906 - val_loss: 0.6750 - val_accuracy: 0.8892\n",
            "\n",
            "Epoch 00054: val_accuracy did not improve from 0.90671\n",
            "Epoch 55/70\n",
            "25/25 [==============================] - 1s 22ms/step - loss: 0.0302 - accuracy: 0.9955 - val_loss: 0.7176 - val_accuracy: 0.8834\n",
            "\n",
            "Epoch 00055: val_accuracy did not improve from 0.90671\n",
            "Epoch 56/70\n",
            "25/25 [==============================] - 1s 24ms/step - loss: 0.0307 - accuracy: 0.9962 - val_loss: 0.7401 - val_accuracy: 0.8863\n",
            "\n",
            "Epoch 00056: val_accuracy did not improve from 0.90671\n",
            "Epoch 57/70\n",
            "25/25 [==============================] - 1s 22ms/step - loss: 0.0543 - accuracy: 0.9889 - val_loss: 0.8039 - val_accuracy: 0.8892\n",
            "\n",
            "Epoch 00057: val_accuracy did not improve from 0.90671\n",
            "Epoch 58/70\n",
            "25/25 [==============================] - 1s 22ms/step - loss: 0.0460 - accuracy: 0.9929 - val_loss: 0.8269 - val_accuracy: 0.8921\n",
            "\n",
            "Epoch 00058: val_accuracy did not improve from 0.90671\n",
            "Epoch 59/70\n",
            "25/25 [==============================] - 1s 23ms/step - loss: 0.0651 - accuracy: 0.9907 - val_loss: 0.8618 - val_accuracy: 0.8863\n",
            "\n",
            "Epoch 00059: val_accuracy did not improve from 0.90671\n",
            "Epoch 60/70\n",
            "25/25 [==============================] - 1s 22ms/step - loss: 0.0719 - accuracy: 0.9897 - val_loss: 0.7573 - val_accuracy: 0.9009\n",
            "\n",
            "Epoch 00060: val_accuracy did not improve from 0.90671\n",
            "Epoch 61/70\n",
            "25/25 [==============================] - 1s 23ms/step - loss: 0.0274 - accuracy: 0.9957 - val_loss: 0.7920 - val_accuracy: 0.8921\n",
            "\n",
            "Epoch 00061: val_accuracy did not improve from 0.90671\n",
            "Epoch 62/70\n",
            "25/25 [==============================] - 1s 22ms/step - loss: 0.0302 - accuracy: 0.9954 - val_loss: 0.8447 - val_accuracy: 0.8921\n",
            "\n",
            "Epoch 00062: val_accuracy did not improve from 0.90671\n",
            "Epoch 63/70\n",
            "25/25 [==============================] - 1s 24ms/step - loss: 0.0363 - accuracy: 0.9929 - val_loss: 0.8704 - val_accuracy: 0.8863\n",
            "\n",
            "Epoch 00063: val_accuracy did not improve from 0.90671\n",
            "Epoch 64/70\n",
            "25/25 [==============================] - 1s 22ms/step - loss: 0.0236 - accuracy: 0.9965 - val_loss: 1.1008 - val_accuracy: 0.8659\n",
            "\n",
            "Epoch 00064: val_accuracy did not improve from 0.90671\n",
            "Epoch 65/70\n",
            "25/25 [==============================] - 1s 24ms/step - loss: 0.1492 - accuracy: 0.9832 - val_loss: 0.8383 - val_accuracy: 0.8950\n",
            "\n",
            "Epoch 00065: val_accuracy did not improve from 0.90671\n",
            "Epoch 66/70\n",
            "25/25 [==============================] - 1s 23ms/step - loss: 0.0133 - accuracy: 0.9998 - val_loss: 0.8979 - val_accuracy: 0.8892\n",
            "\n",
            "Epoch 00066: val_accuracy did not improve from 0.90671\n",
            "Epoch 67/70\n",
            "25/25 [==============================] - 1s 22ms/step - loss: 0.0235 - accuracy: 0.9975 - val_loss: 0.8959 - val_accuracy: 0.8950\n",
            "\n",
            "Epoch 00067: val_accuracy did not improve from 0.90671\n",
            "Epoch 68/70\n",
            "25/25 [==============================] - 1s 24ms/step - loss: 0.0375 - accuracy: 0.9943 - val_loss: 0.9682 - val_accuracy: 0.8805\n",
            "\n",
            "Epoch 00068: val_accuracy did not improve from 0.90671\n",
            "Epoch 69/70\n",
            "25/25 [==============================] - 1s 22ms/step - loss: 0.0326 - accuracy: 0.9961 - val_loss: 0.9332 - val_accuracy: 0.8892\n",
            "\n",
            "Epoch 00069: val_accuracy did not improve from 0.90671\n",
            "Epoch 70/70\n",
            "25/25 [==============================] - 1s 24ms/step - loss: 0.0347 - accuracy: 0.9932 - val_loss: 0.8900 - val_accuracy: 0.8950\n",
            "\n",
            "Epoch 00070: val_accuracy did not improve from 0.90671\n"
          ],
          "name": "stdout"
        }
      ]
    },
    {
      "cell_type": "markdown",
      "metadata": {
        "id": "ma1VDbLP6AlG"
      },
      "source": [
        "### Plot Loss"
      ]
    },
    {
      "cell_type": "code",
      "metadata": {
        "id": "Kxy7S23k5XHm"
      },
      "source": [
        "def plot_loss(loss,val_loss):\n",
        "  plt.figure()\n",
        "  plt.plot(loss)\n",
        "  plt.plot(val_loss)\n",
        "  plt.title('Model loss')\n",
        "  plt.ylabel('Loss')\n",
        "  plt.xlabel('Epoch')\n",
        "  plt.legend(['Train', 'Test'], loc='upper right')\n",
        "  plt.show()\n",
        "\n",
        "def plot_accuracy(acc,val_acc):\n",
        "  # Plot training & validation accuracy values\n",
        "  plt.figure()\n",
        "  plt.plot(acc)\n",
        "  plt.plot(val_acc)\n",
        "  plt.title('Model accuracy')\n",
        "  plt.ylabel('Accuracy')\n",
        "  plt.xlabel('Epoch')\n",
        "  plt.legend(['Train', 'Test'], loc='upper left')\n",
        "  plt.show()"
      ],
      "execution_count": null,
      "outputs": []
    },
    {
      "cell_type": "code",
      "metadata": {
        "colab": {
          "base_uri": "https://localhost:8080/",
          "height": 299
        },
        "id": "2EYNs9U_6NFc",
        "outputId": "a4dc9280-85c3-4a25-98ea-e446a112c751"
      },
      "source": [
        "# Plot train vs test loss during training\n",
        "plot_loss(history.history['loss'], history.history['val_loss'])"
      ],
      "execution_count": null,
      "outputs": [
        {
          "output_type": "display_data",
          "data": {
            "image/png": "[encoded data removed]",
            "text/plain": [
              "<Figure size 432x288 with 1 Axes>"
            ]
          },
          "metadata": {
            "tags": [],
            "needs_background": "light"
          }
        }
      ]
    },
    {
      "cell_type": "markdown",
      "metadata": {
        "id": "d0plBDCq6hYg"
      },
      "source": [
        "### Plot Accuracy"
      ]
    },
    {
      "cell_type": "code",
      "metadata": {
        "colab": {
          "base_uri": "https://localhost:8080/",
          "height": 299
        },
        "id": "k07UDCRf6jE2",
        "outputId": "efe6529e-7cdf-4393-df19-cce494d945f1"
      },
      "source": [
        "plot_accuracy(history.history['accuracy'], history.history['val_accuracy'])"
      ],
      "execution_count": null,
      "outputs": [
        {
          "output_type": "display_data",
          "data": {
            "image/png": "[encoded data removed]",
            "text/plain": [
              "<Figure size 432x288 with 1 Axes>"
            ]
          },
          "metadata": {
            "tags": [],
            "needs_background": "light"
          }
        }
      ]
    },
    {
      "cell_type": "markdown",
      "metadata": {
        "id": "z5qxhkRnC44X"
      },
      "source": [
        "## Apakah performa model meningkat jika lebih banyak data yang digunakan?"
      ]
    },
    {
      "cell_type": "code",
      "metadata": {
        "id": "xootCiv4C-Jy"
      },
      "source": [
        "initial_weights = model.get_weights()\n",
        "train_accs = []\n",
        "test_accs = []\n",
        "training_sizes = [ 125,  502,  879, 1255]\n",
        "early_stop = EarlyStopping(monitor = 'loss', patience = 1)"
      ],
      "execution_count": null,
      "outputs": []
    },
    {
      "cell_type": "code",
      "metadata": {
        "colab": {
          "base_uri": "https://localhost:8080/"
        },
        "id": "99qcnh5DDN-_",
        "outputId": "126b92a9-5086-4724-8cca-1f10dc471687"
      },
      "source": [
        "for size in training_sizes:\n",
        "  \t# Get a fraction of training data (we only care about the training data)\n",
        "    X_train_frac, y_train_frac = X_train[:size], y_train[:size]\n",
        "\n",
        "    # Reset the model to the initial weights and train it on the new training data fraction\n",
        "    model.set_weights(initial_weights)\n",
        "    model.fit(X_train_frac, y_train_frac, epochs = 50, callbacks = [early_stop], verbose = 0)\n",
        "\n",
        "    # Evaluate and store both: the training data fraction and the complete test set results\n",
        "    train_accs.append(model.evaluate(X_train, y_train)[1])\n",
        "    test_accs.append(model.evaluate(X_test, y_test)[1])"
      ],
      "execution_count": null,
      "outputs": [
        {
          "output_type": "stream",
          "text": [
            "25/25 [==============================] - 2s 8ms/step - loss: 0.0000e+00 - accuracy: 1.0000\n",
            "11/11 [==============================] - 0s 9ms/step - loss: 1.1144 - accuracy: 0.9125\n",
            "25/25 [==============================] - 0s 9ms/step - loss: 0.0000e+00 - accuracy: 1.0000\n",
            "11/11 [==============================] - 0s 9ms/step - loss: 1.1257 - accuracy: 0.9096\n",
            "25/25 [==============================] - 0s 8ms/step - loss: 1.0431e-09 - accuracy: 1.0000\n",
            "11/11 [==============================] - 0s 8ms/step - loss: 1.0773 - accuracy: 0.9096\n",
            "25/25 [==============================] - 0s 10ms/step - loss: 0.0000e+00 - accuracy: 1.0000\n",
            "11/11 [==============================] - 0s 9ms/step - loss: 1.0654 - accuracy: 0.9184\n"
          ],
          "name": "stdout"
        }
      ]
    },
    {
      "cell_type": "code",
      "metadata": {
        "colab": {
          "base_uri": "https://localhost:8080/",
          "height": 299
        },
        "id": "GTx8cb-WDQoR",
        "outputId": "4c72c677-c2f4-4ee7-adf7-4594407e7dce"
      },
      "source": [
        "# Plot train vs test accuracies\n",
        "plot_accuracy(train_accs, test_accs)"
      ],
      "execution_count": null,
      "outputs": [
        {
          "output_type": "display_data",
          "data": {
            "image/png": "[encoded data removed]",
            "text/plain": [
              "<Figure size 432x288 with 1 Axes>"
            ]
          },
          "metadata": {
            "tags": [],
            "needs_background": "light"
          }
        }
      ]
    },
    {
      "cell_type": "code",
      "metadata": {
        "colab": {
          "base_uri": "https://localhost:8080/",
          "height": 299
        },
        "id": "JeJjAuBgDRy9",
        "outputId": "2ded10bb-c90f-4210-d7d5-b46f8aa26bc4"
      },
      "source": [
        "plot_loss(train_accs, test_accs)"
      ],
      "execution_count": null,
      "outputs": [
        {
          "output_type": "display_data",
          "data": {
            "image/png": "[encoded data removed]",
            "text/plain": [
              "<Figure size 432x288 with 1 Axes>"
            ]
          },
          "metadata": {
            "tags": [],
            "needs_background": "light"
          }
        }
      ]
    },
    {
      "cell_type": "markdown",
      "metadata": {
        "id": "AFs1qryoDqZX"
      },
      "source": [
        "Sepertinya jumlah data yang digunakan tidak terlalu berpengaruh pada model yang digunakan"
      ]
    }
  ]
}